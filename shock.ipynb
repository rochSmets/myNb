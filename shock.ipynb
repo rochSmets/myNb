{
 "cells": [
  {
   "cell_type": "code",
   "execution_count": 1,
   "id": "0dd3578f-1c55-4977-984f-12f86f1d4515",
   "metadata": {},
   "outputs": [],
   "source": [
    "import numpy as np\n",
    "import matplotlib.pyplot as plt"
   ]
  },
  {
   "cell_type": "markdown",
   "id": "fe057176-c72e-46aa-9600-632fbcd441be",
   "metadata": {},
   "source": [
    "Initial value of the plasma parameters :\n",
    "* $\\rho_0$ the upstream charge density : `n0`\n",
    "* $B_0$ the upstream modulus of the magnetic field : `B0`\n",
    "* $\\beta_0$ the upstream plasma parameter : `beta0`\n",
    "* $\\Theta_0$ the angle between the upstream magnetic field and the normal to the shock : `theta0`"
   ]
  },
  {
   "cell_type": "code",
   "execution_count": 2,
   "id": "33d46c31-a617-427b-9bb5-2373f09e15b9",
   "metadata": {},
   "outputs": [],
   "source": [
    "n0 = 1.0\n",
    "B0 = 1.0\n",
    "beta0 = 0.8\n",
    "theta0 = 30*np.pi/180.0"
   ]
  },
  {
   "cell_type": "markdown",
   "id": "4ffca08f-72c3-43eb-9e2f-176df72657d8",
   "metadata": {},
   "source": [
    "We use `n` and `T` index notation for normal and tangential, respectively. Following the definition of `theta`"
   ]
  },
  {
   "cell_type": "code",
   "execution_count": 3,
   "id": "6b873ec6-8c5b-4e44-a258-38bb281f47da",
   "metadata": {},
   "outputs": [],
   "source": [
    "B0_n = np.cos(theta0)\n",
    "B0_T = np.sin(theta0)"
   ]
  },
  {
   "cell_type": "markdown",
   "id": "5016493b-b468-456a-978d-a88ff492ed6d",
   "metadata": {},
   "source": [
    "From the definition of the $\\beta$ parameter :"
   ]
  },
  {
   "cell_type": "code",
   "execution_count": 4,
   "id": "d479c54b-60df-439a-8c84-0fa40ad1cb1e",
   "metadata": {},
   "outputs": [],
   "source": [
    "p0 = 0.5*beta0*B0**2"
   ]
  },
  {
   "cell_type": "markdown",
   "id": "82630f12-14b7-4dd6-b14d-b9dabe237b18",
   "metadata": {},
   "source": [
    "We then have as unknown : `n0`, `n1`, `v0_n`, `v0_T`, `v1_n`, `v1_T`, `p0`, `p1`, `B0_n` `B0_T`, `B1_n`, `B1_T`, that is 12 unknowns.\n",
    "We already know as parameter : `n0`, `p0`, `B0_n` and `B0_T`. Furthermore, we are going to iterate on the normal valocity value. It could be on side 0 or side 1. We then know 5 initial velues so we need 7 equations for the 7 remaining unknowns."
   ]
  },
  {
   "cell_type": "markdown",
   "id": "70630987-dd6b-4a00-8eb9-84b73ff4afb0",
   "metadata": {},
   "source": [
    "**Maxwell-Thomson** : 1 equation"
   ]
  },
  {
   "cell_type": "code",
   "execution_count": 5,
   "id": "bd48d159-10e1-4de1-bf59-9b2be225ef7d",
   "metadata": {},
   "outputs": [],
   "source": [
    "# B0_n-B1_n = 0"
   ]
  },
  {
   "cell_type": "markdown",
   "id": "323225a6-2397-4585-af95-8b5a803e5ba1",
   "metadata": {},
   "source": [
    "**Maxwell-Faraday** (tangential) : 1 equation"
   ]
  },
  {
   "cell_type": "code",
   "execution_count": 6,
   "id": "d406107c-469f-4940-8c99-12db0470e3a1",
   "metadata": {},
   "outputs": [],
   "source": [
    "# v0_n*B0_T-B0_n*v0_T-(v1_n*B1_T-B1_n*v1_T) = 0"
   ]
  },
  {
   "cell_type": "markdown",
   "id": "22c9ea0b-d6ae-45ee-a6a2-ff3c193babaf",
   "metadata": {},
   "source": [
    "**de Hoffmann-Teller frame** : 1 equation for each side, that is total of 2 equations. As a consequence, Maxwell-Faraday will automatically be satisfied and is no more needed."
   ]
  },
  {
   "cell_type": "code",
   "execution_count": 7,
   "id": "4de04bb9-9c39-4a8a-ae5a-bcc99446eff6",
   "metadata": {},
   "outputs": [],
   "source": [
    "# v0_n*B0_T-B0_n*v0_T = 0\n",
    "# v1_n*B1_T-B1_n*v1_T = 0"
   ]
  },
  {
   "cell_type": "markdown",
   "id": "81e4c826-b3dc-469d-853f-7a2f4b306b95",
   "metadata": {},
   "source": [
    "**Mass conservation** : 1 equation"
   ]
  },
  {
   "cell_type": "code",
   "execution_count": 8,
   "id": "7dcb50c0-edd9-48dc-9241-9ce8a439915e",
   "metadata": {},
   "outputs": [],
   "source": [
    "# n0*v0_n-n1*v1_n = 0"
   ]
  },
  {
   "cell_type": "markdown",
   "id": "30c4b4f3-41ec-4415-8cee-d8da79b15785",
   "metadata": {},
   "source": [
    "**Momentum conservation** : 2 equations"
   ]
  },
  {
   "cell_type": "code",
   "execution_count": 9,
   "id": "2e7c9fd2-b508-4663-8a0c-377c905488a9",
   "metadata": {},
   "outputs": [],
   "source": [
    "# n0*v0_n**2+p0+0.5*(B0_T**2-B0_n**2)-(n1*v1_n**2+p1+0.5*(B1_T**2-B1_n**2)) = 0\n",
    "# n0*v0_n*v0_T-B0_n*B0_T-(n1*v1_n*v1_T-B1_n*B1_T) = 0"
   ]
  },
  {
   "cell_type": "markdown",
   "id": "6513ceda-7dd5-4d45-bedb-2fe8155d28ad",
   "metadata": {},
   "source": [
    "**Energy conservation** : 1 equation"
   ]
  },
  {
   "cell_type": "code",
   "execution_count": 10,
   "id": "bbd9fc94-e2df-4023-ac57-110ef89b8420",
   "metadata": {},
   "outputs": [],
   "source": [
    "# 0.5*n0*(v0_n**2+v0_T**2)*v0_n+2.5*p0*v0_n-B0_T*(B0_n*v0_T-B0_T*v0_n)-(0.5*n1*(v1_n**2+v1_T**2)*v1_n+2.5*p1*v1_n-B1_T*(B1_n*v1_T-B1_T*v1_n)) = 0"
   ]
  },
  {
   "cell_type": "markdown",
   "id": "a85b547d-583f-4bab-a541-63c9c63be536",
   "metadata": {},
   "source": [
    "Using the Maxwell-Faraday and the HT frame, energy conservation can be simplified as"
   ]
  },
  {
   "cell_type": "code",
   "execution_count": 11,
   "id": "5a4f3e66-3834-4ece-bf5e-0958e177f49b",
   "metadata": {},
   "outputs": [],
   "source": [
    "# n0*v0_n*v0**2+5*p0*v0_n-(n1*v1_n*v1**2+5*p0*v1_n) = 0"
   ]
  },
  {
   "cell_type": "markdown",
   "id": "5e403703-a55e-443e-93aa-0b0684b515a1",
   "metadata": {},
   "source": [
    "First, let see if we can find all the solution if iterating on the possible `v0_n` values. With the preceding 7 equations, one can analytically pre-compute `v0_T` and `B1_n`."
   ]
  },
  {
   "cell_type": "code",
   "execution_count": 12,
   "id": "06f157d8-63cb-4ba8-a40e-14fba4a7e3f9",
   "metadata": {},
   "outputs": [],
   "source": [
    "def compute0(v0_n, B0_n, B0_T):\n",
    "    # return the values of v0_T, B1_n\n",
    "    return v0_n*B0_T/B0_n, B0_n"
   ]
  },
  {
   "cell_type": "markdown",
   "id": "b4e7cab6-9ed0-4ccb-94fb-3e0149dbb315",
   "metadata": {},
   "source": [
    "We then define the cost function which depends on the 5 components vectors :\n",
    "`x = (n1, v1_n, v1_T, p1, B1_T)`\n",
    "with the `args` vector defined as `args = (n0,  v0_n, v0_T, p0, B0_n, B0_T, B1_n)`."
   ]
  },
  {
   "cell_type": "code",
   "execution_count": 13,
   "id": "ab9de009-ba76-4203-93d3-62763a4dd81e",
   "metadata": {},
   "outputs": [],
   "source": [
    "def cost0(x, *args):\n",
    "    n1, v1_n, v1_T, p1, B1_T = x\n",
    "    n0, v0_n, v0_T, p0, B0_n, B0_T, B1_n = args\n",
    "    \n",
    "    return [\n",
    "            n0*v0_n-n1*v1_n,\n",
    "            n0*v0_n**2+p0+0.5*B0_T**2-(n1*v1_n**2+p1+0.5*B1_T**2),\n",
    "            n0*v0_n*v0_T-B0_n*B0_T-(n1*v1_n*v1_T-B1_n*B1_T),\n",
    "            n0*v0_n*(v0_n**2+v0_T**2)+5*p0*v0_n-(n1*v1_n*(v1_n**2+v1_T**2)+5*p1*v1_n),\n",
    "            v1_n*B1_T-B1_n*v1_T\n",
    "           ]"
   ]
  },
  {
   "cell_type": "markdown",
   "id": "2e8e1876-1dd1-4123-bbd6-05eb46a20b00",
   "metadata": {},
   "source": [
    "We are also going to define a cost function `cost1` when iterating on `v1_n` (and the associated compute function `compute1`) because it could be of interest for some given branch of the solution. "
   ]
  },
  {
   "cell_type": "code",
   "execution_count": 14,
   "id": "e2c3646e-0b84-4a2e-ae6e-2b67f4037e1a",
   "metadata": {},
   "outputs": [],
   "source": [
    "def compute1(B0_n):\n",
    "    # return the values of B1_n\n",
    "    return B0_n"
   ]
  },
  {
   "cell_type": "code",
   "execution_count": 15,
   "id": "ec3ae436-0e85-4ba4-9932-efcf8bd8292e",
   "metadata": {},
   "outputs": [],
   "source": [
    "def cost1(x, *args):\n",
    "    n1, v0_n, v0_T, v1_T, p1, B1_T = x\n",
    "    n0, v1_n, p0, B0_n, B0_T, B1_n = args\n",
    "    \n",
    "    return [\n",
    "            n0*v0_n-n1*v1_n,\n",
    "            n0*v0_n**2+p0+0.5*B0_T**2-(n1*v1_n**2+p1+0.5*B1_T**2),\n",
    "            n0*v0_n*v0_T-B0_n*B0_T-(n1*v1_n*v1_T-B1_n*B1_T),\n",
    "            n0*v0_n*(v0_n**2+v0_T**2)+5*p0*v0_n-(n1*v1_n*(v1_n**2+v1_T**2)+5*p1*v1_n),\n",
    "            v0_n*B0_T-B0_n*v0_T,\n",
    "            v1_n*B1_T-B1_n*v1_T\n",
    "           ]"
   ]
  },
  {
   "cell_type": "code",
   "execution_count": 16,
   "id": "03cd6458-848d-443b-8416-436f021b9a78",
   "metadata": {},
   "outputs": [],
   "source": [
    "gamma = 5./3.\n",
    "\n",
    "# ___ magnetic field :\n",
    "B0 = np.sqrt(B0_n**2+B0_T**2)\n",
    "\n",
    "# ___ intermediate velocity :\n",
    "v0_i = B0_n/np.sqrt(n0)\n",
    "\n",
    "# ___ Alfven velocity :\n",
    "v0_A = B0/np.sqrt(n0)\n",
    "\n",
    "# ___ sound speed :\n",
    "c0_s = np.sqrt(gamma*p0/n0)\n",
    "\n",
    "# ___ slow mode :\n",
    "v0_s = np.sqrt(0.5*(v0_A**2+c0_s**2-np.sqrt((v0_A**2+c0_s**2)**2-4.0*v0_A**2*c0_s**2*(np.cos(theta0))**2)))\n",
    "\n",
    "# ___ fast mode :\n",
    "v0_f = np.sqrt(0.5*(v0_A**2+c0_s**2+np.sqrt((v0_A**2+c0_s**2)**2-4.0*v0_A**2*c0_s**2*(np.cos(theta0))**2)))"
   ]
  },
  {
   "cell_type": "code",
   "execution_count": 17,
   "id": "521c0bd2-844d-4589-85a5-985a69bb19c6",
   "metadata": {},
   "outputs": [
    {
     "name": "stdout",
     "output_type": "stream",
     "text": [
      "upstream sound speed            :  0.82\n",
      "upstream Alfven velocity        :  1.00\n",
      "upstream intermediate velocity  :  0.87\n",
      "upstream slow velocity          :  0.63\n",
      "upstream fast velocity          :  1.13\n"
     ]
    }
   ],
   "source": [
    "print(\"upstream sound speed            : %5.2f\" % c0_s)\n",
    "print(\"upstream Alfven velocity        : %5.2f\" % v0_A)\n",
    "print(\"upstream intermediate velocity  : %5.2f\" % v0_i)\n",
    "print(\"upstream slow velocity          : %5.2f\" % v0_s)\n",
    "print(\"upstream fast velocity          : %5.2f\" % v0_f)"
   ]
  },
  {
   "cell_type": "code",
   "execution_count": 18,
   "id": "2c7d03ef-6223-4cdf-9baf-10cfceea82d0",
   "metadata": {},
   "outputs": [],
   "source": [
    "from scipy.optimize import least_squares"
   ]
  },
  {
   "cell_type": "markdown",
   "id": "698e75d4-8fe5-40fd-ad04-51117e36030d",
   "metadata": {},
   "source": [
    "**Non-physical** branch : normal velocity is increasing through the shock"
   ]
  },
  {
   "cell_type": "code",
   "execution_count": 19,
   "id": "2ea940e2-9f26-4da5-b436-dedfe651320a",
   "metadata": {},
   "outputs": [],
   "source": [
    "v0_n_span_A = np.linspace(0.3, v0_s, 100)\n",
    "v1_n_span_A = np.zeros_like(v0_n_span_A)\n",
    "\n",
    "#       n1,  v1_n,  v1_T,    p1,  B1_T\n",
    "x0 = (1.01,  1.62,  0.35,  0.41,  0.49)\n",
    "\n",
    "for i, v0_n in enumerate(v0_n_span_A):\n",
    "    v0_T, B1_n = compute0(v0_n, B0_n, B0_T)\n",
    "    args=(n0, v0_n, v0_T, p0, B0_n, B0_T, B1_n)\n",
    "    sol = least_squares(cost0, x0, args=args, bounds=([0, np.inf]), method='trf')\n",
    "    n1, v1_n, v1_T, p1, B1_T = sol.x\n",
    "    v1_n_span_A[i] = v1_n\n",
    "    x0 = sol.x"
   ]
  },
  {
   "cell_type": "markdown",
   "id": "30a48b73-7bec-4604-bf95-b6407a56fbd3",
   "metadata": {},
   "source": [
    "**Slow shock** branch : the upstream normal velocity is larger than the slow magnetosonic mode"
   ]
  },
  {
   "cell_type": "code",
   "execution_count": 20,
   "id": "296b7fd9-fe45-4ec5-83fe-4363882dc1e6",
   "metadata": {},
   "outputs": [],
   "source": [
    "v0_n_span_B = np.linspace(0.635, v0_i, 100)\n",
    "v1_n_span_B = np.zeros_like(v0_n_span_B)\n",
    "\n",
    "#       n1,  v1_n,  v1_T,    p1,  B1_T\n",
    "x0 = (1.00,  0.63,  0.36,  0.41,  0.49)\n",
    "\n",
    "for i, v0_n in enumerate(v0_n_span_B):\n",
    "    v0_T, B1_n = compute0(v0_n, B0_n, B0_T)\n",
    "    args=(n0, v0_n, v0_T, p0, B0_n, B0_T, B1_n)\n",
    "    sol = least_squares(cost0, x0, args=args, bounds=([0, np.inf]), method='trf')\n",
    "    n1, v1_n, v1_T, p1, B1_T = sol.x\n",
    "    v1_n_span_B[i] = v1_n\n",
    "    x0 = sol.x\n",
    "# print(x0)\n",
    "# print(v0_T, B1_n)\n",
    "# print(args)"
   ]
  },
  {
   "cell_type": "markdown",
   "id": "c914966c-fc6d-4125-8c42-e0108b54e481",
   "metadata": {},
   "source": [
    "**Intermediate shock** branch : the upstream normal velocity is larger than the intermediate velocity"
   ]
  },
  {
   "cell_type": "code",
   "execution_count": 22,
   "id": "27bdec2a-d33a-42f4-b1c9-610be3572aa7",
   "metadata": {},
   "outputs": [],
   "source": [
    "v1_n_span_C = np.linspace(0.61, v0_i, 100)\n",
    "v0_n_span_C = np.zeros_like(v1_n_span_C)\n",
    "\n",
    "#       n1,  v0_n, v0_T, v1_T,   p1, B1_T\n",
    "x0 = (1.42,  0.87, 0.50, 0.00, 0.74, 0.00)\n",
    "\n",
    "for i, v1_n in enumerate(v1_n_span_C):\n",
    "    B1_n = compute1(B0_n)\n",
    "    args=(n0, v1_n, p0, B0_n, B0_T, B1_n)\n",
    "    sol = least_squares(cost1, x0, args=args, bounds=([(0, 0, 0, -np.inf, 0, -np.inf), (np.inf, np.inf, np.inf, 0, np.inf, 0)]))\n",
    "    n1, v0_n, v0_T, v1_T, p1, B1_T = sol.x\n",
    "    v0_n_span_C[i] = v0_n\n",
    "    x0 = sol.x\n",
    "# print(x0)\n",
    "# print(args)\n",
    "# (v0_n_span_C.max())"
   ]
  },
  {
   "cell_type": "markdown",
   "id": "3f839d17-e8ee-4b12-a0b4-931fb0bf32f8",
   "metadata": {},
   "source": [
    "**Non-physical** branch : normal velocity is increasing through the shock"
   ]
  },
  {
   "cell_type": "code",
   "execution_count": 23,
   "id": "85e4dfd3-3a6d-4242-b535-684bbd2fc341",
   "metadata": {},
   "outputs": [],
   "source": [
    "v1_n_span_D = np.linspace(0.87, 1.23, 100)\n",
    "v0_n_span_D = np.zeros_like(v1_n_span_D)\n",
    "\n",
    "#       n1,  v0_n,  v0_T,  v1_T,   p1,  B1_T\n",
    "x0 = (1.00,  0.87,  0.50, -0.50,  0.40, -0.50)\n",
    "\n",
    "for i, v1_n in enumerate(v1_n_span_D):\n",
    "    B1_n = compute1(B0_n)\n",
    "    args=(n0, v1_n, p0, B0_n, B0_T, B1_n)\n",
    "    sol = least_squares(cost1, x0, args=args, bounds=([(0, 0, 0, -np.inf, 0, -np.inf), (np.inf, np.inf, np.inf, 0, np.inf, 0)]))\n",
    "    n1, v0_n, v0_T, v1_T, p1, B1_T = sol.x\n",
    "    v0_n_span_D[i] = v0_n\n",
    "    x0 = sol.x\n",
    "# print(x0)"
   ]
  },
  {
   "cell_type": "markdown",
   "id": "674d3f32-d154-4ade-88cb-adac38c488f0",
   "metadata": {},
   "source": [
    "**Non-physical** branch : normal velocity is increasing through the shock"
   ]
  },
  {
   "cell_type": "code",
   "execution_count": 24,
   "id": "fa0d6558-d646-4fd1-aa5f-a186d0d00dcb",
   "metadata": {},
   "outputs": [],
   "source": [
    "v0_n_span_E = np.linspace(0.83, v0_f, 100)\n",
    "v1_n_span_E = np.zeros_like(v0_n_span_E)\n",
    "\n",
    "#       n1,  v1_n,  v1_T,    p1,  B1_T\n",
    "x0 = (0.67,  1.23,  0.00,  0.18,  0.00)\n",
    "\n",
    "for i, v0_n in enumerate(v0_n_span_E):\n",
    "    v0_T, B1_n = compute0(v0_n, B0_n, B0_T)\n",
    "    args=(n0, v0_n, v0_T, p0, B0_n, B0_T, B1_n)\n",
    "    sol = least_squares(cost0, x0, args=args, bounds=([(0, 0, 0, 0, 0), (np.inf, np.inf, np.inf, np.inf, np.inf)]))\n",
    "    n1, v1_n, v1_T, p1, B1_T = sol.x\n",
    "    v1_n_span_E[i] = v1_n\n",
    "    x0 = sol.x"
   ]
  },
  {
   "cell_type": "markdown",
   "id": "c80b146a-1949-4458-bc8e-abe7170e415e",
   "metadata": {},
   "source": [
    "**Fast shock** branch : the upstream normal velocity is larger than the slow magnetosonic mode"
   ]
  },
  {
   "cell_type": "code",
   "execution_count": 25,
   "id": "7c829431-c57c-4bca-8a49-012e9c69424a",
   "metadata": {},
   "outputs": [],
   "source": [
    "v0_n_span_F = np.linspace(v0_f, 1.40, 100)\n",
    "v1_n_span_F = np.zeros_like(v0_n_span_F)\n",
    "\n",
    "#       n1,  v1_n,  v1_T,    p1,  B1_T\n",
    "x0 = (0.10,  0.83,  0.64,  0.39,  0.49)\n",
    "\n",
    "for i, v0_n in enumerate(v0_n_span_F):\n",
    "    v0_T, B1_n = compute0(v0_n, B0_n, B0_T)\n",
    "    args=(n0, v0_n, v0_T, p0, B0_n, B0_T, B1_n)\n",
    "    sol = least_squares(cost0, x0, args=args, bounds=([(0, 0, 0, 0, 0), (np.inf, v0_n, np.inf, np.inf, np.inf)]))\n",
    "    n1, v1_n, v1_T, p1, B1_T = sol.x\n",
    "    v1_n_span_F[i] = v1_n\n",
    "    x0 = sol.x"
   ]
  },
  {
   "cell_type": "code",
   "execution_count": 40,
   "id": "9c65dc70-38d4-471c-9bda-cfd334062dc5",
   "metadata": {},
   "outputs": [
    {
     "data": {
      "application/vnd.jupyter.widget-view+json": {
       "model_id": "a8affcef31344628ad5e111cfbdb0080",
       "version_major": 2,
       "version_minor": 0
      },
      "image/png": "[encoded data removed]",
      "text/html": [
       "\n",
       "            <div style=\"display: inline-block;\">\n",
       "                <div class=\"jupyter-widgets widget-label\" style=\"text-align: center;\">\n",
       "                    Figure\n",
       "                </div>\n",
       "                <img src='data:image/png;base64,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' width=400.0/>\n",
       "            </div>\n",
       "        "
      ],
      "text/plain": [
       "Canvas(toolbar=Toolbar(toolitems=[('Home', 'Reset original view', 'home', 'home'), ('Back', 'Back to previous …"
      ]
     },
     "metadata": {},
     "output_type": "display_data"
    }
   ],
   "source": [
    "%matplotlib widget\n",
    "\n",
    "fig, ax = plt.subplots(figsize=(4, 4))\n",
    "cycle = plt.rcParams['axes.prop_cycle'].by_key()['color']\n",
    "\n",
    "ax.plot([0, 2], [0, 2], color='k')\n",
    "\n",
    "ax.plot(v0_n_span_A, v1_n_span_A, color='lightgray', linestyle=':')\n",
    "ax.plot(v0_n_span_B, v1_n_span_B, color=cycle[0])\n",
    "ax.plot(v0_n_span_C, v1_n_span_C, color=cycle[1])\n",
    "ax.plot(v0_n_span_D, v1_n_span_D, color='lightgray', linestyle=':')\n",
    "ax.plot(v0_n_span_E, v1_n_span_E, color='lightgray', linestyle=':')\n",
    "ax.plot(v0_n_span_F, v1_n_span_F, color=cycle[4])\n",
    "\n",
    "ax.plot([v0_s, v0_s], [0, v0_s], color='k', linestyle='--')\n",
    "ax.plot([v0_i, v0_i], [0, v0_i], color='k', linestyle='--')\n",
    "ax.plot([v0_f, v0_f], [0, v0_f], color='k', linestyle='--')\n",
    "\n",
    "ax.plot([0.91, 0.91], [0.4, 0.70], color='k', linestyle='--')\n",
    "\n",
    "ax.plot([v0_s], [v0_s], color='y', marker = \"o\", markersize=5)\n",
    "ax.plot([v0_i], [v0_i], color='k', marker = \"o\", markersize=5)\n",
    "ax.plot([v0_f], [v0_f], color='m', marker = \"o\", markersize=5)\n",
    "\n",
    "ax.plot([0.91], [0.70], color='r', marker = \"o\", markersize=5)\n",
    "\n",
    "ax.set_xlim([0.4, 1.4])\n",
    "ax.set_ylim([0.4, 1.4])\n",
    "ax.set_xlabel(\"vO_n (upstream)\")\n",
    "ax.set_ylabel(\"v1_n (downstream)\")\n",
    "\n",
    "plt.savefig(\"shock.pdf\", dpi=300)"
   ]
  },
  {
   "cell_type": "code",
   "execution_count": null,
   "id": "42a2691f-07e6-4bfd-afc9-c76df0711915",
   "metadata": {},
   "outputs": [],
   "source": []
  },
  {
   "cell_type": "code",
   "execution_count": null,
   "id": "1497c6eb-86e8-46bf-91c0-a9317a14caba",
   "metadata": {},
   "outputs": [],
   "source": []
  },
  {
   "cell_type": "code",
   "execution_count": null,
   "id": "6a0b65fa-8da8-41e0-8cc7-81cb7f9a2025",
   "metadata": {},
   "outputs": [],
   "source": []
  },
  {
   "cell_type": "code",
   "execution_count": null,
   "id": "a595c683-5f6b-49ac-b29b-bbfe03e2d2b6",
   "metadata": {},
   "outputs": [],
   "source": [
    "plt.clf()"
   ]
  }
 ],
 "metadata": {
  "kernelspec": {
   "display_name": "Python 3 (ipykernel)",
   "language": "python",
   "name": "python3"
  },
  "language_info": {
   "codemirror_mode": {
    "name": "ipython",
    "version": 3
   },
   "file_extension": ".py",
   "mimetype": "text/x-python",
   "name": "python",
   "nbconvert_exporter": "python",
   "pygments_lexer": "ipython3",
   "version": "3.12.6"
  }
 },
 "nbformat": 4,
 "nbformat_minor": 5
}
