{
 "cells": [
  {
   "cell_type": "code",
   "execution_count": null,
   "id": "0dd3578f-1c55-4977-984f-12f86f1d4515",
   "metadata": {},
   "outputs": [],
   "source": [
    "import numpy as np"
   ]
  },
  {
   "cell_type": "markdown",
   "id": "fe057176-c72e-46aa-9600-632fbcd441be",
   "metadata": {},
   "source": [
    "Initial value of the plasma parameters :\n",
    "* $\\rho_0$ the upstream charge density : `n0`\n",
    "* $B_0$ the upstream modulus of the magnetic field : `B0`\n",
    "* $\\beta_0$ the upstream plasma parameter : `beta0`\n",
    "* $\\Theta_0$ the angle between the upstream magnetic field and the normal to the shock : `theta0`"
   ]
  },
  {
   "cell_type": "code",
   "execution_count": null,
   "id": "33d46c31-a617-427b-9bb5-2373f09e15b9",
   "metadata": {},
   "outputs": [],
   "source": [
    "n0 = 1.0\n",
    "B0 = 1.0\n",
    "beta0 = 0.8\n",
    "theta0 = 30*np.pi/180.0"
   ]
  },
  {
   "cell_type": "markdown",
   "id": "4ffca08f-72c3-43eb-9e2f-176df72657d8",
   "metadata": {},
   "source": [
    "We use `n` and `T` index notation for normal and tangential, respectively. Following the definition of `theta`"
   ]
  },
  {
   "cell_type": "code",
   "execution_count": null,
   "id": "6b873ec6-8c5b-4e44-a258-38bb281f47da",
   "metadata": {},
   "outputs": [],
   "source": [
    "B0_n = np.cos(theta0)\n",
    "B0_T = np.sin(theta0)"
   ]
  },
  {
   "cell_type": "markdown",
   "id": "5016493b-b468-456a-978d-a88ff492ed6d",
   "metadata": {},
   "source": [
    "From the definition of the $\\beta$ parameter :"
   ]
  },
  {
   "cell_type": "code",
   "execution_count": null,
   "id": "d479c54b-60df-439a-8c84-0fa40ad1cb1e",
   "metadata": {},
   "outputs": [],
   "source": [
    "p0 = 0.5*beta0*B0**2"
   ]
  },
  {
   "cell_type": "markdown",
   "id": "d79c5c55-6795-4386-b8b0-f42d3758d208",
   "metadata": {},
   "source": [
    "One explore the range of upstream velocity normal to the shock"
   ]
  },
  {
   "cell_type": "code",
   "execution_count": null,
   "id": "56dcede1-11ee-4477-b8e4-eccbc1ddd654",
   "metadata": {},
   "outputs": [],
   "source": [
    "v0_n_span = np.linspace(0.05, 2, 40)\n",
    "print(v0_n_span)"
   ]
  },
  {
   "cell_type": "markdown",
   "id": "82630f12-14b7-4dd6-b14d-b9dabe237b18",
   "metadata": {},
   "source": [
    "We then have as unknown : `n0`, `n1`, `v0_n`, `v0_T`, `v1_n`, `v1_T`, `p0`, `p1`, `B0_n` `B0_T`, `B1_n`, `B1_T`, that is 12 unknowns.\n",
    "We already know as parameter or initial range of values : `n0`, `v0_n`, `p0`, `B0_n` and `B0_T`, that is 5 unknowns."
   ]
  },
  {
   "cell_type": "markdown",
   "id": "49cac6cb-df44-40a8-a989-66697dbb479c",
   "metadata": {},
   "source": [
    "We then need 7 equations from the RH jump equations :"
   ]
  },
  {
   "cell_type": "markdown",
   "id": "70630987-dd6b-4a00-8eb9-84b73ff4afb0",
   "metadata": {},
   "source": [
    "**Maxwell-Thomson** : 1 equation"
   ]
  },
  {
   "cell_type": "code",
   "execution_count": null,
   "id": "bd48d159-10e1-4de1-bf59-9b2be225ef7d",
   "metadata": {},
   "outputs": [],
   "source": [
    "# B1_n-B0_n = 0"
   ]
  },
  {
   "cell_type": "markdown",
   "id": "323225a6-2397-4585-af95-8b5a803e5ba1",
   "metadata": {},
   "source": [
    "**Maxwell-Faraday** (tangential) : 1 equation"
   ]
  },
  {
   "cell_type": "code",
   "execution_count": null,
   "id": "d406107c-469f-4940-8c99-12db0470e3a1",
   "metadata": {},
   "outputs": [],
   "source": [
    "# v0_n*B0_T-B0_n*v0_T-v1_n*B1_T-B1_n*v1_T = 0"
   ]
  },
  {
   "cell_type": "markdown",
   "id": "22c9ea0b-d6ae-45ee-a6a2-ff3c193babaf",
   "metadata": {},
   "source": [
    "**de Hoffmann-Teller frame** : 1 equation"
   ]
  },
  {
   "cell_type": "code",
   "execution_count": null,
   "id": "4de04bb9-9c39-4a8a-ae5a-bcc99446eff6",
   "metadata": {},
   "outputs": [],
   "source": [
    "# B0_n*v0_T-v0_n*B0_T = 0\n",
    "# the second equation (just below) is then the same as given by Maxwell-Faraday\n",
    "# B1_n*v1_T-v1_n*B1_T = 0"
   ]
  },
  {
   "cell_type": "markdown",
   "id": "81e4c826-b3dc-469d-853f-7a2f4b306b95",
   "metadata": {},
   "source": [
    "**Mass conservaton** : 1 equation"
   ]
  },
  {
   "cell_type": "code",
   "execution_count": null,
   "id": "7dcb50c0-edd9-48dc-9241-9ce8a439915e",
   "metadata": {},
   "outputs": [],
   "source": [
    "# n0*v0_n-n1*v1_n = 0"
   ]
  },
  {
   "cell_type": "markdown",
   "id": "30c4b4f3-41ec-4415-8cee-d8da79b15785",
   "metadata": {},
   "source": [
    "**Momentum conservation** : 2 equations"
   ]
  },
  {
   "cell_type": "code",
   "execution_count": null,
   "id": "2e7c9fd2-b508-4663-8a0c-377c905488a9",
   "metadata": {},
   "outputs": [],
   "source": [
    "# n0*v0_n**2+p0+0.5*(B0_T**2-B0_n**2)-n1*v1_n**2+p1+0.5*(B1_T**2-B1_n**2) = 0\n",
    "# n0*v0_n*v0_T-B0_n*B0_T-n1*v1_n*v1_T-B1_n*B1_T = 0"
   ]
  },
  {
   "cell_type": "markdown",
   "id": "6513ceda-7dd5-4d45-bedb-2fe8155d28ad",
   "metadata": {},
   "source": [
    "**Energy conservation** : 1 equation"
   ]
  },
  {
   "cell_type": "code",
   "execution_count": null,
   "id": "bbd9fc94-e2df-4023-ac57-110ef89b8420",
   "metadata": {},
   "outputs": [],
   "source": [
    "# 0.5*(v0_n**2+v0_T**2)*v0_n+2.5*p0*v0_n-B0_T*(B0_n*v0_T-B0_T*v0_n)-0.5*(v1_n**2+v1_T**2)*v1_n+2.5*p1*v1_n-B1_T*(B1_n*v1_T-B1_T*v1_n) = 0"
   ]
  },
  {
   "cell_type": "markdown",
   "id": "a85b547d-583f-4bab-a541-63c9c63be536",
   "metadata": {},
   "source": [
    "Using the Maxwell-Faraday and the HT frame, energy conservation can be simplified as"
   ]
  },
  {
   "cell_type": "code",
   "execution_count": null,
   "id": "5a4f3e66-3834-4ece-bf5e-0958e177f49b",
   "metadata": {},
   "outputs": [],
   "source": [
    "# 0.5*(v0_n**2+v0_T**2)*v0_n+2.5*p0*v0_n-0.5*(v1_n**2+v1_T**2)*v1_n+2.5*p1*v1_n = 0"
   ]
  },
  {
   "cell_type": "markdown",
   "id": "b4e7cab6-9ed0-4ccb-94fb-3e0149dbb315",
   "metadata": {},
   "source": [
    "We then define the cost function which depends on the 7 components vectors :\n",
    "`x = (n1, v0_n, v0_T, v1_T, p1, B1_n, B1_T)`\n",
    "with the `args` vector defined as `args = (n0,  v0_n, p0, B0_n, B0_T)`"
   ]
  },
  {
   "cell_type": "code",
   "execution_count": null,
   "id": "ab9de009-ba76-4203-93d3-62763a4dd81e",
   "metadata": {},
   "outputs": [],
   "source": [
    "def cost(x, *args):\n",
    "    n1, v0_T, v1_n, v1_T, p1, B1_n, B1_T = x\n",
    "    n0, v0_n, p0, B0_n, B0_T = args\n",
    "    \n",
    "    return [n0*v0_n-n1*v1_n,\n",
    "            n0*v0_n**2+p0+0.5*(B0_T**2-B0_n**2)-(n1*v1_n**2+p1+0.5*(B1_T**2-B1_n**2)),\n",
    "            n0*v0_n*v0_T-B0_n*B0_T-(n1*v1_n*v1_T-B1_n*B1_T),\n",
    "            v0_n+v0_T+5*p0/n0-(v1_n+v1_T+5*p1/n1),\n",
    "            v0_n*B0_T-B0_n*v0_T,\n",
    "            v1_n*B1_T-B1_n*v1_T,\n",
    "            B0_n-B1_n\n",
    "           ]"
   ]
  },
  {
   "cell_type": "code",
   "execution_count": null,
   "id": "af05cf83-0c39-47c5-9fae-9e87d774e845",
   "metadata": {},
   "outputs": [],
   "source": [
    "from scipy.optimize import fsolve"
   ]
  },
  {
   "cell_type": "code",
   "execution_count": null,
   "id": "4725a72b-20af-415b-ac74-9bffe87523d9",
   "metadata": {},
   "outputs": [],
   "source": [
    "v0_n = v0_n_span[0]\n",
    "\n",
    "# x0 = (0.1, 0.0, 2.0, 0.5, 0.8, 0.1, 0.5)\n",
    "#      n1, v0_T, v1_n, v1_T,   p1, B1_n, B1_T\n",
    "x0 = (0.01,  0.03,  5.1,  4.4,  0.0,  0.9,  0.8)\n",
    "\n",
    "args=(n0, v0_n, p0, B0_n, B0_T)"
   ]
  },
  {
   "cell_type": "code",
   "execution_count": null,
   "id": "bc20d1c6-e74a-414d-9ff8-0ebf64f998b8",
   "metadata": {},
   "outputs": [],
   "source": [
    "root = fsolve(cost, x0, args=args)"
   ]
  },
  {
   "cell_type": "code",
   "execution_count": null,
   "id": "bcbfee58-995c-4056-8744-730aeafc3485",
   "metadata": {},
   "outputs": [],
   "source": [
    "cost(root, *args)"
   ]
  },
  {
   "cell_type": "code",
   "execution_count": null,
   "id": "fd594d3a-8bd2-454f-8423-7e0ff9e59ee7",
   "metadata": {},
   "outputs": [],
   "source": [
    "n1, v0_T, v1_n, v1_T, p1, B1_n, B1_T = root\n",
    "\n",
    "theta1 = np.arctan2(B1_T, B1_n)"
   ]
  },
  {
   "cell_type": "code",
   "execution_count": null,
   "id": "cd9187d9-a6fe-43b3-9ec0-a2af40375cad",
   "metadata": {},
   "outputs": [],
   "source": [
    "gamma = 5./3.\n",
    "\n",
    "# ___ magnetic field :\n",
    "B0 = np.sqrt(B0_n**2+B0_T**2)\n",
    "B1 = np.sqrt(B1_n**2+B1_T**2)\n",
    "\n",
    "# ___ intermediate velocity :\n",
    "v0_i = B0_n/np.sqrt(n0)\n",
    "v1_i = B1_n/np.sqrt(n1)\n",
    "\n",
    "# ___ Alfven velocity :\n",
    "v0_A = B0/np.sqrt(n0)\n",
    "v1_A = B1/np.sqrt(n1)\n",
    "\n",
    "# ___ sound speed :\n",
    "c0_s = np.sqrt(gamma*p0/n0)\n",
    "c1_s = np.sqrt(gamma*p1/n1)\n",
    "\n",
    "# ___ slow mode :\n",
    "v0_s = np.sqrt(0.5*(v0_A**2+c0_s**2-np.sqrt((v0_A**2+c0_s**2)**2-4.0*v0_A**2*c0_s**2*(np.cos(theta0))**2)))\n",
    "v1_s = np.sqrt(0.5*(v1_A**2+c1_s**2-np.sqrt((v1_A**2+c1_s**2)**2-4.0*v1_A**2*c1_s**2*(np.cos(theta1))**2)))\n",
    "\n",
    "# ___ fast mode :\n",
    "v0_f = np.sqrt(0.5*(v0_A**2+c0_s**2+np.sqrt((v0_A**2+c0_s**2)**2-4.0*v0_A**2*c0_s**2*(np.cos(theta0))**2)))\n",
    "v1_f = np.sqrt(0.5*(v1_A**2+c1_s**2+np.sqrt((v1_A**2+c1_s**2)**2-4.0*v1_A**2*c1_s**2*(np.cos(theta1))**2)))"
   ]
  },
  {
   "cell_type": "code",
   "execution_count": null,
   "id": "c66b1364-9c6c-43a9-93f2-0752867baf54",
   "metadata": {},
   "outputs": [],
   "source": [
    "print(\"density  : %5.2f   ---  %5.2f\" % (n0, n1))\n",
    "print(\"U normal : %5.2f   ---  %5.2f\" % (v0_n, v1_n))\n",
    "print(\"U tang   : %5.2f   ---  %5.2f\" % (v0_T, v1_T))\n",
    "print(\"pressure : %5.2f   ---  %5.2f\" % (p0, p1))\n",
    "print(\"B normal : %5.2f   ---  %5.2f\" % (B0_n, B1_n))\n",
    "print(\"B tang   : %5.2f   ---  %5.2f\" % (B0_T, B1_T))"
   ]
  },
  {
   "cell_type": "code",
   "execution_count": null,
   "id": "c4855e40-d25f-4b61-b1b3-06317870a5db",
   "metadata": {},
   "outputs": [],
   "source": [
    "print(\"upstream sound speed            : %5.2f\" % c0_s)\n",
    "print(\"upstream Alfven velocity        : %5.2f\" % v0_A)\n",
    "print(\"upstream intermediate velocity  : %5.2f\" % v0_i)\n",
    "print(\"upstream slow velocity          : %5.2f\" % v0_s)\n",
    "print(\"upstream fast velocity          : %5.2f\" % v0_f)"
   ]
  },
  {
   "cell_type": "code",
   "execution_count": null,
   "id": "7a857f61-d141-4925-8d4a-8dbfa5c7b285",
   "metadata": {},
   "outputs": [],
   "source": []
  },
  {
   "cell_type": "code",
   "execution_count": null,
   "id": "49bfc98a-5af5-453c-81dd-fc766e961c5d",
   "metadata": {},
   "outputs": [],
   "source": [
    "print(\"upstream sound speed            : %5.2f\" % c0_s)\n",
    "print(\"upstream Alfven velocity        : %5.2f\" % v0_A)\n",
    "print(\"upstream intermediate velocity  : %5.2f\" % v0_i)\n",
    "print(\"upstream slow velocity          : %5.2f\" % v0_s)\n",
    "print(\"upstream fast velocity          : %5.2f\" % v0_f)"
   ]
  },
  {
   "cell_type": "code",
   "execution_count": null,
   "id": "d2ac75ea-28af-451a-8dc5-97e01447dd0b",
   "metadata": {},
   "outputs": [],
   "source": [
    "from scipy.optimize import least_squares"
   ]
  },
  {
   "cell_type": "code",
   "execution_count": null,
   "id": "71df091c-4b45-4bd0-9c03-14a64a7b5019",
   "metadata": {},
   "outputs": [],
   "source": [
    "v0_n = v0_n_span[0]\n",
    "#       n1,  v0_T, v1_n, v1_T,   p1, B1_n, B1_T\n",
    "x0 = (0.01,  0.03,  5.1,  4.4,  0.0,  0.9,  0.8)\n",
    "args=(n0, v0_n, p0, B0_n, B0_T)"
   ]
  },
  {
   "cell_type": "code",
   "execution_count": null,
   "id": "61e9ea90-0f69-4be4-a2fb-ebc18fe65773",
   "metadata": {},
   "outputs": [],
   "source": [
    "sol = least_squares(cost, x0, args=args, bounds=([0, np.inf]))"
   ]
  },
  {
   "cell_type": "code",
   "execution_count": null,
   "id": "1f6d86dc-5049-4560-a707-6c594d9b7a28",
   "metadata": {},
   "outputs": [],
   "source": [
    "sol"
   ]
  },
  {
   "cell_type": "code",
   "execution_count": null,
   "id": "f7e17aaa-224d-4f0d-bc9e-b0a6e2087ccc",
   "metadata": {},
   "outputs": [],
   "source": [
    "n1, v0_T, v1_n, v1_T, p1, B1_n, B1_T = sol.x"
   ]
  },
  {
   "cell_type": "code",
   "execution_count": null,
   "id": "aae3cf56-d5d0-4880-9c69-22b5f6056eab",
   "metadata": {},
   "outputs": [],
   "source": [
    "theta1 = np.arctan2(B1_T, B1_n)"
   ]
  },
  {
   "cell_type": "code",
   "execution_count": null,
   "id": "e7a57ec3-4320-48b0-9245-2d5c4187e091",
   "metadata": {},
   "outputs": [],
   "source": [
    "gamma = 5./3.\n",
    "\n",
    "# ___ magnetic field :\n",
    "B0 = np.sqrt(B0_n**2+B0_T**2)\n",
    "B1 = np.sqrt(B1_n**2+B1_T**2)\n",
    "\n",
    "# ___ intermediate velocity :\n",
    "v0_i = B0_n/np.sqrt(n0)\n",
    "v1_i = B1_n/np.sqrt(n1)\n",
    "\n",
    "# ___ Alfven velocity :\n",
    "v0_A = B0/np.sqrt(n0)\n",
    "v1_A = B1/np.sqrt(n1)\n",
    "\n",
    "# ___ sound speed :\n",
    "c0_s = np.sqrt(gamma*p0/n0)\n",
    "c1_s = np.sqrt(gamma*p1/n1)\n",
    "\n",
    "# ___ slow mode :\n",
    "v0_s = np.sqrt(0.5*(v0_A**2+c0_s**2-np.sqrt((v0_A**2+c0_s**2)**2-4.0*v0_A**2*c0_s**2*(np.cos(theta0))**2)))\n",
    "v1_s = np.sqrt(0.5*(v1_A**2+c1_s**2-np.sqrt((v1_A**2+c1_s**2)**2-4.0*v1_A**2*c1_s**2*(np.cos(theta1))**2)))\n",
    "\n",
    "# ___ fast mode :\n",
    "v0_f = np.sqrt(0.5*(v0_A**2+c0_s**2+np.sqrt((v0_A**2+c0_s**2)**2-4.0*v0_A**2*c0_s**2*(np.cos(theta0))**2)))\n",
    "v1_f = np.sqrt(0.5*(v1_A**2+c1_s**2+np.sqrt((v1_A**2+c1_s**2)**2-4.0*v1_A**2*c1_s**2*(np.cos(theta1))**2)))"
   ]
  },
  {
   "cell_type": "code",
   "execution_count": null,
   "id": "3d2e6814-25f4-41ae-bd57-f638ee788ebb",
   "metadata": {},
   "outputs": [],
   "source": [
    "print(\"density  : %5.2f   ---  %5.2f\" % (n0, n1))\n",
    "print(\"U normal : %5.2f   ---  %5.2f\" % (v0_n, v1_n))\n",
    "print(\"U tang   : %5.2f   ---  %5.2f\" % (v0_T, v1_T))\n",
    "print(\"pressure : %5.2f   ---  %5.2f\" % (p0, p1))\n",
    "print(\"B normal : %5.2f   ---  %5.2f\" % (B0_n, B1_n))\n",
    "print(\"B tang   : %5.2f   ---  %5.2f\" % (B0_T, B1_T))"
   ]
  },
  {
   "cell_type": "code",
   "execution_count": null,
   "id": "0b4b92f7-50ed-4d75-b261-d2081b96e3f0",
   "metadata": {},
   "outputs": [],
   "source": []
  },
  {
   "cell_type": "code",
   "execution_count": null,
   "id": "1e1caab2-ec24-4a77-bf4a-842c247f3ec4",
   "metadata": {},
   "outputs": [],
   "source": [
    "from scipy.optimize import least_squares"
   ]
  },
  {
   "cell_type": "code",
   "execution_count": null,
   "id": "3718a6cf-e8f8-452f-b7fa-01c3ace95d13",
   "metadata": {},
   "outputs": [],
   "source": [
    "v0_n_span = np.linspace(0.05, 2, 40)\n",
    "\n",
    "#       n1,  v0_T, v1_n, v1_T,   p1, B1_n, B1_T\n",
    "x0 = (0.01,  0.03,  5.1,  4.4,  0.0,  0.9,  0.8)\n",
    "\n",
    "for v0_n, i in enumerate(v0_n_span):\n",
    "    args=(n0, v0_n, p0, B0_n, B0_T)\n",
    "    sol = least_squares(cost, x0, args=args, bounds=([0, np.inf]))\n",
    "    n1, v0_T, v1_n, v1_T, p1, B1_n, B1_T = sol.x\n",
    "    x0 = sol.x"
   ]
  },
  {
   "cell_type": "code",
   "execution_count": null,
   "id": "255f2195-979a-4830-9990-8b2088b7f2b9",
   "metadata": {},
   "outputs": [],
   "source": []
  },
  {
   "cell_type": "code",
   "execution_count": null,
   "id": "c1800e98-50ab-49e6-8586-53252034568f",
   "metadata": {},
   "outputs": [],
   "source": []
  },
  {
   "cell_type": "code",
   "execution_count": null,
   "id": "00b6e1c2-a7ad-45ed-9e47-c9911a14d608",
   "metadata": {},
   "outputs": [],
   "source": []
  },
  {
   "cell_type": "code",
   "execution_count": null,
   "id": "720ff12c-a545-47bc-b3f0-2a10e1f01cd9",
   "metadata": {},
   "outputs": [],
   "source": [
    "from scipy.optimize import fsolve\n",
    "import numpy as np\n",
    "def func(x):\n",
    "    return [x[0] * np.cos(x[1]) - 4,\n",
    "            x[1] * x[0] - x[1] - 5]"
   ]
  },
  {
   "cell_type": "code",
   "execution_count": null,
   "id": "3e43661c-be9e-49ef-8f4e-9bd182fe7834",
   "metadata": {},
   "outputs": [],
   "source": [
    "root = fsolve(func, [1, 1])"
   ]
  },
  {
   "cell_type": "code",
   "execution_count": null,
   "id": "a4523372-4c7f-43f0-ba63-16310911f7bb",
   "metadata": {},
   "outputs": [],
   "source": [
    "root"
   ]
  },
  {
   "cell_type": "code",
   "execution_count": null,
   "id": "8302ebe3-bcf1-4a3c-9d2f-9b970c6e8040",
   "metadata": {},
   "outputs": [],
   "source": [
    "np.isclose(func(root), [0.0, 0.0])  # func(root) should be almost 0.0."
   ]
  },
  {
   "cell_type": "code",
   "execution_count": null,
   "id": "df130c56-e3a1-442f-99cc-ce0edd79c958",
   "metadata": {},
   "outputs": [],
   "source": [
    "from scipy.optimize import fsolve\n",
    "import numpy as np\n",
    "def func(x, *args):\n",
    "    x0, x1 = x\n",
    "    a, b = args\n",
    "    return [x0 * np.cos(x1) - a,\n",
    "            x1 * x0 - x1 - b]"
   ]
  },
  {
   "cell_type": "code",
   "execution_count": null,
   "id": "138637c4-143e-4ef5-8c6d-7c32edd4fa32",
   "metadata": {},
   "outputs": [],
   "source": [
    "x0 = (1, 1)\n",
    "args = (4, 5)\n",
    "root = fsolve(func, x0, args=args)"
   ]
  },
  {
   "cell_type": "code",
   "execution_count": null,
   "id": "2b680796-1a4b-4709-8334-cfe0328cd571",
   "metadata": {},
   "outputs": [],
   "source": [
    "root"
   ]
  }
 ],
 "metadata": {
  "kernelspec": {
   "display_name": "Python 3 (ipykernel)",
   "language": "python",
   "name": "python3"
  },
  "language_info": {
   "codemirror_mode": {
    "name": "ipython",
    "version": 3
   },
   "file_extension": ".py",
   "mimetype": "text/x-python",
   "name": "python",
   "nbconvert_exporter": "python",
   "pygments_lexer": "ipython3",
   "version": "3.12.6"
  }
 },
 "nbformat": 4,
 "nbformat_minor": 5
}
