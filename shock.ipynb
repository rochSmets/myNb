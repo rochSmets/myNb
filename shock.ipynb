{
 "cells": [
  {
   "cell_type": "code",
   "execution_count": null,
   "id": "0dd3578f-1c55-4977-984f-12f86f1d4515",
   "metadata": {},
   "outputs": [],
   "source": [
    "import numpy as np"
   ]
  },
  {
   "cell_type": "markdown",
   "id": "fe057176-c72e-46aa-9600-632fbcd441be",
   "metadata": {},
   "source": [
    "Initial value of the plasma parameters :\n",
    "* $\\rho_0$ the upstream charge density : `n0`\n",
    "* $B_0$ the upstream modulus of the magnetic field : `B0`\n",
    "* $\\beta_0$ the upstream plasma parameter : `beta0`\n",
    "* $\\Theta_0$ the angle between the upstream magnetic field and the normal to the shock : `theta0`"
   ]
  },
  {
   "cell_type": "code",
   "execution_count": null,
   "id": "33d46c31-a617-427b-9bb5-2373f09e15b9",
   "metadata": {},
   "outputs": [],
   "source": [
    "n0 = 1.0\n",
    "B0 = 1.0\n",
    "beta0 = 0.8\n",
    "theta0 = 30*np.pi/180.0"
   ]
  },
  {
   "cell_type": "markdown",
   "id": "4ffca08f-72c3-43eb-9e2f-176df72657d8",
   "metadata": {},
   "source": [
    "We use `n` and `T` index notation for normal and tangential, respectively. Following the definition of `theta`"
   ]
  },
  {
   "cell_type": "code",
   "execution_count": null,
   "id": "6b873ec6-8c5b-4e44-a258-38bb281f47da",
   "metadata": {},
   "outputs": [],
   "source": [
    "B0_n = np.cos(theta0)\n",
    "B0_T = np.sin(theta0)"
   ]
  },
  {
   "cell_type": "markdown",
   "id": "5016493b-b468-456a-978d-a88ff492ed6d",
   "metadata": {},
   "source": [
    "From the definition of the $\\beta$ parameter :"
   ]
  },
  {
   "cell_type": "code",
   "execution_count": null,
   "id": "d479c54b-60df-439a-8c84-0fa40ad1cb1e",
   "metadata": {},
   "outputs": [],
   "source": [
    "p0 = 0.5*beta0*B0**2"
   ]
  },
  {
   "cell_type": "markdown",
   "id": "d79c5c55-6795-4386-b8b0-f42d3758d208",
   "metadata": {},
   "source": [
    "One explore the range of upstream velocity normal to the shock"
   ]
  },
  {
   "cell_type": "code",
   "execution_count": null,
   "id": "56dcede1-11ee-4477-b8e4-eccbc1ddd654",
   "metadata": {},
   "outputs": [],
   "source": [
    "v0_n = np.linspace(0, 2, 21)"
   ]
  },
  {
   "cell_type": "markdown",
   "id": "82630f12-14b7-4dd6-b14d-b9dabe237b18",
   "metadata": {},
   "source": [
    "We then have as unknown : `n0`, `n1`, `v0_n`, `v0_T`, `v1_n`, `v1_T`, `p0`, `p1`, `B0_n` `B0_T`, `B1_n`, `B1_T`, that is 12 unknowns.\n",
    "We already know as parameter or initial range of values : `n0`, `v0_n`, `p0`, `B0_n` and `B0_T`, that is 5 unknowns."
   ]
  },
  {
   "cell_type": "markdown",
   "id": "49cac6cb-df44-40a8-a989-66697dbb479c",
   "metadata": {},
   "source": [
    "We then need 7 equations from the RH jump equations :"
   ]
  },
  {
   "cell_type": "markdown",
   "id": "70630987-dd6b-4a00-8eb9-84b73ff4afb0",
   "metadata": {},
   "source": [
    "**Maxwell-Thomson** : 1 equation"
   ]
  },
  {
   "cell_type": "code",
   "execution_count": null,
   "id": "bd48d159-10e1-4de1-bf59-9b2be225ef7d",
   "metadata": {},
   "outputs": [],
   "source": [
    "# B1_n-B0_n = 0"
   ]
  },
  {
   "cell_type": "markdown",
   "id": "323225a6-2397-4585-af95-8b5a803e5ba1",
   "metadata": {},
   "source": [
    "**Maxwell-Faraday** (tangential) : 1 equation"
   ]
  },
  {
   "cell_type": "code",
   "execution_count": null,
   "id": "d406107c-469f-4940-8c99-12db0470e3a1",
   "metadata": {},
   "outputs": [],
   "source": [
    "# v0_n*B0_T-B0_n*v0_T-v1_n*B1_T-B1_n*v1_T = 0"
   ]
  },
  {
   "cell_type": "markdown",
   "id": "22c9ea0b-d6ae-45ee-a6a2-ff3c193babaf",
   "metadata": {},
   "source": [
    "**de Hoffmann-Teller frame** : 1 equation"
   ]
  },
  {
   "cell_type": "code",
   "execution_count": null,
   "id": "4de04bb9-9c39-4a8a-ae5a-bcc99446eff6",
   "metadata": {},
   "outputs": [],
   "source": [
    "# B0_n*v0_T-v0_n*B0_T = 0\n",
    "# the second equation (just below) is then the same as given by Maxwell-Faraday\n",
    "# B1_n*v1_T-v1_n*B1_T = 0"
   ]
  },
  {
   "cell_type": "markdown",
   "id": "81e4c826-b3dc-469d-853f-7a2f4b306b95",
   "metadata": {},
   "source": [
    "**Mass conservaton** : 1 equation"
   ]
  },
  {
   "cell_type": "code",
   "execution_count": null,
   "id": "7dcb50c0-edd9-48dc-9241-9ce8a439915e",
   "metadata": {},
   "outputs": [],
   "source": [
    "# n0*v0_n-n1*v1_n = 0"
   ]
  },
  {
   "cell_type": "markdown",
   "id": "30c4b4f3-41ec-4415-8cee-d8da79b15785",
   "metadata": {},
   "source": [
    "**Momentum conservation** : 2 equations"
   ]
  },
  {
   "cell_type": "code",
   "execution_count": null,
   "id": "2e7c9fd2-b508-4663-8a0c-377c905488a9",
   "metadata": {},
   "outputs": [],
   "source": [
    "# n0*v0_n**2+p0+0.5*(B0_T**2-B0_n**2)-n1*v1_n**2+p1+0.5*(B1_T**2-B1_n**2) = 0\n",
    "# n0*v0_n*v0_T-B0_n*B0_T-n1*v1_n*v1_T-B1_n*B1_T = 0"
   ]
  },
  {
   "cell_type": "markdown",
   "id": "6513ceda-7dd5-4d45-bedb-2fe8155d28ad",
   "metadata": {},
   "source": [
    "**Energy conservation** : 1 equation"
   ]
  },
  {
   "cell_type": "code",
   "execution_count": null,
   "id": "bbd9fc94-e2df-4023-ac57-110ef89b8420",
   "metadata": {},
   "outputs": [],
   "source": [
    "# 0.5*(v0_n**2+v0_T**2)*v0_n+2.5*p0*v0_n-B0_T*(B0_n*v0_T-B0_T*v0_n)-0.5*(v1_n**2+v1_T**2)*v1_n+2.5*p1*v1_n-B1_T*(B1_n*v1_T-B1_T*v1_n) = 0"
   ]
  },
  {
   "cell_type": "markdown",
   "id": "a85b547d-583f-4bab-a541-63c9c63be536",
   "metadata": {},
   "source": [
    "Using the Maxwell-Faraday and the HT frame, energy conservation can be simplified as"
   ]
  },
  {
   "cell_type": "code",
   "execution_count": null,
   "id": "5a4f3e66-3834-4ece-bf5e-0958e177f49b",
   "metadata": {},
   "outputs": [],
   "source": [
    "# 0.5*(v0_n**2+v0_T**2)*v0_n+2.5*p0*v0_n-0.5*(v1_n**2+v1_T**2)*v1_n+2.5*p1*v1_n = 0"
   ]
  },
  {
   "cell_type": "markdown",
   "id": "b4e7cab6-9ed0-4ccb-94fb-3e0149dbb315",
   "metadata": {},
   "source": [
    "We then define the cost function which depends on the 7 components vectors :\n",
    "`x = (n1, v0_n, v0_T, v1_T, p1, B1_n, B1_T)`\n",
    "with the `args` vector defined as `args = (n0,  v0_n, p0, B0_n, B0_T)`"
   ]
  },
  {
   "cell_type": "code",
   "execution_count": null,
   "id": "ab9de009-ba76-4203-93d3-62763a4dd81e",
   "metadata": {},
   "outputs": [],
   "source": [
    "def cost(x): #, *args):\n",
    "    n1, v0_T, v1_n, v1_T, p1, B1_n, B1_T = x\n",
    "     #n0, v0_n, p0, B0_n, B0_T = args\n",
    "    \n",
    "    return [B1_n-B0_n,\n",
    "            B0_n*v0_T-v0_n*B0_T,\n",
    "            B1_n*v1_T-v1_n*B1_T,\n",
    "            n0*v0_n-n1*v1_n,\n",
    "            n0*v0_n**2+p0+0.5*(B0_T**2-B0_n**2)-n1*v1_n**2+p1+0.5*(B1_T**2-B1_n**2),\n",
    "            n0*v0_n*v0_T-B0_n*B0_T-n1*v1_n*v1_T-B1_n*B1_T,\n",
    "            0.5*(v0_n**2+v0_T**2)*v0_n+2.5*p0*v0_n-0.5*(v1_n**2+v1_T**2)*v1_n+2.5*p1*v1_n\n",
    "           ]"
   ]
  },
  {
   "cell_type": "code",
   "execution_count": null,
   "id": "af05cf83-0c39-47c5-9fae-9e87d774e845",
   "metadata": {},
   "outputs": [],
   "source": [
    "from scipy.optimize import fsolve"
   ]
  },
  {
   "cell_type": "code",
   "execution_count": null,
   "id": "4725a72b-20af-415b-ac74-9bffe87523d9",
   "metadata": {},
   "outputs": [],
   "source": [
    "v1_n_span = np.linspace(0, 3, 11)\n",
    "v1_n = v1_n_span[5]\n",
    "x0 = (0.9*n0, 0.8, v1_n, 0.8, 0.8*p0, B0_n, 0.3)\n",
    "root = fsolve(cost, x0) # , args=(n0, v0_n, p0, B0_n, B0_T))"
   ]
  },
  {
   "cell_type": "code",
   "execution_count": null,
   "id": "bc20d1c6-e74a-414d-9ff8-0ebf64f998b8",
   "metadata": {},
   "outputs": [],
   "source": []
  },
  {
   "cell_type": "code",
   "execution_count": null,
   "id": "8dbc7edd-6a9c-4133-a0c5-aa7191de6a82",
   "metadata": {},
   "outputs": [],
   "source": [
    "from scipy.optimize import fsolve\n",
    "import numpy as np\n",
    "def func(x):\n",
    "    return [x[0] * np.cos(x[1]) - 4,\n",
    "            x[1] * x[0] - x[1] - 5]"
   ]
  },
  {
   "cell_type": "code",
   "execution_count": null,
   "id": "840ce51c-6db2-4076-95d2-4f36918cef1e",
   "metadata": {},
   "outputs": [],
   "source": [
    "root = fsolve(func, [1, 1])"
   ]
  },
  {
   "cell_type": "code",
   "execution_count": null,
   "id": "a4523372-4c7f-43f0-ba63-16310911f7bb",
   "metadata": {},
   "outputs": [],
   "source": [
    "root"
   ]
  },
  {
   "cell_type": "code",
   "execution_count": null,
   "id": "8302ebe3-bcf1-4a3c-9d2f-9b970c6e8040",
   "metadata": {},
   "outputs": [],
   "source": [
    "np.isclose(func(root), [0.0, 0.0])  # func(root) should be almost 0.0."
   ]
  },
  {
   "cell_type": "code",
   "execution_count": null,
   "id": "720ff12c-a545-47bc-b3f0-2a10e1f01cd9",
   "metadata": {},
   "outputs": [],
   "source": []
  }
 ],
 "metadata": {
  "kernelspec": {
   "display_name": "Python 3 (ipykernel)",
   "language": "python",
   "name": "python3"
  },
  "language_info": {
   "codemirror_mode": {
    "name": "ipython",
    "version": 3
   },
   "file_extension": ".py",
   "mimetype": "text/x-python",
   "name": "python",
   "nbconvert_exporter": "python",
   "pygments_lexer": "ipython3",
   "version": "3.12.6"
  }
 },
 "nbformat": 4,
 "nbformat_minor": 5
}
