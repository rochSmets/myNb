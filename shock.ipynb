{
 "cells": [
  {
   "cell_type": "code",
   "execution_count": null,
   "id": "0dd3578f-1c55-4977-984f-12f86f1d4515",
   "metadata": {},
   "outputs": [],
   "source": [
    "import numpy as np\n",
    "import matplotlib.pyplot as plt"
   ]
  },
  {
   "cell_type": "markdown",
   "id": "fe057176-c72e-46aa-9600-632fbcd441be",
   "metadata": {},
   "source": [
    "For the notation, index `0` is for the upstream quantities and index `1` is for the downstream quantities.\n",
    "Initial value of the plasma parameters are then :\n",
    "* the charge density (upstream) : `n0`\n",
    "* the modulus of the magnetic field (upstream) : `B0`\n",
    "* the plasma parameter (upstream) : `beta0`\n",
    "* the angle between the magnetic field and the normal to the shock (uostream) : `theta0`"
   ]
  },
  {
   "cell_type": "code",
   "execution_count": null,
   "id": "33d46c31-a617-427b-9bb5-2373f09e15b9",
   "metadata": {},
   "outputs": [],
   "source": [
    "n0 = 1.0\n",
    "B0 = 1.0\n",
    "beta0 = 0.8\n",
    "theta0 = 30*np.pi/180.0"
   ]
  },
  {
   "cell_type": "markdown",
   "id": "4ffca08f-72c3-43eb-9e2f-176df72657d8",
   "metadata": {},
   "source": [
    "We use `n` and `T` index notation for normal and tangential, respectively. Following the definition of `theta`"
   ]
  },
  {
   "cell_type": "code",
   "execution_count": null,
   "id": "6b873ec6-8c5b-4e44-a258-38bb281f47da",
   "metadata": {},
   "outputs": [],
   "source": [
    "B0_n = np.cos(theta0)\n",
    "B0_T = np.sin(theta0)"
   ]
  },
  {
   "cell_type": "markdown",
   "id": "5016493b-b468-456a-978d-a88ff492ed6d",
   "metadata": {},
   "source": [
    "From the definition of the $\\beta$ parameter, the kinetix pressure is"
   ]
  },
  {
   "cell_type": "code",
   "execution_count": null,
   "id": "d479c54b-60df-439a-8c84-0fa40ad1cb1e",
   "metadata": {},
   "outputs": [],
   "source": [
    "p0 = 0.5*beta0*B0**2"
   ]
  },
  {
   "cell_type": "markdown",
   "id": "82630f12-14b7-4dd6-b14d-b9dabe237b18",
   "metadata": {},
   "source": [
    "We then have as unknown : `n0`, `n1`, `v0_n`, `v0_T`, `v1_n`, `v1_T`, `p0`, `p1`, `B0_n` `B0_T`, `B1_n`, `B1_T`, that is 12 unknowns.\n",
    "We already know as parameter : `n0`, `p0`, `B0_n` and `B0_T`. Furthermore, we are going to iterate on the normal valocity value. It could be on side 0 or side 1. We then know 5 initial values so we need 7 equations for the 7 remaining unknowns."
   ]
  },
  {
   "cell_type": "markdown",
   "id": "70630987-dd6b-4a00-8eb9-84b73ff4afb0",
   "metadata": {},
   "source": [
    "**Maxwell-Thomson** : 1 equation"
   ]
  },
  {
   "cell_type": "code",
   "execution_count": null,
   "id": "bd48d159-10e1-4de1-bf59-9b2be225ef7d",
   "metadata": {},
   "outputs": [],
   "source": [
    "# B0_n-B1_n = 0"
   ]
  },
  {
   "cell_type": "markdown",
   "id": "323225a6-2397-4585-af95-8b5a803e5ba1",
   "metadata": {},
   "source": [
    "**Maxwell-Faraday** (tangential) : 1 equation"
   ]
  },
  {
   "cell_type": "code",
   "execution_count": null,
   "id": "d406107c-469f-4940-8c99-12db0470e3a1",
   "metadata": {},
   "outputs": [],
   "source": [
    "# v0_n*B0_T-B0_n*v0_T-(v1_n*B1_T-B1_n*v1_T) = 0"
   ]
  },
  {
   "cell_type": "markdown",
   "id": "22c9ea0b-d6ae-45ee-a6a2-ff3c193babaf",
   "metadata": {},
   "source": [
    "**de Hoffmann-Teller frame** : 1 equation for each side, that is total of 2 equations. As a consequence, Maxwell-Faraday will automatically be satisfied and is no more needed."
   ]
  },
  {
   "cell_type": "code",
   "execution_count": null,
   "id": "4de04bb9-9c39-4a8a-ae5a-bcc99446eff6",
   "metadata": {},
   "outputs": [],
   "source": [
    "# v0_n*B0_T-B0_n*v0_T = 0\n",
    "# v1_n*B1_T-B1_n*v1_T = 0"
   ]
  },
  {
   "cell_type": "markdown",
   "id": "81e4c826-b3dc-469d-853f-7a2f4b306b95",
   "metadata": {},
   "source": [
    "**Mass conservation** : 1 equation"
   ]
  },
  {
   "cell_type": "code",
   "execution_count": null,
   "id": "7dcb50c0-edd9-48dc-9241-9ce8a439915e",
   "metadata": {},
   "outputs": [],
   "source": [
    "# n0*v0_n-n1*v1_n = 0"
   ]
  },
  {
   "cell_type": "markdown",
   "id": "30c4b4f3-41ec-4415-8cee-d8da79b15785",
   "metadata": {},
   "source": [
    "**Momentum conservation** : 2 equations"
   ]
  },
  {
   "cell_type": "code",
   "execution_count": null,
   "id": "2e7c9fd2-b508-4663-8a0c-377c905488a9",
   "metadata": {},
   "outputs": [],
   "source": [
    "# n0*v0_n**2+p0+0.5*(B0_T**2-B0_n**2)-(n1*v1_n**2+p1+0.5*(B1_T**2-B1_n**2)) = 0\n",
    "# n0*v0_n*v0_T-B0_n*B0_T-(n1*v1_n*v1_T-B1_n*B1_T) = 0"
   ]
  },
  {
   "cell_type": "markdown",
   "id": "6513ceda-7dd5-4d45-bedb-2fe8155d28ad",
   "metadata": {},
   "source": [
    "**Energy conservation** : 1 equation"
   ]
  },
  {
   "cell_type": "code",
   "execution_count": null,
   "id": "bbd9fc94-e2df-4023-ac57-110ef89b8420",
   "metadata": {},
   "outputs": [],
   "source": [
    "# 0.5*n0*(v0_n**2+v0_T**2)*v0_n+2.5*p0*v0_n-B0_T*(B0_n*v0_T-B0_T*v0_n)-(0.5*n1*(v1_n**2+v1_T**2)*v1_n+2.5*p1*v1_n-B1_T*(B1_n*v1_T-B1_T*v1_n)) = 0"
   ]
  },
  {
   "cell_type": "markdown",
   "id": "a85b547d-583f-4bab-a541-63c9c63be536",
   "metadata": {},
   "source": [
    "Using the Maxwell-Faraday and the HT frame, energy conservation can be simplified as"
   ]
  },
  {
   "cell_type": "code",
   "execution_count": null,
   "id": "5a4f3e66-3834-4ece-bf5e-0958e177f49b",
   "metadata": {},
   "outputs": [],
   "source": [
    "# n0*v0_n*v0**2+5*p0*v0_n-(n1*v1_n*v1**2+5*p0*v1_n) = 0"
   ]
  },
  {
   "cell_type": "markdown",
   "id": "5e403703-a55e-443e-93aa-0b0684b515a1",
   "metadata": {},
   "source": [
    "The form of the solutions will show that one can need to iterate on `v0_n` to get `v1_n`, or to iretatre on `v1_n` to get `v0_n`. For that issue, we will then define 2 cost functions to minimize."
   ]
  },
  {
   "cell_type": "markdown",
   "id": "4a017b8d-6748-42d0-88e8-561114f669e5",
   "metadata": {},
   "source": [
    "When iterating on the `v0_n` values, with the preceding 7 equations, one can analytically pre-compute `v0_T` and `B1_n`. This is the role of the `compute0` function."
   ]
  },
  {
   "cell_type": "code",
   "execution_count": null,
   "id": "06f157d8-63cb-4ba8-a40e-14fba4a7e3f9",
   "metadata": {},
   "outputs": [],
   "source": [
    "def compute0(v0_n, B0_n, B0_T):\n",
    "    # return the values of v0_T, B1_n\n",
    "    return v0_n*B0_T/B0_n, B0_n"
   ]
  },
  {
   "cell_type": "markdown",
   "id": "b4e7cab6-9ed0-4ccb-94fb-3e0149dbb315",
   "metadata": {},
   "source": [
    "We then define the cost function which depends on the 5 components vectors :\n",
    "`x = (n1, v1_n, v1_T, p1, B1_T)`\n",
    "with the `args` vector defined as `args = (n0,  v0_n, v0_T, p0, B0_n, B0_T, B1_n)`."
   ]
  },
  {
   "cell_type": "code",
   "execution_count": null,
   "id": "ab9de009-ba76-4203-93d3-62763a4dd81e",
   "metadata": {},
   "outputs": [],
   "source": [
    "def cost0(x, *args):\n",
    "    n1, v1_n, v1_T, p1, B1_T = x\n",
    "    n0, v0_n, v0_T, p0, B0_n, B0_T, B1_n = args\n",
    "    \n",
    "    return [\n",
    "            n0*v0_n-n1*v1_n,\n",
    "            n0*v0_n**2+p0+0.5*B0_T**2-(n1*v1_n**2+p1+0.5*B1_T**2),\n",
    "            n0*v0_n*v0_T-B0_n*B0_T-(n1*v1_n*v1_T-B1_n*B1_T),\n",
    "            n0*v0_n*(v0_n**2+v0_T**2)+5*p0*v0_n-(n1*v1_n*(v1_n**2+v1_T**2)+5*p1*v1_n),\n",
    "            v1_n*B1_T-B1_n*v1_T\n",
    "           ]"
   ]
  },
  {
   "cell_type": "markdown",
   "id": "2e8e1876-1dd1-4123-bbd6-05eb46a20b00",
   "metadata": {},
   "source": [
    "We also define the cost function `cost1` when iterating on `v1_n` (and the associated compute function `compute1`). "
   ]
  },
  {
   "cell_type": "code",
   "execution_count": null,
   "id": "e2c3646e-0b84-4a2e-ae6e-2b67f4037e1a",
   "metadata": {},
   "outputs": [],
   "source": [
    "def compute1(B0_n):\n",
    "    # return the values of B1_n\n",
    "    return B0_n"
   ]
  },
  {
   "cell_type": "code",
   "execution_count": null,
   "id": "ec3ae436-0e85-4ba4-9932-efcf8bd8292e",
   "metadata": {},
   "outputs": [],
   "source": [
    "def cost1(x, *args):\n",
    "    n1, v0_n, v0_T, v1_T, p1, B1_T = x\n",
    "    n0, v1_n, p0, B0_n, B0_T, B1_n = args\n",
    "    \n",
    "    return [\n",
    "            n0*v0_n-n1*v1_n,\n",
    "            n0*v0_n**2+p0+0.5*B0_T**2-(n1*v1_n**2+p1+0.5*B1_T**2),\n",
    "            n0*v0_n*v0_T-B0_n*B0_T-(n1*v1_n*v1_T-B1_n*B1_T),\n",
    "            n0*v0_n*(v0_n**2+v0_T**2)+5*p0*v0_n-(n1*v1_n*(v1_n**2+v1_T**2)+5*p1*v1_n),\n",
    "            v0_n*B0_T-B0_n*v0_T,\n",
    "            v1_n*B1_T-B1_n*v1_T\n",
    "           ]"
   ]
  },
  {
   "cell_type": "markdown",
   "id": "dff3fa23-45fe-41fa-a41a-df1c9c18d8b0",
   "metadata": {},
   "source": [
    "We then define all the caracteristic velocities which appear in the different branches of the solutions."
   ]
  },
  {
   "cell_type": "code",
   "execution_count": null,
   "id": "03cd6458-848d-443b-8416-436f021b9a78",
   "metadata": {},
   "outputs": [],
   "source": [
    "gamma = 5./3.\n",
    "\n",
    "# ___ magnetic field :\n",
    "B0 = np.sqrt(B0_n**2+B0_T**2)\n",
    "\n",
    "# ___ intermediate velocity :\n",
    "v0_i = B0_n/np.sqrt(n0)\n",
    "\n",
    "# ___ Alfven velocity :\n",
    "v0_A = B0/np.sqrt(n0)\n",
    "\n",
    "# ___ sound speed :\n",
    "c0_s = np.sqrt(gamma*p0/n0)\n",
    "\n",
    "# ___ slow mode :\n",
    "v0_s = np.sqrt(0.5*(v0_A**2+c0_s**2-np.sqrt((v0_A**2+c0_s**2)**2-4.0*v0_A**2*c0_s**2*(np.cos(theta0))**2)))\n",
    "\n",
    "# ___ fast mode :\n",
    "v0_f = np.sqrt(0.5*(v0_A**2+c0_s**2+np.sqrt((v0_A**2+c0_s**2)**2-4.0*v0_A**2*c0_s**2*(np.cos(theta0))**2)))"
   ]
  },
  {
   "cell_type": "code",
   "execution_count": null,
   "id": "521c0bd2-844d-4589-85a5-985a69bb19c6",
   "metadata": {},
   "outputs": [],
   "source": [
    "print(\"upstream sound speed            : %5.2f\" % c0_s)\n",
    "print(\"upstream Alfven velocity        : %5.2f\" % v0_A)\n",
    "print(\"upstream slow velocity          : %5.2f\" % v0_s)\n",
    "print(\"upstream intermediate velocity  : %5.2f\" % v0_i)\n",
    "print(\"upstream fast velocity          : %5.2f\" % v0_f)"
   ]
  },
  {
   "cell_type": "markdown",
   "id": "1cd041de-b6da-45f6-a7ce-e95b223e1a41",
   "metadata": {},
   "source": [
    "We use the `least_square` of `scipy.optimize` because compared to `fsolve`, one can impose domain of definition for the solution. This is important for example to ensure the positiveness of the density or pressure. This is also important for the intermediate shock for which there is a flip-over of the vectorial quantities, namely the tangential components of the velocity and the magnetic field."
   ]
  },
  {
   "cell_type": "code",
   "execution_count": null,
   "id": "2c7d03ef-6223-4cdf-9baf-10cfceea82d0",
   "metadata": {},
   "outputs": [],
   "source": [
    "from scipy.optimize import least_squares"
   ]
  },
  {
   "cell_type": "markdown",
   "id": "698e75d4-8fe5-40fd-ad04-51117e36030d",
   "metadata": {},
   "source": [
    "**Non-physical** branch : normal velocity is increasing through the shock"
   ]
  },
  {
   "cell_type": "code",
   "execution_count": null,
   "id": "2ea940e2-9f26-4da5-b436-dedfe651320a",
   "metadata": {},
   "outputs": [],
   "source": [
    "v0_n_span_A = np.linspace(0.3, v0_s, 100)\n",
    "v1_n_span_A = np.zeros_like(v0_n_span_A)\n",
    "\n",
    "#       n1,  v1_n,  v1_T,    p1,  B1_T\n",
    "x0 = (1.01,  1.62,  0.35,  0.41,  0.49)\n",
    "\n",
    "for i, v0_n in enumerate(v0_n_span_A):\n",
    "    v0_T, B1_n = compute0(v0_n, B0_n, B0_T)\n",
    "    args=(n0, v0_n, v0_T, p0, B0_n, B0_T, B1_n)\n",
    "    sol = least_squares(cost0, x0, args=args, bounds=([0, np.inf]), method='trf')\n",
    "    n1, v1_n, v1_T, p1, B1_T = sol.x\n",
    "    v1_n_span_A[i] = v1_n\n",
    "    x0 = sol.x"
   ]
  },
  {
   "cell_type": "markdown",
   "id": "30a48b73-7bec-4604-bf95-b6407a56fbd3",
   "metadata": {},
   "source": [
    "**Slow shock** branch : the upstream normal velocity is larger than the slow magnetosonic mode, but smaller than the intermediate velocity"
   ]
  },
  {
   "cell_type": "code",
   "execution_count": null,
   "id": "296b7fd9-fe45-4ec5-83fe-4363882dc1e6",
   "metadata": {},
   "outputs": [],
   "source": [
    "v0_n_span_B = np.linspace(0.635, v0_i, 100)\n",
    "v1_n_span_B = np.zeros_like(v0_n_span_B)\n",
    "\n",
    "#       n1,  v1_n,  v1_T,    p1,  B1_T\n",
    "x0 = (1.00,  0.63,  0.36,  0.41,  0.49)\n",
    "\n",
    "for i, v0_n in enumerate(v0_n_span_B):\n",
    "    v0_T, B1_n = compute0(v0_n, B0_n, B0_T)\n",
    "    args=(n0, v0_n, v0_T, p0, B0_n, B0_T, B1_n)\n",
    "    sol = least_squares(cost0, x0, args=args, bounds=([0, np.inf]), method='trf')\n",
    "    n1, v1_n, v1_T, p1, B1_T = sol.x\n",
    "    v1_n_span_B[i] = v1_n\n",
    "    x0 = sol.x"
   ]
  },
  {
   "cell_type": "markdown",
   "id": "c914966c-fc6d-4125-8c42-e0108b54e481",
   "metadata": {},
   "source": [
    "**Intermediate shock** branch : the upstream normal velocity is larger than the intermediate velocity. This branch needs special care :\n",
    "* the downstream normal velocity `v1_n` is bi-valued\n",
    "* both `v1_T` and `B1_T` change sign compared to side `0`\n",
    "\n",
    "We then need to iterate on `v1_n`, that is use `compute1` and `cost1`."
   ]
  },
  {
   "cell_type": "code",
   "execution_count": null,
   "id": "27bdec2a-d33a-42f4-b1c9-610be3572aa7",
   "metadata": {},
   "outputs": [],
   "source": [
    "v1_n_span_C = np.linspace(0.61, v0_i, 100)\n",
    "v0_n_span_C = np.zeros_like(v1_n_span_C)\n",
    "\n",
    "#       n1,  v0_n, v0_T, v1_T,   p1, B1_T\n",
    "x0 = (1.42,  0.87, 0.50, 0.00, 0.74, 0.00)\n",
    "\n",
    "for i, v1_n in enumerate(v1_n_span_C):\n",
    "    B1_n = compute1(B0_n)\n",
    "    args=(n0, v1_n, p0, B0_n, B0_T, B1_n)\n",
    "    sol = least_squares(cost1, x0, args=args, bounds=([(0, 0, 0, -np.inf, 0, -np.inf), (np.inf, np.inf, np.inf, 0, np.inf, 0)]))\n",
    "    n1, v0_n, v0_T, v1_T, p1, B1_T = sol.x\n",
    "    v0_n_span_C[i] = v0_n\n",
    "    x0 = sol.x\n",
    "\n",
    "imax = np.argmax(v0_n_span_C)\n",
    "v0_l = v0_n_span_C[imax]\n",
    "v1_l = v1_n_span_C[imax]\n",
    "print(\"upstream limit velocity         : %5.2f\" % v0_l)\n",
    "print(\"downstream limit velocity       : %5.2f\" % v1_l)"
   ]
  },
  {
   "cell_type": "markdown",
   "id": "3f839d17-e8ee-4b12-a0b4-931fb0bf32f8",
   "metadata": {},
   "source": [
    "**Non-physical** branch : normal velocity is increasing through the shock. This branch is the continuation of the intermediate shock branch, meaning that on this one, `v1_T` and `B1_T` are also flipped over."
   ]
  },
  {
   "cell_type": "code",
   "execution_count": null,
   "id": "85e4dfd3-3a6d-4242-b535-684bbd2fc341",
   "metadata": {},
   "outputs": [],
   "source": [
    "v1_n_span_D = np.linspace(0.87, 1.23, 100)\n",
    "v0_n_span_D = np.zeros_like(v1_n_span_D)\n",
    "\n",
    "#       n1,  v0_n,  v0_T,  v1_T,   p1,  B1_T\n",
    "x0 = (1.00,  0.87,  0.50, -0.50,  0.40, -0.50)\n",
    "\n",
    "for i, v1_n in enumerate(v1_n_span_D):\n",
    "    B1_n = compute1(B0_n)\n",
    "    args=(n0, v1_n, p0, B0_n, B0_T, B1_n)\n",
    "    sol = least_squares(cost1, x0, args=args, bounds=([(0, 0, 0, -np.inf, 0, -np.inf), (np.inf, np.inf, np.inf, 0, np.inf, 0)]))\n",
    "    n1, v0_n, v0_T, v1_T, p1, B1_T = sol.x\n",
    "    v0_n_span_D[i] = v0_n\n",
    "    x0 = sol.x"
   ]
  },
  {
   "cell_type": "markdown",
   "id": "674d3f32-d154-4ade-88cb-adac38c488f0",
   "metadata": {},
   "source": [
    "**Non-physical** branch : normal velocity is increasing through the shock"
   ]
  },
  {
   "cell_type": "code",
   "execution_count": null,
   "id": "fa0d6558-d646-4fd1-aa5f-a186d0d00dcb",
   "metadata": {},
   "outputs": [],
   "source": [
    "v0_n_span_E = np.linspace(0.83, v0_f, 100)\n",
    "v1_n_span_E = np.zeros_like(v0_n_span_E)\n",
    "\n",
    "#       n1,  v1_n,  v1_T,    p1,  B1_T\n",
    "x0 = (0.67,  1.23,  0.00,  0.18,  0.00)\n",
    "\n",
    "for i, v0_n in enumerate(v0_n_span_E):\n",
    "    v0_T, B1_n = compute0(v0_n, B0_n, B0_T)\n",
    "    args=(n0, v0_n, v0_T, p0, B0_n, B0_T, B1_n)\n",
    "    sol = least_squares(cost0, x0, args=args, bounds=([(0, 0, 0, 0, 0), (np.inf, np.inf, np.inf, np.inf, np.inf)]))\n",
    "    n1, v1_n, v1_T, p1, B1_T = sol.x\n",
    "    v1_n_span_E[i] = v1_n\n",
    "    x0 = sol.x"
   ]
  },
  {
   "cell_type": "markdown",
   "id": "c80b146a-1949-4458-bc8e-abe7170e415e",
   "metadata": {},
   "source": [
    "**Fast shock** branch : the upstream normal velocity is larger than the fast magnetosonic mode"
   ]
  },
  {
   "cell_type": "code",
   "execution_count": null,
   "id": "7c829431-c57c-4bca-8a49-012e9c69424a",
   "metadata": {},
   "outputs": [],
   "source": [
    "v0_n_span_F = np.linspace(v0_f, 1.40, 100)\n",
    "v1_n_span_F = np.zeros_like(v0_n_span_F)\n",
    "\n",
    "#       n1,  v1_n,  v1_T,    p1,  B1_T\n",
    "x0 = (0.10,  0.83,  0.64,  0.39,  0.49)\n",
    "\n",
    "for i, v0_n in enumerate(v0_n_span_F):\n",
    "    v0_T, B1_n = compute0(v0_n, B0_n, B0_T)\n",
    "    args=(n0, v0_n, v0_T, p0, B0_n, B0_T, B1_n)\n",
    "    sol = least_squares(cost0, x0, args=args, bounds=([(0, 0, 0, 0, 0), (np.inf, v0_n, np.inf, np.inf, np.inf)]))\n",
    "    n1, v1_n, v1_T, p1, B1_T = sol.x\n",
    "    v1_n_span_F[i] = v1_n\n",
    "    x0 = sol.x"
   ]
  },
  {
   "cell_type": "code",
   "execution_count": null,
   "id": "9c65dc70-38d4-471c-9bda-cfd334062dc5",
   "metadata": {},
   "outputs": [],
   "source": [
    "%matplotlib widget\n",
    "\n",
    "fig, ax = plt.subplots(figsize=(4, 4))\n",
    "cycle = plt.rcParams['axes.prop_cycle'].by_key()['color']\n",
    "\n",
    "# trivial solution of no interest, except to outline the half-plane of interest\n",
    "ax.plot([0, 2], [0, 2], color='k')\n",
    "\n",
    "# all the branches : dotted gray branches are not physically relevant\n",
    "ax.plot(v0_n_span_A, v1_n_span_A, color='lightgray', linestyle=':')\n",
    "ax.plot(v0_n_span_B, v1_n_span_B, color='slateblue')\n",
    "ax.plot(v0_n_span_C, v1_n_span_C, color='plum')\n",
    "ax.plot(v0_n_span_D, v1_n_span_D, color='lightgray', linestyle=':')\n",
    "ax.plot(v0_n_span_E, v1_n_span_E, color='lightgray', linestyle=':')\n",
    "ax.plot(v0_n_span_F, v1_n_span_F, color='hotpink')\n",
    "\n",
    "ax.plot([v0_s, v0_s], [0, v0_s], color='k', linestyle='--')\n",
    "ax.plot([v0_i, v0_i], [0, v0_i], color='k', linestyle='--')\n",
    "ax.plot([v0_f, v0_f], [0, v0_f], color='k', linestyle='--')\n",
    "ax.plot([v0_l, v0_l], [0, v1_l], color='k', linestyle='--')\n",
    "\n",
    "ax.plot([v0_s], [v0_s], color='slateblue', marker = \"o\", markersize=5)\n",
    "ax.plot([v0_i], [v1_n_span_B[-1]], color='plum', marker = \"o\", markersize=5)\n",
    "ax.plot([v0_i], [v0_i], color='plum', marker = \"o\", markersize=5)\n",
    "ax.plot([v0_l], [v1_l], color='k', marker = \"o\", markersize=5)\n",
    "ax.plot([v0_f], [v0_f], color='hotpink', marker = \"o\", markersize=5)\n",
    "\n",
    "ax.set_xlim([0.4, 1.4])\n",
    "ax.set_ylim([0.4, 1.4])\n",
    "ax.set_xlabel(\"vn0 (upstream)\")\n",
    "ax.set_ylabel(\"vn1 (downstream)\")\n",
    "\n",
    "plt.tight_layout()\n",
    "plt.savefig(\"shock.pdf\", dpi=300)"
   ]
  },
  {
   "cell_type": "code",
   "execution_count": null,
   "id": "66c63c1b-4caa-40ba-91a8-a8a2401f2bad",
   "metadata": {},
   "outputs": [],
   "source": []
  }
 ],
 "metadata": {
  "kernelspec": {
   "display_name": "Python 3 (ipykernel)",
   "language": "python",
   "name": "python3"
  },
  "language_info": {
   "codemirror_mode": {
    "name": "ipython",
    "version": 3
   },
   "file_extension": ".py",
   "mimetype": "text/x-python",
   "name": "python",
   "nbconvert_exporter": "python",
   "pygments_lexer": "ipython3",
   "version": "3.12.7"
  }
 },
 "nbformat": 4,
 "nbformat_minor": 5
}
