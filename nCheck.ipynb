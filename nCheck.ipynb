{
 "cells": [
  {
   "cell_type": "code",
   "execution_count": null,
   "id": "297f17d8-3f30-4c03-ac51-6c6f2027c2b1",
   "metadata": {},
   "outputs": [],
   "source": [
    "import os\n",
    "import numpy as np\n",
    "import matplotlib.pyplot as plt\n",
    "import matplotlib as mpl\n",
    "from pyphare.pharesee.run import Run\n",
    "from pyphare.pharesee.hierarchy import hierarchy_utils\n",
    "\n",
    "# %matplotlib widget\n",
    "%matplotlib inline"
   ]
  },
  {
   "cell_type": "markdown",
   "id": "5da6edca-d296-4bf7-afba-b8546019a3c1",
   "metadata": {},
   "source": [
    "# Test charged mass density 1d"
   ]
  },
  {
   "cell_type": "code",
   "execution_count": null,
   "id": "fa7c401e-647d-426d-a7ef-462c40644be6",
   "metadata": {},
   "outputs": [],
   "source": [
    "run_path = os.path.join(os.curdir, \"nCheck_1d\")\n",
    "time = 0.0"
   ]
  },
  {
   "cell_type": "code",
   "execution_count": null,
   "id": "40b2928e-1ad5-4e3c-bec0-0e5fe16e8991",
   "metadata": {},
   "outputs": [],
   "source": [
    "r = Run(run_path)"
   ]
  },
  {
   "cell_type": "code",
   "execution_count": null,
   "id": "e657d19b-4888-4d1b-8fda-08ab07a9a5da",
   "metadata": {},
   "outputs": [],
   "source": [
    "h1 = r.GetMassDensity(time)\n",
    "h2 = r.GetNi(time)"
   ]
  },
  {
   "cell_type": "code",
   "execution_count": null,
   "id": "2452ec69-99af-461d-9b35-901c8f6a1826",
   "metadata": {},
   "outputs": [],
   "source": [
    "def densityMain(x):\n",
    "    return 1.0\n",
    "\n",
    "def densityBeam(x):\n",
    "    L = 20.\n",
    "    u = x/L-0.5\n",
    "    return np.exp(-u**2)\n",
    "\n",
    "masses = (2, 3)\n",
    "charges = (1, 2)"
   ]
  },
  {
   "cell_type": "code",
   "execution_count": null,
   "id": "3718499e-d025-48dc-85c4-8b520df5d529",
   "metadata": {},
   "outputs": [],
   "source": [
    "def expected_mass_density_func(x, **kwargs):\n",
    "    masses = kwargs[\"masses\"]       # list of float : the ion pop masses\n",
    "    densities = kwargs[\"densities\"] # list of callable : the ion pop density profiles\n",
    "\n",
    "    assert len(masses) == len(densities)\n",
    "    funcs  = np.zeros((x.size, len(masses)))\n",
    "\n",
    "    for i, (mass, density) in enumerate(zip(masses, densities)):\n",
    "        funcs[:,i] = mass*density(x)\n",
    "    \n",
    "    return funcs.sum(axis=1)"
   ]
  },
  {
   "cell_type": "code",
   "execution_count": null,
   "id": "2b166c26-982f-40ab-a8a6-c481808ff9b8",
   "metadata": {},
   "outputs": [],
   "source": [
    "def expected_charge_density_func(x, **kwargs):\n",
    "    charges = kwargs[\"charges\"]     # list of float : the ion pop charges\n",
    "    densities = kwargs[\"densities\"] # list of callable : the ion pop density profiles\n",
    "\n",
    "    assert len(charges) == len(densities)\n",
    "\n",
    "    funcs  = np.zeros((x.size, len(charges)))\n",
    "\n",
    "    for i, (charge, density) in enumerate(zip(charges, densities)):\n",
    "        funcs[:,i] = charge*density(x)\n",
    "    \n",
    "    return funcs.sum(axis=1)"
   ]
  },
  {
   "cell_type": "code",
   "execution_count": null,
   "id": "9490c022-99fe-4312-885a-16d34e677f1b",
   "metadata": {},
   "outputs": [],
   "source": [
    "def hierarchy_fromfunc(func, hier, **kwargs):\n",
    "    from pyphare.pharesee.hierarchy.hierarchy_utils import compute_hier_from\n",
    "    print(hier.ndim)\n",
    "\n",
    "    def compute_(patch_datas, **kwargs):\n",
    "        ref_name = next(iter(patch_datas.keys()))\n",
    "        x_ = patch_datas[ref_name].x\n",
    "\n",
    "        return (\n",
    "            {\"name\": \"value\", \"data\": func(x_, **kwargs), \"centering\": patch_datas[ref_name].centerings},\n",
    "        )\n",
    "\n",
    "    return compute_hier_from(compute_, hier, **kwargs)"
   ]
  },
  {
   "cell_type": "code",
   "execution_count": null,
   "id": "57b09f89-7b26-475b-a92f-d301a47a7f19",
   "metadata": {},
   "outputs": [],
   "source": [
    "H1 = hierarchy_fromfunc(expected_mass_density_func, h1, masses=masses, densities=(densityMain, densityBeam))\n",
    "H2 = hierarchy_fromfunc(expected_charge_density_func, h2, charges=charges, densities=(densityMain, densityBeam))"
   ]
  },
  {
   "cell_type": "code",
   "execution_count": null,
   "id": "08248c11-4c74-4a97-b141-c256ffd2ea2e",
   "metadata": {},
   "outputs": [],
   "source": [
    "fig, (ax1, ax2) = plt.subplots(1, 2, figsize=(8, 3))\n",
    "\n",
    "cycle = plt.rcParams['axes.prop_cycle'].by_key()['color']\n",
    "\n",
    "h1.plot(ax=ax1, ls=\"-\", lw=2.0, color=cycle[0])\n",
    "H1.plot(ax=ax1, ls=\"-\", lw=2.0, color=cycle[1])\n",
    "\n",
    "h2.plot(ax=ax2, ls=\"-\", lw=2.0, color=cycle[0])\n",
    "H2.plot(ax=ax2, ls=\"-\", lw=2.0, color=cycle[1])\n",
    "\n",
    "ax1.set_title(\"mass density : 1d\")\n",
    "ax2.set_title(\"charge density : 1d\")"
   ]
  },
  {
   "cell_type": "markdown",
   "id": "c30e5c00-deeb-4dfd-b9aa-925f44f27545",
   "metadata": {},
   "source": [
    "# Test charged mass density 2d"
   ]
  },
  {
   "cell_type": "code",
   "execution_count": null,
   "id": "16770f0c-014f-4579-9421-7e889399ba2e",
   "metadata": {},
   "outputs": [],
   "source": [
    "run_path = os.path.join(os.curdir, \"nCheck_2d\")\n",
    "time = 0.0"
   ]
  },
  {
   "cell_type": "code",
   "execution_count": null,
   "id": "e7720d3b-72a0-461f-aa2f-53918358fb86",
   "metadata": {},
   "outputs": [],
   "source": [
    "r = Run(run_path)"
   ]
  },
  {
   "cell_type": "code",
   "execution_count": null,
   "id": "5ff5cc87-d35a-47da-a637-7c3d70821d55",
   "metadata": {},
   "outputs": [],
   "source": [
    "h1 = r.GetMassDensity(time)\n",
    "h2 = r.GetNi(time)"
   ]
  },
  {
   "cell_type": "code",
   "execution_count": null,
   "id": "477543d3-8c83-4ee3-b519-95a474b125d2",
   "metadata": {},
   "outputs": [],
   "source": [
    "def densityMain(x, y):\n",
    "    assert len(x) == len(y)\n",
    "    return 1.0*np.ones_like(x)\n",
    "\n",
    "def densityBeam(x, y):\n",
    "    Lx = 24\n",
    "    Ly = 20\n",
    "    assert len(x) == len(y)\n",
    "    u = x/Lx-0.5\n",
    "    v = y/Ly-0.5\n",
    "    return np.exp(-u**2-v**2)\n",
    "\n",
    "masses = (2, 3)\n",
    "charges = (1, 2)"
   ]
  },
  {
   "cell_type": "code",
   "execution_count": null,
   "id": "a0d5be69-7105-4020-8f1c-ffd22786fd5b",
   "metadata": {},
   "outputs": [],
   "source": [
    "def expected_mass_density_func(x, y, **kwargs):\n",
    "    masses = kwargs[\"masses\"]       # list of float : the ion pop masses\n",
    "    densities = kwargs[\"densities\"] # list of callable : the ion pop density profiles\n",
    "\n",
    "    yv, xv = np.meshgrid(y, x)\n",
    "\n",
    "    assert len(masses) == len(densities)\n",
    "    funcs  = np.zeros((x.size, y.size, len(masses)))\n",
    "\n",
    "    for i, (mass, density) in enumerate(zip(masses, densities)):\n",
    "        funcs[:,:,i] = mass*density(xv, yv)\n",
    "    \n",
    "    return funcs.sum(axis=2)"
   ]
  },
  {
   "cell_type": "code",
   "execution_count": null,
   "id": "092b0f0d-bc22-4ff4-90a1-44944ca5669c",
   "metadata": {},
   "outputs": [],
   "source": [
    "def expected_charge_density_func(x, y, **kwargs):\n",
    "    charges = kwargs[\"charges\"]     # list of float : the ion pop charges\n",
    "    densities = kwargs[\"densities\"] # list of callable : the ion pop density profiles\n",
    "\n",
    "    yv, xv = np.meshgrid(y, x)\n",
    "\n",
    "    assert len(charges) == len(densities)\n",
    "    funcs  = np.zeros((x.size, y.size, len(charges)))\n",
    "\n",
    "    for i, (charge, density) in enumerate(zip(charges, densities)):\n",
    "        funcs[:,:,i] = charge*density(xv, yv)\n",
    "    \n",
    "    return funcs.sum(axis=2)"
   ]
  },
  {
   "cell_type": "code",
   "execution_count": null,
   "id": "9a558048-2c79-41a5-b5b2-5940b5018064",
   "metadata": {},
   "outputs": [],
   "source": [
    "def hierarchy_fromfunc(func, hier, **kwargs):\n",
    "    from pyphare.pharesee.hierarchy.hierarchy_utils import compute_hier_from\n",
    "    print(hier.ndim)\n",
    "\n",
    "    def compute_(patch_datas, **kwargs):\n",
    "        ref_name = next(iter(patch_datas.keys()))\n",
    "        x_ = patch_datas[ref_name].x\n",
    "        y_ = patch_datas[ref_name].y\n",
    "\n",
    "        return (\n",
    "            {\"name\": \"value\", \"data\": func(x_, y_, **kwargs), \"centering\": patch_datas[ref_name].centerings},\n",
    "        )\n",
    "\n",
    "    return compute_hier_from(compute_, hier, **kwargs)"
   ]
  },
  {
   "cell_type": "code",
   "execution_count": null,
   "id": "7fd0cf22-f338-4a39-96b7-18b4d00e1fc4",
   "metadata": {},
   "outputs": [],
   "source": [
    "H1 = hierarchy_fromfunc(expected_mass_density_func, h1, masses=masses, densities=(densityMain, densityBeam))\n",
    "H2 = hierarchy_fromfunc(expected_charge_density_func, h1, charges=charges, densities=(densityMain, densityBeam))"
   ]
  },
  {
   "cell_type": "code",
   "execution_count": null,
   "id": "1e637c50-2f98-47e8-bbd9-c55a4ead1d1b",
   "metadata": {},
   "outputs": [],
   "source": [
    "fig, (ax1, ax2) = plt.subplots(1, 2, figsize=(8, 5))\n",
    "\n",
    "cmap = mpl.colormaps['viridis']\n",
    "\n",
    "h1.plot(ax=ax1, vmin=2, vmax=5, cmap=cmap, cbar=False)\n",
    "H1.plot(ax=ax2, vmin=2, vmax=5, cmap=cmap)\n",
    "\n",
    "ax1.set_title(\"computed mass density : 2d\")\n",
    "ax2.set_title(\"expected mass density : 2d\")"
   ]
  },
  {
   "cell_type": "code",
   "execution_count": null,
   "id": "7d7a7996-b861-4ca7-945d-579dca706544",
   "metadata": {},
   "outputs": [],
   "source": [
    "fig, (ax1, ax2) = plt.subplots(1, 2, figsize=(8, 5))\n",
    "\n",
    "cmap = mpl.colormaps['viridis']\n",
    "\n",
    "h2.plot(ax=ax1, vmin=1, vmax=3, cmap=cmap, cbar=False)\n",
    "H2.plot(ax=ax2, vmin=1, vmax=3, cmap=cmap)\n",
    "\n",
    "ax1.set_title(\"computed charge density : 2d\")\n",
    "ax2.set_title(\"expected charge density : 2d\")"
   ]
  },
  {
   "cell_type": "code",
   "execution_count": null,
   "id": "3c9e970f-c877-43b9-872e-34661a435615",
   "metadata": {},
   "outputs": [],
   "source": [
    "fig, ((ax1, ax2), (ax3, ax4)) = plt.subplots(2, 2, figsize=(8, 8))\n",
    "\n",
    "cmap = mpl.colormaps['viridis']\n",
    "\n",
    "h1.plot(ax=ax1, vmin=2, vmax=5, cmap=cmap, cbar=False)\n",
    "H1.plot(ax=ax2, vmin=2, vmax=5, cmap=cmap)\n",
    "h2.plot(ax=ax3, vmin=1, vmax=3, cmap=cmap, cbar=False)\n",
    "H2.plot(ax=ax4, vmin=1, vmax=3, cmap=cmap)\n",
    "\n",
    "ax1.set_title(\"computed mass density : 2d\")\n",
    "ax2.set_title(\"expected mass density : 2d\")\n",
    "ax3.set_title(\"computed charge density : 2d\")\n",
    "ax4.set_title(\"expected charge density : 2d\")"
   ]
  },
  {
   "cell_type": "code",
   "execution_count": null,
   "id": "e69d3c63-8480-4441-9f86-cb2d3a7114e4",
   "metadata": {},
   "outputs": [],
   "source": []
  },
  {
   "cell_type": "code",
   "execution_count": null,
   "id": "c1063f21-65c9-44be-8976-fef178c80d4d",
   "metadata": {},
   "outputs": [],
   "source": []
  },
  {
   "cell_type": "markdown",
   "id": "55edfde0-a0e1-4483-a20d-f33a5f720dec",
   "metadata": {},
   "source": [
    "# Ready for the phare test"
   ]
  },
  {
   "cell_type": "code",
   "execution_count": null,
   "id": "8aaf4bf8-5c7b-4b63-91ec-c4000b59e01f",
   "metadata": {},
   "outputs": [],
   "source": [
    "import os\n",
    "import numpy as np\n",
    "import matplotlib as mpl\n",
    "import matplotlib.pyplot as plt\n",
    "\n",
    "from pyphare.pharesee.run import Run\n",
    "from pyphare.pharesee.hierarchy import hierarchy_from\n",
    "from pyphare.pharesee.hierarchy.fromfunc import ions_mass_density_func1d\n",
    "from pyphare.pharesee.hierarchy.fromfunc import ions_charge_density_func1d\n",
    "from pyphare.pharesee.hierarchy.fromfunc import ions_mass_density_func2d\n",
    "from pyphare.pharesee.hierarchy.fromfunc import ions_charge_density_func2d\n",
    "from pyphare.pharesee.hierarchy.fromfunc import hierarchy_from_func\n",
    "\n",
    "%matplotlib inline"
   ]
  },
  {
   "cell_type": "code",
   "execution_count": null,
   "id": "12bcdfcc-b92d-40d4-83fc-5254fafc246b",
   "metadata": {},
   "outputs": [],
   "source": [
    "run_path = os.path.join(os.curdir, \"nCheck_1d\")\n",
    "time = 0.0"
   ]
  },
  {
   "cell_type": "code",
   "execution_count": null,
   "id": "cfee6a3b-8a2a-4095-8c8a-ba01c3aebdfc",
   "metadata": {},
   "outputs": [],
   "source": [
    "r = Run(run_path)"
   ]
  },
  {
   "cell_type": "code",
   "execution_count": null,
   "id": "f356e9e8-0a1f-4b4a-ad6f-130705cfdde2",
   "metadata": {},
   "outputs": [],
   "source": [
    "def densityMain(x):\n",
    "    return 1.0\n",
    "\n",
    "def densityBeam(x):\n",
    "    L = 20.\n",
    "    u = x/L-0.5\n",
    "    return np.exp(-u**2)\n",
    "\n",
    "masses = (2, 3)\n",
    "charges = (1, 2)"
   ]
  },
  {
   "cell_type": "code",
   "execution_count": null,
   "id": "0eb0c65f-4ca6-4aa8-b804-dbf7a2d84b4f",
   "metadata": {},
   "outputs": [],
   "source": [
    "h1 = r.GetMassDensity(time)\n",
    "h2 = r.GetNi(time)"
   ]
  },
  {
   "cell_type": "code",
   "execution_count": null,
   "id": "b5808459-f899-4c03-9c3c-2188684c8195",
   "metadata": {},
   "outputs": [],
   "source": [
    "H1 = hierarchy_from(hier=h1, func=ions_mass_density_func1d, masses=masses, densities=(densityMain, densityBeam))\n",
    "H2 = hierarchy_from(hier=h2, func=ions_charge_density_func1d, charges=charges, densities=(densityMain, densityBeam))"
   ]
  },
  {
   "cell_type": "code",
   "execution_count": null,
   "id": "e9325f41-1920-427e-a216-312dca56afb6",
   "metadata": {},
   "outputs": [],
   "source": [
    "fig, (ax1, ax2) = plt.subplots(1, 2, figsize=(8, 3))\n",
    "\n",
    "cycle = plt.rcParams['axes.prop_cycle'].by_key()['color']\n",
    "\n",
    "h1.plot(ax=ax1, ls=\"-\", lw=2.0, color=cycle[0])\n",
    "H1.plot(ax=ax1, ls=\"-\", lw=2.0, color=cycle[1])\n",
    "\n",
    "h2.plot(ax=ax2, ls=\"-\", lw=2.0, color=cycle[0])\n",
    "H2.plot(ax=ax2, ls=\"-\", lw=2.0, color=cycle[1])\n",
    "\n",
    "ax1.set_title(\"mass density : 1d\")\n",
    "ax2.set_title(\"charge density : 1d\")"
   ]
  },
  {
   "cell_type": "code",
   "execution_count": null,
   "id": "a4eae7fb-6c97-4af4-95fe-132c13f4540f",
   "metadata": {},
   "outputs": [],
   "source": [
    "run_path = os.path.join(os.curdir, \"nCheck_2d\")\n",
    "time = 0.0"
   ]
  },
  {
   "cell_type": "code",
   "execution_count": null,
   "id": "33824f2b-3629-4b18-8a17-562841d97e54",
   "metadata": {},
   "outputs": [],
   "source": [
    "r = Run(run_path)"
   ]
  },
  {
   "cell_type": "code",
   "execution_count": null,
   "id": "ae9a186b-1599-4cbf-8401-a78a2be806e8",
   "metadata": {},
   "outputs": [],
   "source": [
    "def densityMain(x, y):\n",
    "    assert len(x) == len(y)\n",
    "    return 1.0*np.ones_like(x)\n",
    "\n",
    "def densityBeam(x, y):\n",
    "    Lx = 24\n",
    "    Ly = 20\n",
    "    assert len(x) == len(y)\n",
    "    u = x/Lx-0.5\n",
    "    v = y/Ly-0.5\n",
    "    return np.exp(-u**2-v**2)\n",
    "\n",
    "masses = (2, 3)\n",
    "charges = (1, 2)"
   ]
  },
  {
   "cell_type": "code",
   "execution_count": null,
   "id": "c591a872-e48f-4fea-8c6f-5b2d7fd1e8ad",
   "metadata": {},
   "outputs": [],
   "source": [
    "h1 = r.GetMassDensity(time)\n",
    "h2 = r.GetNi(time)"
   ]
  },
  {
   "cell_type": "code",
   "execution_count": null,
   "id": "a45c078f-3a04-4a24-8fd0-d1a24b090d40",
   "metadata": {},
   "outputs": [],
   "source": [
    "H1 = hierarchy_from(hier=h1, func=ions_mass_density_func2d, masses=masses, densities=(densityMain, densityBeam))\n",
    "H2 = hierarchy_from(hier=h2, func=ions_charge_density_func2d, charges=charges, densities=(densityMain, densityBeam))"
   ]
  },
  {
   "cell_type": "code",
   "execution_count": null,
   "id": "0b6b516b-3eab-42fd-b9f1-04273e60b7c9",
   "metadata": {},
   "outputs": [],
   "source": [
    "fig, ((ax1, ax2), (ax3, ax4)) = plt.subplots(2, 2, figsize=(8, 8))\n",
    "\n",
    "cmap = mpl.colormaps['viridis']\n",
    "\n",
    "h1.plot(ax=ax1, vmin=2, vmax=5, cmap=cmap, cbar=False, title=\"computed mass density : 2d\")\n",
    "H1.plot(ax=ax2, vmin=2, vmax=5, cmap=cmap, title=\"expected mass density : 2d\")\n",
    "h2.plot(ax=ax3, vmin=1, vmax=3, cmap=cmap, cbar=False, title=\"computed charge density : 2d\")\n",
    "H2.plot(ax=ax4, vmin=1, vmax=3, cmap=cmap, title=\"expected charge density : 2d\")"
   ]
  },
  {
   "cell_type": "code",
   "execution_count": null,
   "id": "82578832-8552-45b9-9b8d-df3694757215",
   "metadata": {},
   "outputs": [],
   "source": []
  },
  {
   "cell_type": "code",
   "execution_count": null,
   "id": "ce31c68e-bcc9-4411-bca5-d61474d34e3c",
   "metadata": {},
   "outputs": [],
   "source": []
  }
 ],
 "metadata": {
  "kernelspec": {
   "display_name": "Python 3 (ipykernel)",
   "language": "python",
   "name": "python3"
  },
  "language_info": {
   "codemirror_mode": {
    "name": "ipython",
    "version": 3
   },
   "file_extension": ".py",
   "mimetype": "text/x-python",
   "name": "python",
   "nbconvert_exporter": "python",
   "pygments_lexer": "ipython3",
   "version": "3.12.7"
  }
 },
 "nbformat": 4,
 "nbformat_minor": 5
}
