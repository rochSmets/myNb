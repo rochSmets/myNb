{
 "cells": [
  {
   "cell_type": "code",
   "execution_count": 1,
   "id": "3e46e646-4184-414a-88c1-302035654592",
   "metadata": {},
   "outputs": [],
   "source": [
    "from pyphare.simulator.simulator import Simulator\n",
    "from test_density import config"
   ]
  },
  {
   "cell_type": "code",
   "execution_count": 15,
   "id": "baad316f-d65a-451e-b4e6-7cfb0a846444",
   "metadata": {},
   "outputs": [
    {
     "name": "stdout",
     "output_type": "stream",
     "text": [
      "validating dim=1\n"
     ]
    }
   ],
   "source": [
    "sim = config()"
   ]
  },
  {
   "cell_type": "code",
   "execution_count": null,
   "id": "c74f2124-2e9a-4666-9e4f-f40f16804df0",
   "metadata": {},
   "outputs": [],
   "source": [
    "Simulator(sim).run().reset()"
   ]
  },
  {
   "cell_type": "code",
   "execution_count": 3,
   "id": "297f17d8-3f30-4c03-ac51-6c6f2027c2b1",
   "metadata": {},
   "outputs": [],
   "source": [
    "import os\n",
    "import numpy as np\n",
    "import matplotlib.pyplot as plt\n",
    "import matplotlib as mpl\n",
    "from pyphare.pharesee.run import Run\n",
    "\n",
    "mpl.use(\"TkAgg\")"
   ]
  },
  {
   "cell_type": "code",
   "execution_count": 4,
   "id": "fa7c401e-647d-426d-a7ef-462c40644be6",
   "metadata": {},
   "outputs": [],
   "source": [
    "run_path = os.path.join(os.curdir, \"nCheck\")\n",
    "time = 0.0"
   ]
  },
  {
   "cell_type": "code",
   "execution_count": 5,
   "id": "40b2928e-1ad5-4e3c-bec0-0e5fe16e8991",
   "metadata": {},
   "outputs": [],
   "source": [
    "r = Run(run_path)"
   ]
  },
  {
   "cell_type": "code",
   "execution_count": 6,
   "id": "c6882858-0c49-412d-a061-3b7234fdd4fc",
   "metadata": {},
   "outputs": [],
   "source": [
    "Nm = r.GetMassDensity(time)"
   ]
  },
  {
   "cell_type": "code",
   "execution_count": null,
   "id": "2cdb0dbb-ac04-498d-9e15-1161d3e849f1",
   "metadata": {},
   "outputs": [],
   "source": [
    "Nm.level(0).patches[0].patch_datas"
   ]
  },
  {
   "cell_type": "code",
   "execution_count": null,
   "id": "62ad8459-6885-4708-9b98-e8a58c71c8ed",
   "metadata": {},
   "outputs": [],
   "source": [
    "from pyphare.pharesee.hierarchy import hierarchy_utils"
   ]
  },
  {
   "cell_type": "code",
   "execution_count": null,
   "id": "ab859af9-4623-4beb-9bdd-dc7816fd8f96",
   "metadata": {},
   "outputs": [],
   "source": [
    "newN = hierarchy_utils.rename(Nm, [\"rho\"])"
   ]
  },
  {
   "cell_type": "code",
   "execution_count": null,
   "id": "bb3b2506-4dc2-4aa0-adbe-b5f21f2f16f5",
   "metadata": {},
   "outputs": [],
   "source": [
    "newN.level(0).patches[0].patch_datas"
   ]
  },
  {
   "cell_type": "code",
   "execution_count": null,
   "id": "9cb2a77c-bedd-4027-a312-932fa1d26d1a",
   "metadata": {},
   "outputs": [],
   "source": [
    "fig, ax = plt.subplots()"
   ]
  },
  {
   "cell_type": "code",
   "execution_count": null,
   "id": "713ae277-fdf7-4357-bf57-f5051dea0aa5",
   "metadata": {},
   "outputs": [],
   "source": [
    "newN.plot(ax=ax)"
   ]
  },
  {
   "cell_type": "code",
   "execution_count": null,
   "id": "07ef4c12-2087-4ddf-bb28-f97a47bc37be",
   "metadata": {},
   "outputs": [],
   "source": [
    "plt.show()"
   ]
  },
  {
   "cell_type": "code",
   "execution_count": null,
   "id": "ef0e35f9-133b-4999-8b2f-0a12177e53f6",
   "metadata": {},
   "outputs": [],
   "source": []
  },
  {
   "cell_type": "code",
   "execution_count": null,
   "id": "01dcc750-fa6f-466e-b932-1ffe688060ea",
   "metadata": {},
   "outputs": [],
   "source": []
  },
  {
   "cell_type": "code",
   "execution_count": null,
   "id": "2a04048c-be88-450e-bfb4-c460c6fc6514",
   "metadata": {},
   "outputs": [],
   "source": []
  },
  {
   "cell_type": "code",
   "execution_count": 7,
   "id": "fa1febb0-c632-436f-b7b3-178e88a02842",
   "metadata": {},
   "outputs": [],
   "source": [
    "hier_computed = r.GetMassDensity(time)"
   ]
  },
  {
   "cell_type": "code",
   "execution_count": 49,
   "id": "0d95d185-e052-4695-80e6-0a63e7282e38",
   "metadata": {},
   "outputs": [],
   "source": [
    "L = sim.simulation_domain()"
   ]
  },
  {
   "cell_type": "code",
   "execution_count": 50,
   "id": "d0f8288e-fd2e-4ecb-a27b-fdbc901540e7",
   "metadata": {},
   "outputs": [],
   "source": [
    "def densityMain(x):\n",
    "    return 1.\n",
    "\n",
    "def densityBeam(x):\n",
    "    u = x/L-0.5\n",
    "    return np.exp(-u**2)\n",
    "\n",
    "m_Main = 2\n",
    "m_Beam = 3"
   ]
  },
  {
   "cell_type": "code",
   "execution_count": 51,
   "id": "73f6508e-eab7-4feb-9fd7-a534c0619cf0",
   "metadata": {},
   "outputs": [],
   "source": [
    "def _compute_ions_mass_density_profile(patch_datas, **kwargs):\n",
    "    ref_name = next(iter(patch_datas.keys()))\n",
    "\n",
    "    x_ = patch_datas[ref_name].x\n",
    "    print(type(x_), x_)\n",
    "    dset = m_Main*densityMain(x_)+m_Beam*densityBeam(x_)\n",
    "    \n",
    "    # dset = patch_datas[\"value\"][:]\n",
    "    return ({\"name\": \"value\", \"data\": dset, \"centering\": patch_datas[ref_name].centerings},)"
   ]
  },
  {
   "cell_type": "code",
   "execution_count": 52,
   "id": "6bc022f2-2688-48ac-8b4e-eb15c6a83b3a",
   "metadata": {},
   "outputs": [
    {
     "name": "stdout",
     "output_type": "stream",
     "text": [
      "<class 'numpy.ndarray'> [-0.4 -0.2  0.   0.2  0.4  0.6  0.8  1.   1.2  1.4  1.6  1.8  2.   2.2\n",
      "  2.4  2.6  2.8  3.   3.2  3.4  3.6  3.8  4.   4.2  4.4  4.6  4.8  5.\n",
      "  5.2  5.4  5.6  5.8  6.   6.2  6.4  6.6  6.8  7.   7.2  7.4  7.6  7.8\n",
      "  8.   8.2  8.4  8.6  8.8  9.   9.2  9.4  9.6  9.8 10.  10.2 10.4]\n",
      "<class 'numpy.ndarray'> [ 9.6  9.8 10.  10.2 10.4 10.6 10.8 11.  11.2 11.4 11.6 11.8 12.  12.2\n",
      " 12.4 12.6 12.8 13.  13.2 13.4 13.6 13.8 14.  14.2 14.4 14.6 14.8 15.\n",
      " 15.2 15.4 15.6 15.8 16.  16.2 16.4 16.6 16.8 17.  17.2 17.4 17.6 17.8\n",
      " 18.  18.2 18.4 18.6 18.8 19.  19.2 19.4 19.6 19.8 20.  20.2 20.4]\n"
     ]
    }
   ],
   "source": [
    "from pyphare.pharesee.hierarchy.hierarchy_utils import compute_hier_from\n",
    "hier_expected = compute_hier_from(_compute_ions_mass_density_profile, hier_computed)"
   ]
  },
  {
   "cell_type": "code",
   "execution_count": 53,
   "id": "57b7c046-37b1-49ed-a25f-febf08c957d8",
   "metadata": {},
   "outputs": [],
   "source": [
    "from pyphare.pharein import global_vars"
   ]
  },
  {
   "cell_type": "code",
   "execution_count": 54,
   "id": "2e2d4524-ba7b-43d0-9094-9878a54e6065",
   "metadata": {},
   "outputs": [
    {
     "data": {
      "text/plain": [
       "<pyphare.pharein.simulation.Simulation at 0x7f36e0382bd0>"
      ]
     },
     "execution_count": 54,
     "metadata": {},
     "output_type": "execute_result"
    }
   ],
   "source": [
    "global_vars.sim"
   ]
  },
  {
   "cell_type": "code",
   "execution_count": null,
   "id": "32faf60d-6973-4251-ab5e-436c7d59092d",
   "metadata": {},
   "outputs": [],
   "source": []
  },
  {
   "cell_type": "code",
   "execution_count": null,
   "id": "83533495-f7a0-4681-8d31-dd2b894f2e55",
   "metadata": {},
   "outputs": [],
   "source": []
  },
  {
   "cell_type": "code",
   "execution_count": null,
   "id": "dc1e9b46-4682-4d0d-8c54-e036d05704a9",
   "metadata": {},
   "outputs": [],
   "source": []
  },
  {
   "cell_type": "code",
   "execution_count": null,
   "id": "6b6e5bb5-2cae-4579-ba25-c3fcfd9204c0",
   "metadata": {},
   "outputs": [],
   "source": []
  }
 ],
 "metadata": {
  "kernelspec": {
   "display_name": "Python 3 (ipykernel)",
   "language": "python",
   "name": "python3"
  },
  "language_info": {
   "codemirror_mode": {
    "name": "ipython",
    "version": 3
   },
   "file_extension": ".py",
   "mimetype": "text/x-python",
   "name": "python",
   "nbconvert_exporter": "python",
   "pygments_lexer": "ipython3",
   "version": "3.12.6"
  }
 },
 "nbformat": 4,
 "nbformat_minor": 5
}
