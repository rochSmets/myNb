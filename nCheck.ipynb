{
 "cells": [
  {
   "cell_type": "code",
   "execution_count": null,
   "id": "297f17d8-3f30-4c03-ac51-6c6f2027c2b1",
   "metadata": {},
   "outputs": [],
   "source": [
    "import os\n",
    "\n",
    "import pyphare.pharein as ph\n",
    "from pyphare.simulator.simulator import Simulator\n",
    "from pyphare.pharesee.run import Run\n",
    "\n",
    "from pyphare.pharein import global_vars\n",
    "from tests.diagnostic import all_timestamps\n",
    "\n",
    "from pyphare.pharein.diagnostics import FluidDiagnostics\n",
    "\n",
    "import matplotlib.pyplot as plt\n",
    "import matplotlib as mpl\n",
    "import numpy as np\n",
    "\n",
    "mpl.use(\"Agg\")"
   ]
  },
  {
   "cell_type": "code",
   "execution_count": null,
   "id": "05820000-4524-457a-9c03-86fa86a87b36",
   "metadata": {},
   "outputs": [],
   "source": [
    "def config():\n",
    "\n",
    "    sim = ph.Simulation(\n",
    "        smallest_patch_size=20,\n",
    "        largest_patch_size=60,\n",
    "        time_step=0.01,\n",
    "        time_step_nbr=2,\n",
    "        boundary_types=\"periodic\",\n",
    "        cells=100,\n",
    "        dl=0.2,\n",
    "        diag_options={\n",
    "            \"format\": \"phareh5\",\n",
    "            \"options\": {\"dir\": \"nCheck\", \"mode\": \"overwrite\"},\n",
    "        },\n",
    "    )\n",
    "\n",
    "    L = sim.simulation_domain()[0]\n",
    "\n",
    "    def densityMain(x):\n",
    "        return 1.0\n",
    "\n",
    "    def densityBeam(x):\n",
    "        u = x/L-0.5\n",
    "        return np.exp(-u**2)\n",
    "\n",
    "    def bx(x):\n",
    "        return 1.0\n",
    "\n",
    "    def by(x):\n",
    "        return 0.0\n",
    "\n",
    "    def bz(x):\n",
    "        return 0.0\n",
    "\n",
    "    def v0(x):\n",
    "        return 0.0\n",
    "\n",
    "    def vth(x):\n",
    "        return np.sqrt(1.0)\n",
    "\n",
    "    v_pop = {\n",
    "        \"vbulkx\": v0,\n",
    "        \"vbulky\": v0,\n",
    "        \"vbulkz\": v0,\n",
    "        \"vthx\": vth,\n",
    "        \"vthy\": vth,\n",
    "        \"vthz\": vth,\n",
    "    }\n",
    "\n",
    "    ph.MaxwellianFluidModel(\n",
    "        bx=bx,\n",
    "        by=by,\n",
    "        bz=bz,\n",
    "        main={\"mass\": 2, \"charge\": 1, \"density\": densityMain, **v_pop},\n",
    "        beam={\"mass\": 3, \"charge\": 2, \"density\": densityBeam, **v_pop},\n",
    "    )\n",
    "\n",
    "    ph.ElectronModel(closure=\"isothermal\", Te=0.0)\n",
    "\n",
    "    timestamps = all_timestamps(global_vars.sim)\n",
    "\n",
    "    for quantity in [\"density\", \"charge_density\"]:\n",
    "        FluidDiagnostics(\n",
    "            quantity=quantity,\n",
    "            write_timestamps=timestamps\n",
    "        )\n",
    "\n",
    "    poplist = [\"main\", \"beam\"]\n",
    "    for pop in poplist:\n",
    "        for quantity in [\"density\", \"charge_density\", \"mass_density\"]:\n",
    "            FluidDiagnostics(\n",
    "                quantity=quantity,\n",
    "                write_timestamps=timestamps,\n",
    "                population_name=pop,\n",
    "            )\n",
    "\n",
    "    return sim"
   ]
  },
  {
   "cell_type": "code",
   "execution_count": null,
   "id": "8190a772-b0c2-41dc-875a-3252cd668f66",
   "metadata": {},
   "outputs": [],
   "source": [
    "def get_hierarchies(run_path):\n",
    "    r = Run(run_path)\n",
    "\n",
    "    N_hier = r.GetNi(0.0)\n",
    "\n",
    "    return N_hier"
   ]
  },
  {
   "cell_type": "code",
   "execution_count": null,
   "id": "4ad990ec-501f-4c3b-a258-3a2234f7bb60",
   "metadata": {},
   "outputs": [],
   "source": [
    "sim = config()"
   ]
  },
  {
   "cell_type": "code",
   "execution_count": null,
   "id": "295fe633-3853-456a-9a47-3a0e9e3e846f",
   "metadata": {},
   "outputs": [],
   "source": [
    "Simulator(sim).run()"
   ]
  },
  {
   "cell_type": "code",
   "execution_count": null,
   "id": "2bc91c19-b43f-47e5-8a13-cca4c6b134e8",
   "metadata": {},
   "outputs": [],
   "source": [
    "sim.reset()"
   ]
  },
  {
   "cell_type": "code",
   "execution_count": null,
   "id": "fa7c401e-647d-426d-a7ef-462c40644be6",
   "metadata": {},
   "outputs": [],
   "source": [
    "run_path = os.path.join(os.curdir, \"nCheck\")\n",
    "time = 0.0"
   ]
  },
  {
   "cell_type": "code",
   "execution_count": null,
   "id": "40b2928e-1ad5-4e3c-bec0-0e5fe16e8991",
   "metadata": {},
   "outputs": [],
   "source": [
    "r = Run(run_path)"
   ]
  },
  {
   "cell_type": "code",
   "execution_count": null,
   "id": "ca11935f-27de-4ce2-bf8d-95d6867500d4",
   "metadata": {},
   "outputs": [],
   "source": [
    "NmHier = r.GetN(time, \"main\")\n",
    "NbHier = r.GetN(time, \"main\")\n",
    "NiHier = r.GetNi(time)"
   ]
  }
 ],
 "metadata": {
  "kernelspec": {
   "display_name": "Python 3 (ipykernel)",
   "language": "python",
   "name": "python3"
  },
  "language_info": {
   "codemirror_mode": {
    "name": "ipython",
    "version": 3
   },
   "file_extension": ".py",
   "mimetype": "text/x-python",
   "name": "python",
   "nbconvert_exporter": "python",
   "pygments_lexer": "ipython3",
   "version": "3.12.6"
  }
 },
 "nbformat": 4,
 "nbformat_minor": 5
}
