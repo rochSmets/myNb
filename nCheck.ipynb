{
 "cells": [
  {
   "cell_type": "code",
   "execution_count": 14,
   "id": "297f17d8-3f30-4c03-ac51-6c6f2027c2b1",
   "metadata": {},
   "outputs": [],
   "source": [
    "import os\n",
    "import numpy as np\n",
    "import matplotlib.pyplot as plt\n",
    "import matplotlib as mpl\n",
    "from pyphare.pharesee.run import Run\n",
    "from pyphare.pharesee.hierarchy import hierarchy_utils\n",
    "\n",
    "mpl.use(\"TkAgg\")"
   ]
  },
  {
   "cell_type": "code",
   "execution_count": 15,
   "id": "fa7c401e-647d-426d-a7ef-462c40644be6",
   "metadata": {},
   "outputs": [],
   "source": [
    "run_path = os.path.join(os.curdir, \"nCheck\")\n",
    "time = 0.0"
   ]
  },
  {
   "cell_type": "code",
   "execution_count": 16,
   "id": "40b2928e-1ad5-4e3c-bec0-0e5fe16e8991",
   "metadata": {},
   "outputs": [],
   "source": [
    "r = Run(run_path)"
   ]
  },
  {
   "cell_type": "code",
   "execution_count": 17,
   "id": "e657d19b-4888-4d1b-8fda-08ab07a9a5da",
   "metadata": {},
   "outputs": [],
   "source": [
    "h = r.GetMassDensity(time)\n",
    "# H = hierarchy_utils.rename(r.GetMassDensity(time), [\"rho\"])"
   ]
  },
  {
   "cell_type": "code",
   "execution_count": 20,
   "id": "5ad98e7f-a988-479b-a939-e05707a595d8",
   "metadata": {},
   "outputs": [],
   "source": [
    "# h.plot(\"rho\")"
   ]
  },
  {
   "cell_type": "code",
   "execution_count": 34,
   "id": "611ea0d3-776f-4f59-82c9-76c3198086f3",
   "metadata": {},
   "outputs": [],
   "source": [
    "def sigma(funcs, x):\n",
    "    return sum(f(x) for f in funcs)\n",
    "\n",
    "phi = [lambda x: x**2, lambda x: x]\n",
    "x = np.array([1, 2, 3])\n",
    "y = sigma(phi, x)"
   ]
  },
  {
   "cell_type": "code",
   "execution_count": 36,
   "id": "33677ed8-4de0-4345-870e-50f98cceaf21",
   "metadata": {},
   "outputs": [],
   "source": [
    "def expected_mass_density_func(x, **kwargs):\n",
    "    masses = kwargs[\"masses\"]\n",
    "    densities = kwargs[\"densities\"]\n",
    "\n",
    "    assert len(masses) == len(densities)\n",
    "\n",
    "    funcs = []\n",
    "    for mass, density in zip(masses, densities):\n",
    "        funcs.append(lambda x: mass*density(x))\n",
    "\n",
    "    return sum(f(x) for f in funcs)"
   ]
  },
  {
   "cell_type": "code",
   "execution_count": null,
   "id": "36a6f164-dd52-495a-840d-de0c8809d060",
   "metadata": {},
   "outputs": [],
   "source": []
  },
  {
   "cell_type": "code",
   "execution_count": 26,
   "id": "f109047f-ed7d-4512-8ddc-ae0bd62880a2",
   "metadata": {},
   "outputs": [],
   "source": [
    "def hierarchy_fromfunc(func, hier, **kwargs):\n",
    "    from pyphare.pharesee.hierarchy.hierarchy_utils import compute_hier_from\n",
    "    # return hier\n",
    "\n",
    "    return compute_hier_from(func, hier, **kwargs)"
   ]
  },
  {
   "cell_type": "code",
   "execution_count": 22,
   "id": "84efc773-fe00-45c2-87ed-206947a8f57c",
   "metadata": {},
   "outputs": [],
   "source": [
    "H = hierarchy_fromfunc(lambda x:x, h)"
   ]
  },
  {
   "cell_type": "code",
   "execution_count": 25,
   "id": "71f8de87-ad16-4dd5-bdc8-764f2db8e4dc",
   "metadata": {},
   "outputs": [],
   "source": [
    "# hierarchy_utils.hierarchy_compare(h, h)"
   ]
  },
  {
   "cell_type": "code",
   "execution_count": null,
   "id": "f9611174-a8c9-429b-a689-fc1861e47a49",
   "metadata": {},
   "outputs": [],
   "source": [
    "def _compute_sqrt(patch_datas, **kwargs):\n",
    "    ref_name = next(iter(patch_datas.keys()))\n",
    "\n",
    "    dset = np.sqrt(patch_datas[\"value\"][:])\n",
    "\n",
    "    return (\n",
    "        {\"name\": \"value\", \"data\": dset, \"centering\": patch_datas[ref_name].centerings},\n",
    "    )\n"
   ]
  },
  {
   "cell_type": "code",
   "execution_count": null,
   "id": "2fd60083-598a-465d-ae46-840d7bc1a437",
   "metadata": {},
   "outputs": [],
   "source": []
  },
  {
   "cell_type": "code",
   "execution_count": 27,
   "id": "eb17915c-90b0-4ebd-868c-448c5a753682",
   "metadata": {},
   "outputs": [],
   "source": [
    "def zob(x):\n",
    "    return sum(lambda x:x, lambda x : x^2)"
   ]
  },
  {
   "cell_type": "code",
   "execution_count": 28,
   "id": "25ade180-6b6d-4d43-9779-830510e09bd7",
   "metadata": {},
   "outputs": [
    {
     "ename": "TypeError",
     "evalue": "'function' object is not iterable",
     "output_type": "error",
     "traceback": [
      "\u001b[0;31m---------------------------------------------------------------------------\u001b[0m",
      "\u001b[0;31mTypeError\u001b[0m                                 Traceback (most recent call last)",
      "Cell \u001b[0;32mIn[28], line 1\u001b[0m\n\u001b[0;32m----> 1\u001b[0m \u001b[43mzob\u001b[49m\u001b[43m(\u001b[49m\u001b[38;5;241;43m2\u001b[39;49m\u001b[43m)\u001b[49m\n",
      "Cell \u001b[0;32mIn[27], line 2\u001b[0m, in \u001b[0;36mzob\u001b[0;34m(x)\u001b[0m\n\u001b[1;32m      1\u001b[0m \u001b[38;5;28;01mdef\u001b[39;00m \u001b[38;5;21mzob\u001b[39m(x):\n\u001b[0;32m----> 2\u001b[0m     \u001b[38;5;28;01mreturn\u001b[39;00m \u001b[38;5;28;43msum\u001b[39;49m\u001b[43m(\u001b[49m\u001b[38;5;28;43;01mlambda\u001b[39;49;00m\u001b[43m \u001b[49m\u001b[43mx\u001b[49m\u001b[43m:\u001b[49m\u001b[43mx\u001b[49m\u001b[43m,\u001b[49m\u001b[43m \u001b[49m\u001b[38;5;28;43;01mlambda\u001b[39;49;00m\u001b[43m \u001b[49m\u001b[43mx\u001b[49m\u001b[43m \u001b[49m\u001b[43m:\u001b[49m\u001b[43m \u001b[49m\u001b[43mx\u001b[49m\u001b[38;5;241;43m^\u001b[39;49m\u001b[38;5;241;43m2\u001b[39;49m\u001b[43m)\u001b[49m\n",
      "\u001b[0;31mTypeError\u001b[0m: 'function' object is not iterable"
     ]
    }
   ],
   "source": [
    "zob(2)"
   ]
  },
  {
   "cell_type": "code",
   "execution_count": 31,
   "id": "1bb75da8-e6f0-4356-bc3d-8aed90666134",
   "metadata": {},
   "outputs": [],
   "source": [
    "def sigma(funcs, x):\n",
    "    return sum(f(x) for f in funcs)\n",
    "\n",
    "phi = [lambda x: x**2, lambda x: x]\n",
    "x = np.array([1, 2, 3])\n",
    "y = sigma(phi, x)"
   ]
  },
  {
   "cell_type": "code",
   "execution_count": 32,
   "id": "511e1ecd-136e-4f04-85f4-432c95e0a2aa",
   "metadata": {},
   "outputs": [
    {
     "data": {
      "text/plain": [
       "array([ 2,  6, 12])"
      ]
     },
     "execution_count": 32,
     "metadata": {},
     "output_type": "execute_result"
    }
   ],
   "source": [
    "y"
   ]
  },
  {
   "cell_type": "code",
   "execution_count": 4,
   "id": "3b62f054-c95f-4dce-b73f-18993b596fe4",
   "metadata": {},
   "outputs": [
    {
     "ename": "NameError",
     "evalue": "name 'hierarchy_utils' is not defined",
     "output_type": "error",
     "traceback": [
      "\u001b[0;31m---------------------------------------------------------------------------\u001b[0m",
      "\u001b[0;31mNameError\u001b[0m                                 Traceback (most recent call last)",
      "Cell \u001b[0;32mIn[4], line 1\u001b[0m\n\u001b[0;32m----> 1\u001b[0m Ni \u001b[38;5;241m=\u001b[39m \u001b[43mhierarchy_utils\u001b[49m\u001b[38;5;241m.\u001b[39mrename(r\u001b[38;5;241m.\u001b[39mGetMassDensity(time), [\u001b[38;5;124m\"\u001b[39m\u001b[38;5;124mrho\u001b[39m\u001b[38;5;124m\"\u001b[39m])\n",
      "\u001b[0;31mNameError\u001b[0m: name 'hierarchy_utils' is not defined"
     ]
    }
   ],
   "source": [
    "Ni = hierarchy_utils.rename(r.GetMassDensity(time), [\"rho\"])"
   ]
  },
  {
   "cell_type": "code",
   "execution_count": 65,
   "id": "7326ba41-e483-481f-9296-fcc999baea47",
   "metadata": {},
   "outputs": [],
   "source": [
    "fig, ax = plt.subplots(figsize=(8, 6))\n",
    "cycle = plt.rcParams['axes.prop_cycle'].by_key()['color']"
   ]
  },
  {
   "cell_type": "code",
   "execution_count": 66,
   "id": "f3b15566-74ac-498d-be50-17d85a5f4879",
   "metadata": {},
   "outputs": [],
   "source": [
    "Ni.plot(ax=ax, ls=\"-\", lw=2.0, color=cycle[0])"
   ]
  },
  {
   "cell_type": "code",
   "execution_count": 67,
   "id": "335231b5-2cac-47b4-9204-e89473fc08b3",
   "metadata": {},
   "outputs": [],
   "source": [
    "plt.show()"
   ]
  },
  {
   "cell_type": "code",
   "execution_count": 68,
   "id": "153109c7-ac65-4af0-b684-c828d6eab7cf",
   "metadata": {},
   "outputs": [
    {
     "data": {
      "text/plain": [
       "['__class__',\n",
       " '__class_getitem__',\n",
       " '__contains__',\n",
       " '__delattr__',\n",
       " '__delitem__',\n",
       " '__dir__',\n",
       " '__doc__',\n",
       " '__eq__',\n",
       " '__format__',\n",
       " '__ge__',\n",
       " '__getattribute__',\n",
       " '__getitem__',\n",
       " '__getstate__',\n",
       " '__gt__',\n",
       " '__hash__',\n",
       " '__init__',\n",
       " '__init_subclass__',\n",
       " '__ior__',\n",
       " '__iter__',\n",
       " '__le__',\n",
       " '__len__',\n",
       " '__lt__',\n",
       " '__ne__',\n",
       " '__new__',\n",
       " '__or__',\n",
       " '__reduce__',\n",
       " '__reduce_ex__',\n",
       " '__repr__',\n",
       " '__reversed__',\n",
       " '__ror__',\n",
       " '__setattr__',\n",
       " '__setitem__',\n",
       " '__sizeof__',\n",
       " '__str__',\n",
       " '__subclasshook__',\n",
       " 'clear',\n",
       " 'copy',\n",
       " 'fromkeys',\n",
       " 'get',\n",
       " 'items',\n",
       " 'keys',\n",
       " 'pop',\n",
       " 'popitem',\n",
       " 'setdefault',\n",
       " 'update',\n",
       " 'values']"
      ]
     },
     "execution_count": 68,
     "metadata": {},
     "output_type": "execute_result"
    }
   ],
   "source": [
    "dir({})"
   ]
  },
  {
   "cell_type": "code",
   "execution_count": 16,
   "id": "c6882858-0c49-412d-a061-3b7234fdd4fc",
   "metadata": {},
   "outputs": [],
   "source": [
    "mass_computed = r.GetMassDensity(time)"
   ]
  },
  {
   "cell_type": "code",
   "execution_count": null,
   "id": "a222815d-31f2-4b7a-99f2-e6691b974747",
   "metadata": {},
   "outputs": [],
   "source": []
  },
  {
   "cell_type": "code",
   "execution_count": null,
   "id": "9714fa66-b612-41a5-af77-10954040dd4e",
   "metadata": {},
   "outputs": [],
   "source": []
  },
  {
   "cell_type": "code",
   "execution_count": null,
   "id": "60533f1e-cf02-4ea7-842e-030a452fa86e",
   "metadata": {},
   "outputs": [],
   "source": []
  },
  {
   "cell_type": "code",
   "execution_count": null,
   "id": "550b640e-279d-47eb-9ff9-3410fcd4d04f",
   "metadata": {},
   "outputs": [],
   "source": []
  },
  {
   "cell_type": "code",
   "execution_count": null,
   "id": "91f3aea1-32c0-4f11-aca3-545eea4a49f1",
   "metadata": {},
   "outputs": [],
   "source": []
  },
  {
   "cell_type": "code",
   "execution_count": null,
   "id": "4f5de4af-5a46-424c-bbb4-ad494c13b9fe",
   "metadata": {},
   "outputs": [],
   "source": []
  },
  {
   "cell_type": "code",
   "execution_count": null,
   "id": "d77cf174-5dd8-41d6-93fa-cdce59a205ba",
   "metadata": {},
   "outputs": [],
   "source": []
  },
  {
   "cell_type": "code",
   "execution_count": 8,
   "id": "2cdb0dbb-ac04-498d-9e15-1161d3e849f1",
   "metadata": {},
   "outputs": [
    {
     "data": {
      "text/plain": [
       "{'value': FieldData: (box=(Box([0],[49]), [50]), key=value)}"
      ]
     },
     "execution_count": 8,
     "metadata": {},
     "output_type": "execute_result"
    }
   ],
   "source": [
    "Nm.level(0).patches[0].patch_datas"
   ]
  },
  {
   "cell_type": "code",
   "execution_count": 9,
   "id": "62ad8459-6885-4708-9b98-e8a58c71c8ed",
   "metadata": {},
   "outputs": [],
   "source": [
    "from pyphare.pharesee.hierarchy import hierarchy_utils"
   ]
  },
  {
   "cell_type": "code",
   "execution_count": 10,
   "id": "ab859af9-4623-4beb-9bdd-dc7816fd8f96",
   "metadata": {},
   "outputs": [],
   "source": [
    "newN = hierarchy_utils.rename(Nm, [\"rho\"])"
   ]
  },
  {
   "cell_type": "code",
   "execution_count": 11,
   "id": "bb3b2506-4dc2-4aa0-adbe-b5f21f2f16f5",
   "metadata": {},
   "outputs": [
    {
     "data": {
      "text/plain": [
       "{'rho': FieldData: (box=(Box([0],[49]), [50]), key=rho)}"
      ]
     },
     "execution_count": 11,
     "metadata": {},
     "output_type": "execute_result"
    }
   ],
   "source": [
    "newN.level(0).patches[0].patch_datas"
   ]
  },
  {
   "cell_type": "code",
   "execution_count": null,
   "id": "ef0e35f9-133b-4999-8b2f-0a12177e53f6",
   "metadata": {},
   "outputs": [],
   "source": []
  },
  {
   "cell_type": "code",
   "execution_count": null,
   "id": "01dcc750-fa6f-466e-b932-1ffe688060ea",
   "metadata": {},
   "outputs": [],
   "source": []
  },
  {
   "cell_type": "code",
   "execution_count": null,
   "id": "2a04048c-be88-450e-bfb4-c460c6fc6514",
   "metadata": {},
   "outputs": [],
   "source": []
  },
  {
   "cell_type": "code",
   "execution_count": 5,
   "id": "fa1febb0-c632-436f-b7b3-178e88a02842",
   "metadata": {},
   "outputs": [],
   "source": [
    "hier_computed = r.GetMassDensity(time)"
   ]
  },
  {
   "cell_type": "code",
   "execution_count": 6,
   "id": "0d95d185-e052-4695-80e6-0a63e7282e38",
   "metadata": {},
   "outputs": [
    {
     "ename": "NameError",
     "evalue": "name 'sim' is not defined",
     "output_type": "error",
     "traceback": [
      "\u001b[0;31m---------------------------------------------------------------------------\u001b[0m",
      "\u001b[0;31mNameError\u001b[0m                                 Traceback (most recent call last)",
      "Cell \u001b[0;32mIn[6], line 1\u001b[0m\n\u001b[0;32m----> 1\u001b[0m L \u001b[38;5;241m=\u001b[39m \u001b[43msim\u001b[49m\u001b[38;5;241m.\u001b[39msimulation_domain()\n",
      "\u001b[0;31mNameError\u001b[0m: name 'sim' is not defined"
     ]
    }
   ],
   "source": [
    "L = sim.simulation_domain()"
   ]
  },
  {
   "cell_type": "code",
   "execution_count": 50,
   "id": "d0f8288e-fd2e-4ecb-a27b-fdbc901540e7",
   "metadata": {},
   "outputs": [],
   "source": [
    "def densityMain(x):\n",
    "    return 1.\n",
    "\n",
    "def densityBeam(x):\n",
    "    u = x/L-0.5\n",
    "    return np.exp(-u**2)\n",
    "\n",
    "m_Main = 2\n",
    "m_Beam = 3"
   ]
  },
  {
   "cell_type": "code",
   "execution_count": 51,
   "id": "73f6508e-eab7-4feb-9fd7-a534c0619cf0",
   "metadata": {},
   "outputs": [],
   "source": [
    "def _compute_ions_mass_density_profile(patch_datas, **kwargs):\n",
    "    ref_name = next(iter(patch_datas.keys()))\n",
    "\n",
    "    x_ = patch_datas[ref_name].x\n",
    "    print(type(x_), x_)\n",
    "    dset = m_Main*densityMain(x_)+m_Beam*densityBeam(x_)\n",
    "    \n",
    "    # dset = patch_datas[\"value\"][:]\n",
    "    return ({\"name\": \"value\", \"data\": dset, \"centering\": patch_datas[ref_name].centerings},)"
   ]
  },
  {
   "cell_type": "code",
   "execution_count": 52,
   "id": "6bc022f2-2688-48ac-8b4e-eb15c6a83b3a",
   "metadata": {},
   "outputs": [
    {
     "name": "stdout",
     "output_type": "stream",
     "text": [
      "<class 'numpy.ndarray'> [-0.4 -0.2  0.   0.2  0.4  0.6  0.8  1.   1.2  1.4  1.6  1.8  2.   2.2\n",
      "  2.4  2.6  2.8  3.   3.2  3.4  3.6  3.8  4.   4.2  4.4  4.6  4.8  5.\n",
      "  5.2  5.4  5.6  5.8  6.   6.2  6.4  6.6  6.8  7.   7.2  7.4  7.6  7.8\n",
      "  8.   8.2  8.4  8.6  8.8  9.   9.2  9.4  9.6  9.8 10.  10.2 10.4]\n",
      "<class 'numpy.ndarray'> [ 9.6  9.8 10.  10.2 10.4 10.6 10.8 11.  11.2 11.4 11.6 11.8 12.  12.2\n",
      " 12.4 12.6 12.8 13.  13.2 13.4 13.6 13.8 14.  14.2 14.4 14.6 14.8 15.\n",
      " 15.2 15.4 15.6 15.8 16.  16.2 16.4 16.6 16.8 17.  17.2 17.4 17.6 17.8\n",
      " 18.  18.2 18.4 18.6 18.8 19.  19.2 19.4 19.6 19.8 20.  20.2 20.4]\n"
     ]
    }
   ],
   "source": [
    "from pyphare.pharesee.hierarchy.hierarchy_utils import compute_hier_from\n",
    "hier_expected = compute_hier_from(_compute_ions_mass_density_profile, hier_computed)"
   ]
  },
  {
   "cell_type": "code",
   "execution_count": 53,
   "id": "57b7c046-37b1-49ed-a25f-febf08c957d8",
   "metadata": {},
   "outputs": [],
   "source": [
    "from pyphare.pharein import global_vars"
   ]
  },
  {
   "cell_type": "code",
   "execution_count": 54,
   "id": "2e2d4524-ba7b-43d0-9094-9878a54e6065",
   "metadata": {},
   "outputs": [
    {
     "data": {
      "text/plain": [
       "<pyphare.pharein.simulation.Simulation at 0x7f36e0382bd0>"
      ]
     },
     "execution_count": 54,
     "metadata": {},
     "output_type": "execute_result"
    }
   ],
   "source": [
    "global_vars.sim"
   ]
  },
  {
   "cell_type": "code",
   "execution_count": null,
   "id": "32faf60d-6973-4251-ab5e-436c7d59092d",
   "metadata": {},
   "outputs": [],
   "source": []
  },
  {
   "cell_type": "code",
   "execution_count": null,
   "id": "83533495-f7a0-4681-8d31-dd2b894f2e55",
   "metadata": {},
   "outputs": [],
   "source": []
  },
  {
   "cell_type": "code",
   "execution_count": null,
   "id": "dc1e9b46-4682-4d0d-8c54-e036d05704a9",
   "metadata": {},
   "outputs": [],
   "source": []
  },
  {
   "cell_type": "code",
   "execution_count": null,
   "id": "6b6e5bb5-2cae-4579-ba25-c3fcfd9204c0",
   "metadata": {},
   "outputs": [],
   "source": []
  }
 ],
 "metadata": {
  "kernelspec": {
   "display_name": "Python 3 (ipykernel)",
   "language": "python",
   "name": "python3"
  },
  "language_info": {
   "codemirror_mode": {
    "name": "ipython",
    "version": 3
   },
   "file_extension": ".py",
   "mimetype": "text/x-python",
   "name": "python",
   "nbconvert_exporter": "python",
   "pygments_lexer": "ipython3",
   "version": "3.12.6"
  }
 },
 "nbformat": 4,
 "nbformat_minor": 5
}
