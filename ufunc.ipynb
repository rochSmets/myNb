{
 "cells": [
  {
   "cell_type": "code",
   "execution_count": null,
   "id": "9ae86b9e-eb0c-4b2c-a031-2927a86937dd",
   "metadata": {},
   "outputs": [],
   "source": [
    "class foo():\n",
    "    def __init__(self, value, name):\n",
    "        self.value = value\n",
    "        self.name = name\n",
    "    def __add__(self, other):\n",
    "        \"\"\"add values and concatenate names\"\"\"\n",
    "        return foo(self.value + other.value, self.name + other.name)\n",
    "    def __sub__(self, other):\n",
    "        \"\"\"sub values and concatenate names\"\"\"\n",
    "        return foo(self.value - other.value, self.name + other.name)  \n",
    "    def __repr__(self):\n",
    "        return f\"toto: {self.value}, {self.name}\"\n",
    "    def __array_ufunc__(self, *args, **kwargs):\n",
    "        print(args)\n",
    "        print(kwargs)"
   ]
  },
  {
   "cell_type": "code",
   "execution_count": null,
   "id": "f780d69f-8bcd-442c-b697-6bc4d6235178",
   "metadata": {},
   "outputs": [],
   "source": [
    "a = foo(5, \"1st\")  \n",
    "b = foo(1, \"2nd\")"
   ]
  },
  {
   "cell_type": "code",
   "execution_count": 1,
   "id": "3d482f97-8498-4ab1-83bb-abb3d9af8616",
   "metadata": {},
   "outputs": [],
   "source": [
    "import numpy as np\n",
    "import logging\n",
    "import inspect"
   ]
  },
  {
   "cell_type": "code",
   "execution_count": 2,
   "id": "72112354-d88a-433e-a5c0-57bd2f1ae97b",
   "metadata": {},
   "outputs": [],
   "source": [
    "HANDLED_FUNCTIONS = {}"
   ]
  },
  {
   "cell_type": "code",
   "execution_count": 3,
   "id": "3ab57a14-91de-45c6-a4c3-6f933a508470",
   "metadata": {},
   "outputs": [],
   "source": [
    "def implements(numpy_function):\n",
    "    \"\"\"Register an __array_function__ implementation for MyArray objects.\"\"\"\n",
    "    def decorator(func):\n",
    "        HANDLED_FUNCTIONS[numpy_function] = func\n",
    "        return func\n",
    "    return decorator"
   ]
  },
  {
   "cell_type": "code",
   "execution_count": 4,
   "id": "bdd3d2e9-ba31-4b67-a94c-c2ab9a1e04a2",
   "metadata": {},
   "outputs": [],
   "source": [
    "class MyArray(object):\n",
    "    def __array_function__(self, func, types, args, kwargs):\n",
    "        logging.debug('{} {}'.format(inspect.currentframe().f_code.co_name, func))\n",
    "        if func not in HANDLED_FUNCTIONS:\n",
    "            return NotImplemented\n",
    "        if not all(issubclass(t, MyArray) for t in types):\n",
    "            return NotImplemented\n",
    "        return HANDLED_FUNCTIONS[func](*args, **kwargs)\n",
    "    \n",
    "    def __array_ufunc__(self, ufunc, method, inputs, *args, **kwargs):\n",
    "        logging.debug('{} {}'.format(inspect.currentframe().f_code.co_name, ufunc))\n",
    "        if ufunc not in HANDLED_FUNCTIONS:\n",
    "            return NotImplemented\n",
    "        out = kwargs.pop('out', None)\n",
    "    \n",
    "        if out is not None:\n",
    "            HANDLED_FUNCTIONS[ufunc](inputs, *args, out=out[0], **kwargs)\n",
    "            return\n",
    "        else:\n",
    "            return HANDLED_FUNCTIONS[ufunc](inputs, *args, out=None, **kwargs)\n",
    "        \n",
    "    def __init__(self, inlist):\n",
    "        self.list = inlist[:]        \n",
    "    \n",
    "    @property\n",
    "    def ndim(self):\n",
    "        return 1\n",
    "\n",
    "    @property\n",
    "    def shape(self):\n",
    "        return (len(self.list), )\n",
    "    \n",
    "    @property\n",
    "    def dtype(self):\n",
    "        return np.dtype(np.int32)\n",
    "\n",
    "    def __str__(self):\n",
    "        return \"MyArray \" + str(self.list)\n",
    "    \n",
    "    def __add__(self, other, *args, **kwargs):\n",
    "        logging.debug('{}'.format(inspect.currentframe().f_code.co_name))\n",
    "        return self.add(other, *args, **kwargs)\n",
    "\n",
    "    @implements(np.add)\n",
    "    def add(self, *args, **kwargs):\n",
    "        strng = \"MyClass add, out {} {}\".format( kwargs.get('out', None), len(args) )\n",
    "        logging.debug('{} {}'.format(inspect.currentframe().f_code.co_name, strng))\n",
    "        out = kwargs.get('out', None)\n",
    "        if out is None:\n",
    "            return MyArray([el + args[0] for el in self.list])\n",
    "        else:\n",
    "            for i,el in enumerate(self.list):\n",
    "                out[i] = args[0] + el\n",
    "\n",
    "    # implements np.sum is required when one wants to use the np.sum on this object            \n",
    "    @implements(np.sum)\n",
    "    def sum(self, *args, **kwargs):\n",
    "        return sum(self.list)  # return self.list.ndim    "
   ]
  },
  {
   "cell_type": "code",
   "execution_count": 5,
   "id": "87d818e4-52d4-4888-a5dd-defe6e37ed88",
   "metadata": {},
   "outputs": [],
   "source": [
    "def main():\n",
    "    logging.basicConfig(level=logging.DEBUG)\n",
    "\n",
    "    A = MyArray(np.array([1,2]))\n",
    "    \n",
    "    # test np.sum\n",
    "    print (\"sum\" , np.sum(A, axis=1))\n",
    "    \n",
    "    # test add\n",
    "    B = A.add(2)\n",
    "    print(B, 'B')\n",
    "    \n",
    "    out = MyArray([20,30])\n",
    "    print(out,'out')\n",
    "    A.add(2,out=out)\n",
    "    print(out,'out')\n",
    "\n",
    "    # test np.add\n",
    "    # see comments on __add__ \n",
    "    #B = A+2\n",
    "    B = np.add(A,2)\n",
    "    print(B, 'B')\n",
    "\n",
    "    B = A+2\n",
    "    print(B, 'B')\n",
    "\n",
    "    np.add(A,2,out=out)\n",
    "    print(out, \"out\")"
   ]
  },
  {
   "cell_type": "code",
   "execution_count": 6,
   "id": "f41ba21e-2e62-4c02-a8e8-aff518a02a34",
   "metadata": {},
   "outputs": [
    {
     "name": "stderr",
     "output_type": "stream",
     "text": [
      "DEBUG:root:__array_function__ <function sum at 0x7f7158266660>\n",
      "DEBUG:root:add MyClass add, out None 1\n",
      "DEBUG:root:add MyClass add, out MyArray [20, 30] 1\n"
     ]
    },
    {
     "name": "stdout",
     "output_type": "stream",
     "text": [
      "sum 3\n",
      "MyArray [np.int64(3), np.int64(4)] B\n",
      "MyArray [20, 30] out\n"
     ]
    },
    {
     "ename": "TypeError",
     "evalue": "'MyArray' object does not support item assignment",
     "output_type": "error",
     "traceback": [
      "\u001b[0;31m---------------------------------------------------------------------------\u001b[0m",
      "\u001b[0;31mTypeError\u001b[0m                                 Traceback (most recent call last)",
      "Cell \u001b[0;32mIn[6], line 1\u001b[0m\n\u001b[0;32m----> 1\u001b[0m \u001b[43mmain\u001b[49m\u001b[43m(\u001b[49m\u001b[43m)\u001b[49m\n",
      "Cell \u001b[0;32mIn[5], line 15\u001b[0m, in \u001b[0;36mmain\u001b[0;34m()\u001b[0m\n\u001b[1;32m     13\u001b[0m out \u001b[38;5;241m=\u001b[39m MyArray([\u001b[38;5;241m20\u001b[39m,\u001b[38;5;241m30\u001b[39m])\n\u001b[1;32m     14\u001b[0m \u001b[38;5;28mprint\u001b[39m(out,\u001b[38;5;124m'\u001b[39m\u001b[38;5;124mout\u001b[39m\u001b[38;5;124m'\u001b[39m)\n\u001b[0;32m---> 15\u001b[0m \u001b[43mA\u001b[49m\u001b[38;5;241;43m.\u001b[39;49m\u001b[43madd\u001b[49m\u001b[43m(\u001b[49m\u001b[38;5;241;43m2\u001b[39;49m\u001b[43m,\u001b[49m\u001b[43mout\u001b[49m\u001b[38;5;241;43m=\u001b[39;49m\u001b[43mout\u001b[49m\u001b[43m)\u001b[49m\n\u001b[1;32m     16\u001b[0m \u001b[38;5;28mprint\u001b[39m(out,\u001b[38;5;124m'\u001b[39m\u001b[38;5;124mout\u001b[39m\u001b[38;5;124m'\u001b[39m)\n\u001b[1;32m     18\u001b[0m \u001b[38;5;66;03m# test np.add\u001b[39;00m\n\u001b[1;32m     19\u001b[0m \u001b[38;5;66;03m# see comments on __add__ \u001b[39;00m\n\u001b[1;32m     20\u001b[0m \u001b[38;5;66;03m#B = A+2\u001b[39;00m\n",
      "Cell \u001b[0;32mIn[4], line 53\u001b[0m, in \u001b[0;36mMyArray.add\u001b[0;34m(self, *args, **kwargs)\u001b[0m\n\u001b[1;32m     51\u001b[0m \u001b[38;5;28;01melse\u001b[39;00m:\n\u001b[1;32m     52\u001b[0m     \u001b[38;5;28;01mfor\u001b[39;00m i,el \u001b[38;5;129;01min\u001b[39;00m \u001b[38;5;28menumerate\u001b[39m(\u001b[38;5;28mself\u001b[39m\u001b[38;5;241m.\u001b[39mlist):\n\u001b[0;32m---> 53\u001b[0m         \u001b[43mout\u001b[49m\u001b[43m[\u001b[49m\u001b[43mi\u001b[49m\u001b[43m]\u001b[49m \u001b[38;5;241m=\u001b[39m args[\u001b[38;5;241m0\u001b[39m] \u001b[38;5;241m+\u001b[39m el\n",
      "\u001b[0;31mTypeError\u001b[0m: 'MyArray' object does not support item assignment"
     ]
    }
   ],
   "source": [
    "main()"
   ]
  },
  {
   "cell_type": "code",
   "execution_count": 8,
   "id": "9fc1e185-8f29-4c34-a599-e259a78aaa18",
   "metadata": {},
   "outputs": [
    {
     "ename": "NameError",
     "evalue": "name 'types' is not defined",
     "output_type": "error",
     "traceback": [
      "\u001b[0;31m---------------------------------------------------------------------------\u001b[0m",
      "\u001b[0;31mNameError\u001b[0m                                 Traceback (most recent call last)",
      "Cell \u001b[0;32mIn[8], line 1\u001b[0m\n\u001b[0;32m----> 1\u001b[0m \u001b[38;5;28;01mfor\u001b[39;00m t \u001b[38;5;129;01min\u001b[39;00m \u001b[43mtypes\u001b[49m:\n\u001b[1;32m      2\u001b[0m     \u001b[38;5;28mprint\u001b[39m(t)\n",
      "\u001b[0;31mNameError\u001b[0m: name 'types' is not defined"
     ]
    }
   ],
   "source": [
    "for t in types:\n",
    "    print(t)"
   ]
  },
  {
   "cell_type": "code",
   "execution_count": null,
   "id": "f9e8ccb0-347d-40f7-a467-5b6cd0d42b06",
   "metadata": {},
   "outputs": [],
   "source": []
  }
 ],
 "metadata": {
  "kernelspec": {
   "display_name": "Python 3 (ipykernel)",
   "language": "python",
   "name": "python3"
  },
  "language_info": {
   "codemirror_mode": {
    "name": "ipython",
    "version": 3
   },
   "file_extension": ".py",
   "mimetype": "text/x-python",
   "name": "python",
   "nbconvert_exporter": "python",
   "pygments_lexer": "ipython3",
   "version": "3.13.7"
  }
 },
 "nbformat": 4,
 "nbformat_minor": 5
}
