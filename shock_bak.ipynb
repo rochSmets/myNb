{
 "cells": [
  {
   "cell_type": "code",
   "execution_count": 1,
   "id": "0dd3578f-1c55-4977-984f-12f86f1d4515",
   "metadata": {},
   "outputs": [],
   "source": [
    "import numpy as np\n",
    "import matplotlib.pyplot as plt"
   ]
  },
  {
   "cell_type": "markdown",
   "id": "fe057176-c72e-46aa-9600-632fbcd441be",
   "metadata": {},
   "source": [
    "Initial value of the plasma parameters :\n",
    "* $\\rho_0$ the upstream charge density : `n0`\n",
    "* $B_0$ the upstream modulus of the magnetic field : `B0`\n",
    "* $\\beta_0$ the upstream plasma parameter : `beta0`\n",
    "* $\\Theta_0$ the angle between the upstream magnetic field and the normal to the shock : `theta0`"
   ]
  },
  {
   "cell_type": "code",
   "execution_count": 2,
   "id": "33d46c31-a617-427b-9bb5-2373f09e15b9",
   "metadata": {},
   "outputs": [],
   "source": [
    "n0 = 1.0\n",
    "B0 = 1.0\n",
    "beta0 = 0.8\n",
    "theta0 = 30*np.pi/180.0"
   ]
  },
  {
   "cell_type": "markdown",
   "id": "4ffca08f-72c3-43eb-9e2f-176df72657d8",
   "metadata": {},
   "source": [
    "We use `n` and `T` index notation for normal and tangential, respectively. Following the definition of `theta`"
   ]
  },
  {
   "cell_type": "code",
   "execution_count": 3,
   "id": "6b873ec6-8c5b-4e44-a258-38bb281f47da",
   "metadata": {},
   "outputs": [],
   "source": [
    "B0_n = np.cos(theta0)\n",
    "B0_T = np.sin(theta0)"
   ]
  },
  {
   "cell_type": "markdown",
   "id": "5016493b-b468-456a-978d-a88ff492ed6d",
   "metadata": {},
   "source": [
    "From the definition of the $\\beta$ parameter :"
   ]
  },
  {
   "cell_type": "code",
   "execution_count": 4,
   "id": "d479c54b-60df-439a-8c84-0fa40ad1cb1e",
   "metadata": {},
   "outputs": [],
   "source": [
    "p0 = 0.5*beta0*B0**2"
   ]
  },
  {
   "cell_type": "markdown",
   "id": "82630f12-14b7-4dd6-b14d-b9dabe237b18",
   "metadata": {},
   "source": [
    "We then have as unknown : `n0`, `n1`, `v0_n`, `v0_T`, `v1_n`, `v1_T`, `p0`, `p1`, `B0_n` `B0_T`, `B1_n`, `B1_T`, that is 12 unknowns.\n",
    "We already know as parameter or initial range of values : `n0`, `v0_n`, `p0`, `B0_n` and `B0_T`, that is 5 unknowns."
   ]
  },
  {
   "cell_type": "markdown",
   "id": "49cac6cb-df44-40a8-a989-66697dbb479c",
   "metadata": {},
   "source": [
    "We then need 7 equations from the RH jump equations :"
   ]
  },
  {
   "cell_type": "markdown",
   "id": "70630987-dd6b-4a00-8eb9-84b73ff4afb0",
   "metadata": {},
   "source": [
    "**Maxwell-Thomson** : 1 equation"
   ]
  },
  {
   "cell_type": "code",
   "execution_count": 6,
   "id": "bd48d159-10e1-4de1-bf59-9b2be225ef7d",
   "metadata": {},
   "outputs": [],
   "source": [
    "# B0_n-B1_n = 0"
   ]
  },
  {
   "cell_type": "markdown",
   "id": "323225a6-2397-4585-af95-8b5a803e5ba1",
   "metadata": {},
   "source": [
    "**Maxwell-Faraday** (tangential) : 1 equation"
   ]
  },
  {
   "cell_type": "code",
   "execution_count": 7,
   "id": "d406107c-469f-4940-8c99-12db0470e3a1",
   "metadata": {},
   "outputs": [],
   "source": [
    "# v0_n*B0_T-B0_n*v0_T-(v1_n*B1_T-B1_n*v1_T) = 0"
   ]
  },
  {
   "cell_type": "markdown",
   "id": "22c9ea0b-d6ae-45ee-a6a2-ff3c193babaf",
   "metadata": {},
   "source": [
    "**de Hoffmann-Teller frame** : 1 equation"
   ]
  },
  {
   "cell_type": "code",
   "execution_count": 8,
   "id": "4de04bb9-9c39-4a8a-ae5a-bcc99446eff6",
   "metadata": {},
   "outputs": [],
   "source": [
    "# v0_n*B0_T-B0_n*v0_T = 0\n",
    "# the second equation (just below) is then the same as given by Maxwell-Faraday\n",
    "# v1_n*B1_T-B1_n*v1_T = 0"
   ]
  },
  {
   "cell_type": "markdown",
   "id": "81e4c826-b3dc-469d-853f-7a2f4b306b95",
   "metadata": {},
   "source": [
    "**Mass conservation** : 1 equation"
   ]
  },
  {
   "cell_type": "code",
   "execution_count": 9,
   "id": "7dcb50c0-edd9-48dc-9241-9ce8a439915e",
   "metadata": {},
   "outputs": [],
   "source": [
    "# n0*v0_n-n1*v1_n = 0"
   ]
  },
  {
   "cell_type": "markdown",
   "id": "30c4b4f3-41ec-4415-8cee-d8da79b15785",
   "metadata": {},
   "source": [
    "**Momentum conservation** : 2 equations"
   ]
  },
  {
   "cell_type": "code",
   "execution_count": 10,
   "id": "2e7c9fd2-b508-4663-8a0c-377c905488a9",
   "metadata": {},
   "outputs": [],
   "source": [
    "# n0*v0_n**2+p0+0.5*(B0_T**2-B0_n**2)-(n1*v1_n**2+p1+0.5*(B1_T**2-B1_n**2)) = 0\n",
    "# n0*v0_n*v0_T-B0_n*B0_T-(n1*v1_n*v1_T-B1_n*B1_T) = 0"
   ]
  },
  {
   "cell_type": "markdown",
   "id": "6513ceda-7dd5-4d45-bedb-2fe8155d28ad",
   "metadata": {},
   "source": [
    "**Energy conservation** : 1 equation"
   ]
  },
  {
   "cell_type": "code",
   "execution_count": 11,
   "id": "bbd9fc94-e2df-4023-ac57-110ef89b8420",
   "metadata": {},
   "outputs": [],
   "source": [
    "# 0.5*n0*(v0_n**2+v0_T**2)*v0_n+2.5*p0*v0_n-B0_T*(B0_n*v0_T-B0_T*v0_n)-(0.5*n1*(v1_n**2+v1_T**2)*v1_n+2.5*p1*v1_n-B1_T*(B1_n*v1_T-B1_T*v1_n)) = 0"
   ]
  },
  {
   "cell_type": "markdown",
   "id": "a85b547d-583f-4bab-a541-63c9c63be536",
   "metadata": {},
   "source": [
    "Using the Maxwell-Faraday and the HT frame, energy conservation can be simplified as"
   ]
  },
  {
   "cell_type": "code",
   "execution_count": 12,
   "id": "5a4f3e66-3834-4ece-bf5e-0958e177f49b",
   "metadata": {},
   "outputs": [],
   "source": [
    "# v0_n**2+v0_T**2+5*p0/n0-(v1_n**2+v1_T**2+5*p1/n1) = 0"
   ]
  },
  {
   "cell_type": "markdown",
   "id": "b4e7cab6-9ed0-4ccb-94fb-3e0149dbb315",
   "metadata": {},
   "source": [
    "We then define the cost function which depends on the 7 components vectors :\n",
    "`x = (n1, v0_T, v1_n, v1_T, p1, B1_n, B1_T)`\n",
    "with the `args` vector defined as `args = (n0,  v0_n, p0, B0_n, B0_T)`"
   ]
  },
  {
   "cell_type": "code",
   "execution_count": 13,
   "id": "ab9de009-ba76-4203-93d3-62763a4dd81e",
   "metadata": {},
   "outputs": [],
   "source": [
    "def cost(x, *args):\n",
    "    n1, v0_T, v1_n, v1_T, p1, B1_n, B1_T = x\n",
    "    n0, v0_n, p0, B0_n, B0_T = args\n",
    "    \n",
    "    return [B0_n-B1_n,\n",
    "            v0_n*B0_T-B0_n*v0_T,\n",
    "            v1_n*B1_T-B1_n*v1_T,\n",
    "            n0*v0_n-n1*v1_n,\n",
    "            n0*v0_n**2+p0+0.5*(B0_T**2-B0_n**2)-(n1*v1_n**2+p1+0.5*(B1_T**2-B1_n**2)),\n",
    "            n0*v0_n*v0_T-B0_n*B0_T-(n1*v1_n*v1_T-B1_n*B1_T),\n",
    "            v0_n**2+v0_T**2+5*p0/n0-(v1_n**2+v1_T**2+5*p1/n1)\n",
    "           ]"
   ]
  },
  {
   "cell_type": "code",
   "execution_count": null,
   "id": "e48bf126-5862-4600-a512-1cd225338212",
   "metadata": {},
   "outputs": [],
   "source": [
    "def tune(x, *args):\n",
    "    n1, v0_n, v0_T, v1_T, p1, B1_n, B1_T = x\n",
    "    n0, v1_n, p0, B0_n, B0_T = args\n",
    "    \n",
    "    return [B0_n-B1_n,\n",
    "            v0_n*B0_T-B0_n*v0_T,\n",
    "            v1_n*B1_T-B1_n*v1_T,\n",
    "            n0*v0_n-n1*v1_n,\n",
    "            n0*v0_n**2+p0+0.5*(B0_T**2-B0_n**2)-(n1*v1_n**2+p1+0.5*(B1_T**2-B1_n**2)),\n",
    "            n0*v0_n*v0_T-B0_n*B0_T-(n1*v1_n*v1_T-B1_n*B1_T),\n",
    "            v0_n**2+v0_T**2+5*p0/n0-(v1_n**2+v1_T**2+5*p1/n1)\n",
    "           ]"
   ]
  },
  {
   "cell_type": "code",
   "execution_count": 14,
   "id": "03cd6458-848d-443b-8416-436f021b9a78",
   "metadata": {},
   "outputs": [],
   "source": [
    "gamma = 5./3.\n",
    "\n",
    "# ___ magnetic field :\n",
    "B0 = np.sqrt(B0_n**2+B0_T**2)\n",
    "\n",
    "# ___ intermediate velocity :\n",
    "v0_i = B0_n/np.sqrt(n0)\n",
    "\n",
    "# ___ Alfven velocity :\n",
    "v0_A = B0/np.sqrt(n0)\n",
    "\n",
    "# ___ sound speed :\n",
    "c0_s = np.sqrt(gamma*p0/n0)\n",
    "\n",
    "# ___ slow mode :\n",
    "v0_s = np.sqrt(0.5*(v0_A**2+c0_s**2-np.sqrt((v0_A**2+c0_s**2)**2-4.0*v0_A**2*c0_s**2*(np.cos(theta0))**2)))\n",
    "\n",
    "# ___ fast mode :\n",
    "v0_f = np.sqrt(0.5*(v0_A**2+c0_s**2+np.sqrt((v0_A**2+c0_s**2)**2-4.0*v0_A**2*c0_s**2*(np.cos(theta0))**2)))"
   ]
  },
  {
   "cell_type": "code",
   "execution_count": 15,
   "id": "521c0bd2-844d-4589-85a5-985a69bb19c6",
   "metadata": {},
   "outputs": [
    {
     "name": "stdout",
     "output_type": "stream",
     "text": [
      "upstream sound speed            :  0.82\n",
      "upstream Alfven velocity        :  1.00\n",
      "upstream intermediate velocity  :  0.87\n",
      "upstream slow velocity          :  0.63\n",
      "upstream fast velocity          :  1.13\n"
     ]
    }
   ],
   "source": [
    "print(\"upstream sound speed            : %5.2f\" % c0_s)\n",
    "print(\"upstream Alfven velocity        : %5.2f\" % v0_A)\n",
    "print(\"upstream intermediate velocity  : %5.2f\" % v0_i)\n",
    "print(\"upstream slow velocity          : %5.2f\" % v0_s)\n",
    "print(\"upstream fast velocity          : %5.2f\" % v0_f)"
   ]
  },
  {
   "cell_type": "code",
   "execution_count": 16,
   "id": "2c7d03ef-6223-4cdf-9baf-10cfceea82d0",
   "metadata": {},
   "outputs": [],
   "source": [
    "from scipy.optimize import least_squares"
   ]
  },
  {
   "cell_type": "markdown",
   "id": "698e75d4-8fe5-40fd-ad04-51117e36030d",
   "metadata": {},
   "source": [
    "**Non-physical** branch : normal velocity is increasing through the shock"
   ]
  },
  {
   "cell_type": "code",
   "execution_count": 17,
   "id": "2ea940e2-9f26-4da5-b436-dedfe651320a",
   "metadata": {},
   "outputs": [],
   "source": [
    "v0_n_span_A = np.linspace(0.3, v0_s, 100)\n",
    "v1_n_span_A = np.zeros_like(v0_n_span_A)\n",
    "\n",
    "#       n1,  v0_T,  v1_n,  v1_T,    p1,  B1_n,  B1_T\n",
    "x0 = (1.01,  0.37,  1.62,  0.35,  0.41,  0.87,  0.49)\n",
    "\n",
    "for i, v0_n in enumerate(v0_n_span_A):\n",
    "    args=(n0, v0_n, p0, B0_n, B0_T)\n",
    "    sol = least_squares(cost, x0, args=args, bounds=([0, np.inf]), method='trf')\n",
    "    n1, v0_T, v1_n, v1_T, p1, B1_n, B1_T = sol.x\n",
    "    v1_n_span_A[i] = v1_n\n",
    "    x0 = sol.x"
   ]
  },
  {
   "cell_type": "code",
   "execution_count": 47,
   "id": "11dbc596-da55-4610-a4b4-5b9a0365e4ef",
   "metadata": {},
   "outputs": [],
   "source": [
    "v0_n_span_B = np.linspace(0.635, v0_i, 100)\n",
    "\n",
    "v1_n_span_B = np.zeros_like(v0_n_span_B)\n",
    "\n",
    "#       n1,  v0_T,  v1_n,  v1_T,    p1,  B1_n,  B1_T\n",
    "x0 = (1.00,  0.37,  0.63,  0.36,  0.41,  0.87,  0.49)\n",
    "\n",
    "for i, v0_n in enumerate(v0_n_span_B):\n",
    "    args=(n0, v0_n, p0, B0_n, B0_T)\n",
    "    sol = least_squares(cost, x0, args=args, bounds=([0, np.inf]), method='trf')\n",
    "    n1, v0_T, v1_n, v1_T, p1, B1_n, B1_T = sol.x\n",
    "    v1_n_span_B[i] = v1_n\n",
    "    x0 = sol.x"
   ]
  },
  {
   "cell_type": "code",
   "execution_count": null,
   "id": "cb37b521-74e2-4d52-87fd-628339e6054f",
   "metadata": {},
   "outputs": [],
   "source": []
  },
  {
   "cell_type": "code",
   "execution_count": null,
   "id": "9e8201f6-ca11-4d03-8266-20362797f74a",
   "metadata": {},
   "outputs": [],
   "source": []
  },
  {
   "cell_type": "code",
   "execution_count": null,
   "id": "cdff3b07-f2bc-41b4-b822-f363105d425b",
   "metadata": {},
   "outputs": [],
   "source": []
  },
  {
   "cell_type": "code",
   "execution_count": 48,
   "id": "942dc48d-e132-428c-b044-10cc8c02aa66",
   "metadata": {},
   "outputs": [],
   "source": [
    "v0_n_span_C = np.linspace(1.12, 0.64, 100)\n",
    "v1_n_span_C = np.zeros_like(v0_n_span_C)\n",
    "\n",
    "#       n1,  v0_T,  v1_n,  v1_T,    p1,  B1_n,  B1_T\n",
    "x0 = (1.00,  0.65,  2.13,  0.65,  0.40,  0.87,  0.50)\n",
    "\n",
    "for i, v0_n in enumerate(v0_n_span_C):\n",
    "    args=(n0, v0_n, p0, B0_n, B0_T)\n",
    "    sol = least_squares(cost, x0, args=args, bounds=([0, np.inf]), method='trf')\n",
    "    n1, v0_T, v1_n, v1_T, p1, B1_n, B1_T = sol.x\n",
    "    v1_n_span_C[i] = v1_n\n",
    "    x0 = sol.x\n",
    "    # print(x0)"
   ]
  },
  {
   "cell_type": "code",
   "execution_count": null,
   "id": "47cdbf1d-3551-4db1-a236-2426254b2694",
   "metadata": {},
   "outputs": [],
   "source": []
  },
  {
   "cell_type": "code",
   "execution_count": 49,
   "id": "a880ae40-4e35-4809-b3a6-54d935dcfa3b",
   "metadata": {},
   "outputs": [],
   "source": [
    "v0_n_span_D = np.linspace(1.14, 1.5, 100)\n",
    "v1_n_span_D = np.zeros_like(v0_n_span_D)\n",
    "\n",
    "#       n1,  v0_T,  v1_n,  v1_T,    p1,  B1_n,  B1_T\n",
    "x0 = (1.00,  0.65,  1.13,  0.65,  0.40,  0.87,  0.50)\n",
    "\n",
    "for i, v0_n in enumerate(v0_n_span_D):\n",
    "    args=(n0, v0_n, p0, B0_n, B0_T)\n",
    "    sol = least_squares(cost, x0, args=args, bounds=([0, np.inf]), method='trf')\n",
    "    n1, v0_T, v1_n, v1_T, p1, B1_n, B1_T = sol.x\n",
    "    v1_n_span_D[i] = v1_n\n",
    "    x0 = sol.x\n",
    "    # print(x0)"
   ]
  },
  {
   "cell_type": "code",
   "execution_count": null,
   "id": "15d885a9-b522-4872-88ca-e328c788926e",
   "metadata": {},
   "outputs": [],
   "source": []
  },
  {
   "cell_type": "code",
   "execution_count": 50,
   "id": "151efaa4-e073-4690-9500-e732eb8b3250",
   "metadata": {},
   "outputs": [],
   "source": [
    "v0_n_span_E = np.linspace(0.64, 0.90, 100)\n",
    "v1_n_span_E = np.zeros_like(v0_n_span_E)\n",
    "\n",
    "# [0.98919234 0.6466323  1.13223683 0.63640523 0.39282045 0.8660254 0.48677369]\n",
    "#       n1,  v0_T,  v1_n,  v1_T,    p1,  B1_n,  B1_T\n",
    "x0 = (0.99,  0.65,  1.13,  0.64,  0.39,  0.87,  0.49)\n",
    "x0 = (0.10,  0.65,  3.13,  0.64,  0.39,  0.87,  0.49)\n",
    "\n",
    "for i, v0_n in enumerate(v0_n_span_E):\n",
    "    args=(n0, v0_n, p0, B0_n, B0_T)\n",
    "    sol = least_squares(cost, x0, args=args, bounds=([0, np.inf]), method='trf')\n",
    "    n1, v0_T, v1_n, v1_T, p1, B1_n, B1_T = sol.x\n",
    "    v1_n_span_E[i] = v1_n\n",
    "    x0 = sol.x\n",
    "    # print(x0)"
   ]
  },
  {
   "cell_type": "code",
   "execution_count": null,
   "id": "f439c685-18dc-43b0-98c7-5deb588b0c3f",
   "metadata": {},
   "outputs": [],
   "source": []
  },
  {
   "cell_type": "code",
   "execution_count": 53,
   "id": "a9965dae-ef00-4954-9fde-d1b1409c0bbb",
   "metadata": {},
   "outputs": [
    {
     "data": {
      "application/vnd.jupyter.widget-view+json": {
       "model_id": "ef5cd661b261434e9a3bd29e27566e57",
       "version_major": 2,
       "version_minor": 0
      },
      "image/png": "[encoded data removed]",
      "text/html": [
       "\n",
       "            <div style=\"display: inline-block;\">\n",
       "                <div class=\"jupyter-widgets widget-label\" style=\"text-align: center;\">\n",
       "                    Figure\n",
       "                </div>\n",
       "                <img src='data:image/png;base64,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' width=500.0/>\n",
       "            </div>\n",
       "        "
      ],
      "text/plain": [
       "Canvas(toolbar=Toolbar(toolitems=[('Home', 'Reset original view', 'home', 'home'), ('Back', 'Back to previous …"
      ]
     },
     "metadata": {},
     "output_type": "display_data"
    }
   ],
   "source": [
    "%matplotlib widget\n",
    "\n",
    "fig, ax = plt.subplots(figsize=(5, 5))\n",
    "cycle = plt.rcParams['axes.prop_cycle'].by_key()['color']\n",
    "\n",
    "ax.plot([0, 2], [0, 2], color='k', linestyle=':')\n",
    "ax.plot(v0_n_span_A, v1_n_span_A, color=cycle[0])\n",
    "ax.plot(v0_n_span_B, v1_n_span_B, color=cycle[1])\n",
    "ax.plot(v0_n_span_C, v1_n_span_C, color=cycle[2])\n",
    "ax.plot(v0_n_span_D, v1_n_span_D, color=cycle[3])\n",
    "\n",
    "# ax.plot(v0_n_span_E, v1_n_span_E, color=cycle[4])\n",
    "\n",
    "ax.plot([v0_i, v0_i], [0, 2], color='k', linestyle='--')\n",
    "\n",
    "ax.plot([v0_s], [v0_s], color='b', marker = \"o\", markersize=5)\n",
    "ax.plot([v0_i], [v0_i], color='k', marker = \"o\", markersize=5)\n",
    "ax.plot([v0_f], [v0_f], color='r', marker = \"o\", markersize=5)\n",
    "\n",
    "ax.set_xlim([0.4, 1.4])\n",
    "ax.set_ylim([0.4, 1.4])\n",
    "ax.set_xlabel(\"vO_n (upstream)\")\n",
    "ax.set_ylabel(\"v1_n (downstream)\")\n",
    "\n",
    "plt.savefig(\"shock.pdf\", dpi=300)"
   ]
  },
  {
   "cell_type": "code",
   "execution_count": null,
   "id": "52e5ac60-a731-495f-89e4-8a372e88caed",
   "metadata": {},
   "outputs": [],
   "source": []
  },
  {
   "cell_type": "code",
   "execution_count": null,
   "id": "5ae2953d-e707-4d18-b3ea-8d7128fd9513",
   "metadata": {},
   "outputs": [],
   "source": [
    "plt.clf()"
   ]
  },
  {
   "cell_type": "code",
   "execution_count": null,
   "id": "9c1db359-3cd6-4729-bebf-d51cea79e9a3",
   "metadata": {},
   "outputs": [],
   "source": []
  },
  {
   "cell_type": "code",
   "execution_count": null,
   "id": "bc0af287-be0a-4737-a084-73ed71c93467",
   "metadata": {},
   "outputs": [],
   "source": [
    "v0_n_span_B = np.linspace(0.635, v0_i, 100)\n",
    "v1_n_span_B = np.zeros_like(v0_n_span_B)\n",
    "\n",
    "#       n1,  v0_T,  v1_n,  v1_T,    p1,  B1_n,  B1_T\n",
    "x0 = (1.00,  0.37,  0.63,  0.36,  0.41,  0.87,  0.49)\n",
    "\n",
    "for i, v0_n in enumerate(v0_n_span_B):\n",
    "    args=(n0, v0_n, p0, B0_n, B0_T)\n",
    "    sol = least_squares(cost, x0, args=args, bounds=([0, np.inf]), method='trf')\n",
    "    n1, v0_T, v1_n, v1_T, p1, B1_n, B1_T = sol.x\n",
    "    v1_n_span_B[i] = v1_n\n",
    "    x0 = sol.x\n",
    "    # print(x0)"
   ]
  },
  {
   "cell_type": "code",
   "execution_count": null,
   "id": "226b655f-4d38-4183-a82a-4a1232cd1bd5",
   "metadata": {},
   "outputs": [],
   "source": [
    "v0_n_span_C = np.linspace(0.78, v0_f, 100)\n",
    "v1_n_span_C = np.zeros_like(v0_n_span_C)\n",
    "\n",
    "#       n1,  v0_T,  v1_n,  v1_T,    p1,  B1_n,  B1_T\n",
    "x0 = (0.83,  0.49,  0.93,  0.00,  0.39,  0.87,  0.03)\n",
    "\n",
    "for i, v0_n in enumerate(v0_n_span_C):\n",
    "    args=(n0, v0_n, p0, B0_n, B0_T)\n",
    "    sol = least_squares(cost, x0, args=args, bounds=([0, np.inf]), method='trf')\n",
    "    n1, v0_T, v1_n, v1_T, p1, B1_n, B1_T = sol.x\n",
    "    v1_n_span_C[i] = v1_n\n",
    "    x0 = sol.x\n",
    "    # print(x0)"
   ]
  },
  {
   "cell_type": "code",
   "execution_count": null,
   "id": "13cc73df-7814-4ba7-b8b9-df4aeaa1a7e6",
   "metadata": {},
   "outputs": [],
   "source": [
    "# [2.00287465 1.01036297 0.87374415 1.49740335 0.95705982 0.8660254 1.48417514]"
   ]
  },
  {
   "cell_type": "code",
   "execution_count": null,
   "id": "12726140-e3c8-4d2f-a350-8f1982afe338",
   "metadata": {},
   "outputs": [],
   "source": [
    "v0_n_span_D = np.linspace(1.75, 0.78, 100)\n",
    "v1_n_span_D = np.zeros_like(v0_n_span_D)\n",
    "\n",
    "#       n1,  v0_T,  v1_n,  v1_T,    p1,  B1_n,  B1_T\n",
    "x0 = (2.00,  1.01,  0.87,  1.50,  0.96,  0.87,  1.48)\n",
    "\n",
    "for i, v0_n in enumerate(v0_n_span_D):\n",
    "    args=(n0, v0_n, p0, B0_n, B0_T)\n",
    "    sol = least_squares(cost, x0, args=args, bounds=([0, np.inf]), method='trf')\n",
    "    n1, v0_T, v1_n, v1_T, p1, B1_n, B1_T = sol.x\n",
    "    v1_n_span_D[i] = v1_n\n",
    "    x0 = sol.x\n",
    "    # print(x0)"
   ]
  },
  {
   "cell_type": "code",
   "execution_count": null,
   "id": "82ec4173-9c83-411a-8482-e120ce3792f1",
   "metadata": {},
   "outputs": [],
   "source": []
  },
  {
   "cell_type": "code",
   "execution_count": null,
   "id": "3c744a0b-ed0f-4951-9210-1d1151551782",
   "metadata": {},
   "outputs": [],
   "source": []
  },
  {
   "cell_type": "code",
   "execution_count": null,
   "id": "4601439f-4474-4416-8bad-ff171c3846cd",
   "metadata": {},
   "outputs": [],
   "source": []
  },
  {
   "cell_type": "code",
   "execution_count": null,
   "id": "7cbc7e04-3fed-4cbd-b8ed-d3df85a3ae1a",
   "metadata": {},
   "outputs": [],
   "source": []
  },
  {
   "cell_type": "code",
   "execution_count": null,
   "id": "e9df9180-87cb-4c17-8c53-b576f52fb6a4",
   "metadata": {},
   "outputs": [],
   "source": [
    "fig, ax = plt.subplots(figsize=(5, 5))\n",
    "cycle = plt.rcParams['axes.prop_cycle'].by_key()['color']\n",
    "\n",
    "ax.plot([0, 2], [0, 2], color='k', linestyle=':')\n",
    "ax.plot(v0_n_span_A, v1_n_span_A, color=cycle[0])\n",
    "ax.plot(v0_n_span_B, v1_n_span_B, color=cycle[1])\n",
    "ax.plot(v0_n_span_C, v1_n_span_C, color=cycle[2])\n",
    "\n",
    "ax.plot([v0_s], [v0_s], color='b', marker = \"o\", markersize=5)\n",
    "ax.plot([v0_i], [v0_i], color='k', marker = \"o\", markersize=5)\n",
    "ax.plot([v0_f], [v0_f], color='r', marker = \"o\", markersize=5)\n",
    "\n",
    "ax.set_xlim([0.2, 1.6])\n",
    "ax.set_ylim([0.2, 1.4])\n",
    "ax.set_xlabel(\"vO_n (upstream)\")\n",
    "ax.set_ylabel(\"v1_n (downstream)\")"
   ]
  },
  {
   "cell_type": "code",
   "execution_count": null,
   "id": "571a33fa-8f12-4e3b-a761-4975181f8896",
   "metadata": {},
   "outputs": [],
   "source": []
  },
  {
   "cell_type": "code",
   "execution_count": null,
   "id": "45982611-0244-48a9-9344-a146f22707df",
   "metadata": {},
   "outputs": [],
   "source": []
  },
  {
   "cell_type": "code",
   "execution_count": null,
   "id": "b4e1d41d-d4a8-4f57-9e84-9bf8d89a417c",
   "metadata": {},
   "outputs": [],
   "source": []
  },
  {
   "cell_type": "code",
   "execution_count": null,
   "id": "5810dd4a-8d5b-4d50-84ee-fffd8f34aefb",
   "metadata": {},
   "outputs": [],
   "source": []
  },
  {
   "cell_type": "code",
   "execution_count": null,
   "id": "aed6d2d5-6912-424b-a46a-a9f226f46543",
   "metadata": {},
   "outputs": [],
   "source": [
    "plt.clf()"
   ]
  },
  {
   "cell_type": "markdown",
   "id": "9315c787-b556-4a3a-bcdd-142616e14dfe",
   "metadata": {},
   "source": [
    "# First attempt, not the best"
   ]
  },
  {
   "cell_type": "code",
   "execution_count": null,
   "id": "af05cf83-0c39-47c5-9fae-9e87d774e845",
   "metadata": {},
   "outputs": [],
   "source": [
    "from scipy.optimize import fsolve"
   ]
  },
  {
   "cell_type": "code",
   "execution_count": null,
   "id": "4725a72b-20af-415b-ac74-9bffe87523d9",
   "metadata": {},
   "outputs": [],
   "source": [
    "v0_n = v0_n_span[0]\n",
    "\n",
    "# x0 = (0.1, 0.0, 2.0, 0.5, 0.8, 0.1, 0.5)\n",
    "#      n1, v0_T, v1_n, v1_T,   p1, B1_n, B1_T\n",
    "x0 = (0.01,  0.03,  5.1,  4.4,  0.0,  0.9,  0.8)\n",
    "\n",
    "args=(n0, v0_n, p0, B0_n, B0_T)"
   ]
  },
  {
   "cell_type": "code",
   "execution_count": null,
   "id": "bc20d1c6-e74a-414d-9ff8-0ebf64f998b8",
   "metadata": {},
   "outputs": [],
   "source": [
    "root = fsolve(cost, x0, args=args)"
   ]
  },
  {
   "cell_type": "code",
   "execution_count": null,
   "id": "bcbfee58-995c-4056-8744-730aeafc3485",
   "metadata": {},
   "outputs": [],
   "source": [
    "cost(root, *args)"
   ]
  },
  {
   "cell_type": "code",
   "execution_count": null,
   "id": "fd594d3a-8bd2-454f-8423-7e0ff9e59ee7",
   "metadata": {},
   "outputs": [],
   "source": [
    "n1, v0_T, v1_n, v1_T, p1, B1_n, B1_T = root\n",
    "\n",
    "theta1 = np.arctan2(B1_T, B1_n)"
   ]
  },
  {
   "cell_type": "code",
   "execution_count": null,
   "id": "cd9187d9-a6fe-43b3-9ec0-a2af40375cad",
   "metadata": {},
   "outputs": [],
   "source": [
    "gamma = 5./3.\n",
    "\n",
    "# ___ magnetic field :\n",
    "B0 = np.sqrt(B0_n**2+B0_T**2)\n",
    "B1 = np.sqrt(B1_n**2+B1_T**2)\n",
    "\n",
    "# ___ intermediate velocity :\n",
    "v0_i = B0_n/np.sqrt(n0)\n",
    "v1_i = B1_n/np.sqrt(n1)\n",
    "\n",
    "# ___ Alfven velocity :\n",
    "v0_A = B0/np.sqrt(n0)\n",
    "v1_A = B1/np.sqrt(n1)\n",
    "\n",
    "# ___ sound speed :\n",
    "c0_s = np.sqrt(gamma*p0/n0)\n",
    "c1_s = np.sqrt(gamma*p1/n1)\n",
    "\n",
    "# ___ slow mode :\n",
    "v0_s = np.sqrt(0.5*(v0_A**2+c0_s**2-np.sqrt((v0_A**2+c0_s**2)**2-4.0*v0_A**2*c0_s**2*(np.cos(theta0))**2)))\n",
    "v1_s = np.sqrt(0.5*(v1_A**2+c1_s**2-np.sqrt((v1_A**2+c1_s**2)**2-4.0*v1_A**2*c1_s**2*(np.cos(theta1))**2)))\n",
    "\n",
    "# ___ fast mode :\n",
    "v0_f = np.sqrt(0.5*(v0_A**2+c0_s**2+np.sqrt((v0_A**2+c0_s**2)**2-4.0*v0_A**2*c0_s**2*(np.cos(theta0))**2)))\n",
    "v1_f = np.sqrt(0.5*(v1_A**2+c1_s**2+np.sqrt((v1_A**2+c1_s**2)**2-4.0*v1_A**2*c1_s**2*(np.cos(theta1))**2)))"
   ]
  },
  {
   "cell_type": "code",
   "execution_count": null,
   "id": "c66b1364-9c6c-43a9-93f2-0752867baf54",
   "metadata": {},
   "outputs": [],
   "source": [
    "print(\"density  : %5.2f   ---  %5.2f\" % (n0, n1))\n",
    "print(\"U normal : %5.2f   ---  %5.2f\" % (v0_n, v1_n))\n",
    "print(\"U tang   : %5.2f   ---  %5.2f\" % (v0_T, v1_T))\n",
    "print(\"pressure : %5.2f   ---  %5.2f\" % (p0, p1))\n",
    "print(\"B normal : %5.2f   ---  %5.2f\" % (B0_n, B1_n))\n",
    "print(\"B tang   : %5.2f   ---  %5.2f\" % (B0_T, B1_T))"
   ]
  },
  {
   "cell_type": "code",
   "execution_count": null,
   "id": "c4855e40-d25f-4b61-b1b3-06317870a5db",
   "metadata": {},
   "outputs": [],
   "source": [
    "print(\"upstream sound speed            : %5.2f\" % c0_s)\n",
    "print(\"upstream Alfven velocity        : %5.2f\" % v0_A)\n",
    "print(\"upstream intermediate velocity  : %5.2f\" % v0_i)\n",
    "print(\"upstream slow velocity          : %5.2f\" % v0_s)\n",
    "print(\"upstream fast velocity          : %5.2f\" % v0_f)"
   ]
  },
  {
   "cell_type": "code",
   "execution_count": null,
   "id": "7a857f61-d141-4925-8d4a-8dbfa5c7b285",
   "metadata": {},
   "outputs": [],
   "source": []
  },
  {
   "cell_type": "code",
   "execution_count": null,
   "id": "49bfc98a-5af5-453c-81dd-fc766e961c5d",
   "metadata": {},
   "outputs": [],
   "source": [
    "print(\"upstream sound speed            : %5.2f\" % c0_s)\n",
    "print(\"upstream Alfven velocity        : %5.2f\" % v0_A)\n",
    "print(\"upstream intermediate velocity  : %5.2f\" % v0_i)\n",
    "print(\"upstream slow velocity          : %5.2f\" % v0_s)\n",
    "print(\"upstream fast velocity          : %5.2f\" % v0_f)"
   ]
  },
  {
   "cell_type": "markdown",
   "id": "d9111201-307a-4673-9ce2-f95c443533cf",
   "metadata": {},
   "source": [
    "# Better using `least_squares`"
   ]
  },
  {
   "cell_type": "code",
   "execution_count": null,
   "id": "d2ac75ea-28af-451a-8dc5-97e01447dd0b",
   "metadata": {},
   "outputs": [],
   "source": [
    "from scipy.optimize import least_squares"
   ]
  },
  {
   "cell_type": "code",
   "execution_count": null,
   "id": "71df091c-4b45-4bd0-9c03-14a64a7b5019",
   "metadata": {},
   "outputs": [],
   "source": [
    "v0_n = v0_n_span[0]\n",
    "#       n1,  v0_T, v1_n, v1_T,   p1, B1_n, B1_T\n",
    "x0 = (0.01,  0.03,  5.1,  4.4,  0.0,  0.9,  0.8)\n",
    "args=(n0, v0_n, p0, B0_n, B0_T)"
   ]
  },
  {
   "cell_type": "code",
   "execution_count": null,
   "id": "61e9ea90-0f69-4be4-a2fb-ebc18fe65773",
   "metadata": {},
   "outputs": [],
   "source": [
    "sol = least_squares(cost, x0, args=args, bounds=([0, np.inf]))"
   ]
  },
  {
   "cell_type": "code",
   "execution_count": null,
   "id": "1f6d86dc-5049-4560-a707-6c594d9b7a28",
   "metadata": {},
   "outputs": [],
   "source": [
    "sol"
   ]
  },
  {
   "cell_type": "code",
   "execution_count": null,
   "id": "f7e17aaa-224d-4f0d-bc9e-b0a6e2087ccc",
   "metadata": {},
   "outputs": [],
   "source": [
    "n1, v0_T, v1_n, v1_T, p1, B1_n, B1_T = sol.x"
   ]
  },
  {
   "cell_type": "code",
   "execution_count": null,
   "id": "aae3cf56-d5d0-4880-9c69-22b5f6056eab",
   "metadata": {},
   "outputs": [],
   "source": [
    "theta1 = np.arctan2(B1_T, B1_n)"
   ]
  },
  {
   "cell_type": "code",
   "execution_count": null,
   "id": "e7a57ec3-4320-48b0-9245-2d5c4187e091",
   "metadata": {},
   "outputs": [],
   "source": [
    "gamma = 5./3.\n",
    "\n",
    "# ___ magnetic field :\n",
    "B0 = np.sqrt(B0_n**2+B0_T**2)\n",
    "B1 = np.sqrt(B1_n**2+B1_T**2)\n",
    "\n",
    "# ___ intermediate velocity :\n",
    "v0_i = B0_n/np.sqrt(n0)\n",
    "v1_i = B1_n/np.sqrt(n1)\n",
    "\n",
    "# ___ Alfven velocity :\n",
    "v0_A = B0/np.sqrt(n0)\n",
    "v1_A = B1/np.sqrt(n1)\n",
    "\n",
    "# ___ sound speed :\n",
    "c0_s = np.sqrt(gamma*p0/n0)\n",
    "c1_s = np.sqrt(gamma*p1/n1)\n",
    "\n",
    "# ___ slow mode :\n",
    "v0_s = np.sqrt(0.5*(v0_A**2+c0_s**2-np.sqrt((v0_A**2+c0_s**2)**2-4.0*v0_A**2*c0_s**2*(np.cos(theta0))**2)))\n",
    "v1_s = np.sqrt(0.5*(v1_A**2+c1_s**2-np.sqrt((v1_A**2+c1_s**2)**2-4.0*v1_A**2*c1_s**2*(np.cos(theta1))**2)))\n",
    "\n",
    "# ___ fast mode :\n",
    "v0_f = np.sqrt(0.5*(v0_A**2+c0_s**2+np.sqrt((v0_A**2+c0_s**2)**2-4.0*v0_A**2*c0_s**2*(np.cos(theta0))**2)))\n",
    "v1_f = np.sqrt(0.5*(v1_A**2+c1_s**2+np.sqrt((v1_A**2+c1_s**2)**2-4.0*v1_A**2*c1_s**2*(np.cos(theta1))**2)))"
   ]
  },
  {
   "cell_type": "code",
   "execution_count": null,
   "id": "3d2e6814-25f4-41ae-bd57-f638ee788ebb",
   "metadata": {},
   "outputs": [],
   "source": [
    "print(\"density  : %5.2f   ---  %5.2f\" % (n0, n1))\n",
    "print(\"U normal : %5.2f   ---  %5.2f\" % (v0_n, v1_n))\n",
    "print(\"U tang   : %5.2f   ---  %5.2f\" % (v0_T, v1_T))\n",
    "print(\"pressure : %5.2f   ---  %5.2f\" % (p0, p1))\n",
    "print(\"B normal : %5.2f   ---  %5.2f\" % (B0_n, B1_n))\n",
    "print(\"B tang   : %5.2f   ---  %5.2f\" % (B0_T, B1_T))"
   ]
  },
  {
   "cell_type": "code",
   "execution_count": null,
   "id": "0b4b92f7-50ed-4d75-b261-d2081b96e3f0",
   "metadata": {},
   "outputs": [],
   "source": []
  },
  {
   "cell_type": "code",
   "execution_count": null,
   "id": "1e1caab2-ec24-4a77-bf4a-842c247f3ec4",
   "metadata": {},
   "outputs": [],
   "source": [
    "from scipy.optimize import least_squares"
   ]
  },
  {
   "cell_type": "code",
   "execution_count": null,
   "id": "340179d6-bb2c-4f1a-867e-6ea152840acc",
   "metadata": {},
   "outputs": [],
   "source": [
    "vmin = 0.2\n",
    "vmax = 1.8\n",
    "dv = 0.05\n",
    "\n",
    "v0_n_span = np.linspace(vmin+dv, vmax-dv, 400)\n",
    "\n",
    "v1_n_span = np.zeros_like(v0_n_span)"
   ]
  },
  {
   "cell_type": "code",
   "execution_count": null,
   "id": "3718a6cf-e8f8-452f-b7fa-01c3ace95d13",
   "metadata": {},
   "outputs": [],
   "source": [
    "#       n1,  v0_T,  v1_n,  v1_T,   p1,  B1_n,  B1_T\n",
    "x0 = (0.18,  0.13,  1.25,  1.10,  0.0,  0.87,  0.75)\n",
    "\n",
    "for i, v0_n in enumerate(v0_n_span):\n",
    "    args=(n0, v0_n, p0, B0_n, B0_T)\n",
    "    sol = least_squares(cost, x0, args=args, bounds=([0, np.inf]), method='trf')\n",
    "    n1, v0_T, v1_n, v1_T, p1, B1_n, B1_T = sol.x\n",
    "    v1_n_span[i] = v1_n\n",
    "    x0 = sol.x\n",
    "    print(x0)"
   ]
  },
  {
   "cell_type": "code",
   "execution_count": null,
   "id": "255f2195-979a-4830-9990-8b2088b7f2b9",
   "metadata": {},
   "outputs": [],
   "source": [
    "# print(v0_n_span, v1_n_span)"
   ]
  },
  {
   "cell_type": "code",
   "execution_count": null,
   "id": "c1800e98-50ab-49e6-8586-53252034568f",
   "metadata": {},
   "outputs": [],
   "source": [
    "fig, ax = plt.subplots(figsize=(5, 5))\n",
    "\n",
    "ax.plot(v0_n_span, v1_n_span)\n",
    "ax.plot([0, vmax], [0, vmax])\n",
    "ax.set_xlim([0, 2])\n",
    "ax.set_ylim([0, 2])\n",
    "ax.set_xlabel(\"vO_n (upstream)\")\n",
    "ax.set_ylabel(\"v1_n (downstream)\")"
   ]
  },
  {
   "cell_type": "code",
   "execution_count": null,
   "id": "ea18f549-532e-4e07-b9ac-e96b9b6ba6a9",
   "metadata": {},
   "outputs": [],
   "source": []
  },
  {
   "cell_type": "code",
   "execution_count": null,
   "id": "00b6e1c2-a7ad-45ed-9e47-c9911a14d608",
   "metadata": {},
   "outputs": [],
   "source": [
    "vmin = 0.585\n",
    "vmax = 0.915\n",
    "dv = 0.05\n",
    "print(vmin+dv, vmax-dv)\n",
    "v0_n_span = np.linspace(vmin+dv, vmax-dv, 400)\n",
    "\n",
    "v1_n_span = np.zeros_like(v0_n_span)"
   ]
  },
  {
   "cell_type": "code",
   "execution_count": null,
   "id": "11edf002-692b-49c6-81cb-cb0d0309e97d",
   "metadata": {},
   "outputs": [],
   "source": [
    "# v0_n_span"
   ]
  },
  {
   "cell_type": "code",
   "execution_count": null,
   "id": "8391ad1d-70fc-4338-885c-c6031d4e04dd",
   "metadata": {},
   "outputs": [],
   "source": [
    "#       n1,  v0_T,  v1_n,  v1_T,    p1,  B1_n,  B1_T\n",
    "x0 = (0.10,  0.10,  3.60,  1.10,  1.00,  0.87,  0.05)\n",
    "\n",
    "for i, v0_n in enumerate(v0_n_span):\n",
    "    args=(n0, v0_n, p0, B0_n, B0_T)\n",
    "    sol = least_squares(cost, x0, args=args, bounds=([0, np.inf]), method='trf')\n",
    "    n1, v0_T, v1_n, v1_T, p1, B1_n, B1_T = sol.x\n",
    "    v1_n_span[i] = v1_n\n",
    "    x0 = sol.x\n",
    "    # print(x0)"
   ]
  },
  {
   "cell_type": "code",
   "execution_count": null,
   "id": "7b0ff902-05a2-42b4-9ef1-97e347c1132e",
   "metadata": {},
   "outputs": [],
   "source": [
    "%matplotlib widget\n",
    "    \n",
    "fig, ax = plt.subplots(figsize=(5, 5))\n",
    "\n",
    "ax.plot([0, vmax], [0, vmax])\n",
    "ax.plot(v0_n_span, v1_n_span, lw=4)\n",
    "ax.set_xlim([0, 2])\n",
    "ax.set_ylim([0, 2])\n",
    "ax.set_xlabel(\"vO_n (upstream)\")\n",
    "ax.set_ylabel(\"v1_n (downstream)\")"
   ]
  },
  {
   "cell_type": "code",
   "execution_count": null,
   "id": "84db1b0d-b013-4d31-b283-d0cb3d187703",
   "metadata": {},
   "outputs": [],
   "source": [
    "# v1_n_span"
   ]
  },
  {
   "cell_type": "code",
   "execution_count": null,
   "id": "0dcf882d-436e-452f-b353-59b36146253f",
   "metadata": {},
   "outputs": [],
   "source": [
    "plt.clf()"
   ]
  },
  {
   "cell_type": "code",
   "execution_count": null,
   "id": "8606bd30-ac71-41ce-a051-b1524f23e3f9",
   "metadata": {},
   "outputs": [],
   "source": []
  },
  {
   "cell_type": "code",
   "execution_count": null,
   "id": "720ff12c-a545-47bc-b3f0-2a10e1f01cd9",
   "metadata": {},
   "outputs": [],
   "source": [
    "from scipy.optimize import fsolve\n",
    "import numpy as np\n",
    "def func(x):\n",
    "    return [x[0] * np.cos(x[1]) - 4,\n",
    "            x[1] * x[0] - x[1] - 5]"
   ]
  },
  {
   "cell_type": "code",
   "execution_count": null,
   "id": "3e43661c-be9e-49ef-8f4e-9bd182fe7834",
   "metadata": {},
   "outputs": [],
   "source": [
    "root = fsolve(func, [1, 1])"
   ]
  },
  {
   "cell_type": "code",
   "execution_count": null,
   "id": "a4523372-4c7f-43f0-ba63-16310911f7bb",
   "metadata": {},
   "outputs": [],
   "source": [
    "root"
   ]
  },
  {
   "cell_type": "code",
   "execution_count": null,
   "id": "8302ebe3-bcf1-4a3c-9d2f-9b970c6e8040",
   "metadata": {},
   "outputs": [],
   "source": [
    "np.isclose(func(root), [0.0, 0.0])  # func(root) should be almost 0.0."
   ]
  },
  {
   "cell_type": "code",
   "execution_count": null,
   "id": "df130c56-e3a1-442f-99cc-ce0edd79c958",
   "metadata": {},
   "outputs": [],
   "source": [
    "from scipy.optimize import fsolve\n",
    "import numpy as np\n",
    "def func(x, *args):\n",
    "    x0, x1 = x\n",
    "    a, b = args\n",
    "    return [x0 * np.cos(x1) - a,\n",
    "            x1 * x0 - x1 - b]"
   ]
  },
  {
   "cell_type": "code",
   "execution_count": null,
   "id": "138637c4-143e-4ef5-8c6d-7c32edd4fa32",
   "metadata": {},
   "outputs": [],
   "source": [
    "x0 = (1, 1)\n",
    "args = (4, 5)\n",
    "root = fsolve(func, x0, args=args)"
   ]
  },
  {
   "cell_type": "code",
   "execution_count": null,
   "id": "2b680796-1a4b-4709-8334-cfe0328cd571",
   "metadata": {},
   "outputs": [],
   "source": [
    "root"
   ]
  }
 ],
 "metadata": {
  "kernelspec": {
   "display_name": "Python 3 (ipykernel)",
   "language": "python",
   "name": "python3"
  },
  "language_info": {
   "codemirror_mode": {
    "name": "ipython",
    "version": 3
   },
   "file_extension": ".py",
   "mimetype": "text/x-python",
   "name": "python",
   "nbconvert_exporter": "python",
   "pygments_lexer": "ipython3",
   "version": "3.12.6"
  }
 },
 "nbformat": 4,
 "nbformat_minor": 5
}
